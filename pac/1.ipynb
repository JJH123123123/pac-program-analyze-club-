{
 "cells": [
  {
   "cell_type": "markdown",
   "metadata": {},
   "source": [
    "<h1> 파이썬이란 ?</h1> "
   ]
  },
  {
   "cell_type": "markdown",
   "metadata": {
    "collapsed": false
   },
   "source": [
    "이란 주제를 \n",
    "1. 알아야 하는 것들 3가지 : built-in, help, docs\n",
    "2. class \n",
    "3. int, float, str, list, dict, tuple\n",
    "4. Errors\n",
    "5. how to use package? library?"
   ]
  },
  {
   "cell_type": "code",
   "execution_count": 48,
   "metadata": {},
   "outputs": [
    {
     "name": "stdout",
     "output_type": "stream",
     "text": [
      "1 <class 'int'>\n",
      "[1, 2, 3] <class 'list'>\n",
      "12323 <class 'str'>\n",
      "3.131 <class 'float'>\n"
     ]
    }
   ],
   "source": [
    "a = 1 \n",
    "print(a, type(a))\n",
    "a = [1,2,3]\n",
    "print(a, type(a)) # 동적 언어의 특징\n",
    "a = \"12323\"\n",
    "print(a,type(a))\n",
    "a = 3.131\n",
    "print(a,type(a))"
   ]
  },
  {
   "cell_type": "markdown",
   "metadata": {},
   "source": [
    "<h1> built-in commands </h1>\n",
    "<h3> built-in 명령어란, 어떠한 라이브러리나 패키지 없이 실행할 수 있는 명령어을 말합니다.</h3>\n",
    "<H3> 이는 \"dir(__builtins__)\" 라는 명령어를 통해서 확인할 수 있습니다. </h3>"
   ]
  },
  {
   "cell_type": "code",
   "execution_count": 64,
   "metadata": {},
   "outputs": [
    {
     "name": "stdout",
     "output_type": "stream",
     "text": [
      "########################\n",
      "#  builtin 명령어입니다.  #\n",
      "########################\n",
      "\n",
      "ArithmeticError AssertionError AttributeError BaseException BaseExceptionGroup BlockingIOError BrokenPipeError BufferError\n",
      "BufferError BytesWarning ChildProcessError ConnectionAbortedError ConnectionError ConnectionRefusedError ConnectionResetError DeprecationWarning\n",
      "DeprecationWarning EOFError Ellipsis EncodingWarning EnvironmentError Exception ExceptionGroup False\n",
      "False FileExistsError FileNotFoundError FloatingPointError FutureWarning GeneratorExit IOError ImportError\n",
      "ImportError ImportWarning IndentationError IndexError InterruptedError IsADirectoryError KeyError KeyboardInterrupt\n",
      "KeyboardInterrupt LookupError MemoryError ModuleNotFoundError NameError None NotADirectoryError NotImplemented\n",
      "NotImplemented NotImplementedError OSError OverflowError PendingDeprecationWarning PermissionError ProcessLookupError RecursionError\n",
      "RecursionError ReferenceError ResourceWarning RuntimeError RuntimeWarning StopAsyncIteration StopIteration SyntaxError\n",
      "SyntaxError SyntaxWarning SystemError SystemExit TabError TimeoutError True TypeError\n",
      "TypeError UnboundLocalError UnicodeDecodeError UnicodeEncodeError UnicodeError UnicodeTranslateError UnicodeWarning UserWarning\n",
      "UserWarning ValueError Warning ZeroDivisionError __IPYTHON__ __build_class__ __debug__ __doc__\n",
      "__doc__ __import__ __loader__ __name__ __package__ __spec__ abs aiter\n",
      "aiter all anext any ascii bin bool breakpoint\n",
      "breakpoint bytearray bytes callable chr classmethod compile complex\n",
      "complex copyright credits delattr dict dir display divmod\n",
      "divmod enumerate eval exec execfile filter float format\n",
      "format frozenset get_ipython getattr globals hasattr hash help\n",
      "help hex id input int isinstance issubclass iter\n",
      "iter len license list locals map max memoryview\n",
      "memoryview min next object oct open ord pow\n",
      "pow print property range repr reversed round runfile\n",
      "runfile set setattr slice sorted staticmethod str sum\n",
      "sum super tuple type vars zip "
     ]
    }
   ],
   "source": [
    "\n",
    "# 명령어\n",
    "print(\"########################\")\n",
    "print(\"#  builtin 명령어입니다.  #\")\n",
    "print(\"########################\")\n",
    "print()\n",
    "cnt = 0\n",
    "for order in dir(__builtins__):\n",
    "    if(cnt==7):\n",
    "        print(order)\n",
    "        cnt%=7\n",
    "    print(order,end=\" \")\n",
    "    cnt+=1\n",
    "# 명령어 이외 쓸 수 있는 클래스들 \n",
    "# print(dir(__build_class__)[::-1])"
   ]
  },
  {
   "cell_type": "markdown",
   "metadata": {},
   "source": [
    "<h1> 원칙 1. 모르면 help </h1>"
   ]
  },
  {
   "cell_type": "code",
   "execution_count": 68,
   "metadata": {},
   "outputs": [
    {
     "name": "stdout",
     "output_type": "stream",
     "text": [
      "Help on built-in function print in module builtins:\n",
      "\n",
      "print(*args, sep=' ', end='\\n', file=None, flush=False)\n",
      "    Prints the values to a stream, or to sys.stdout by default.\n",
      "    \n",
      "    sep\n",
      "      string inserted between values, default a space.\n",
      "    end\n",
      "      string appended after the last value, default a newline.\n",
      "    file\n",
      "      a file-like object (stream); defaults to the current sys.stdout.\n",
      "    flush\n",
      "      whether to forcibly flush the stream.\n"
     ]
    }
   ],
   "source": [
    "help(print)"
   ]
  },
  {
   "cell_type": "code",
   "execution_count": 84,
   "metadata": {},
   "outputs": [
    {
     "name": "stdout",
     "output_type": "stream",
     "text": [
      "a here b here c+\n"
     ]
    }
   ],
   "source": [
    "print(\"a\", \"b\", \"c\",sep=\" here \", end=\"+\\n\",file=None, flush=False)"
   ]
  },
  {
   "cell_type": "code",
   "execution_count": null,
   "metadata": {},
   "outputs": [],
   "source": []
  },
  {
   "cell_type": "code",
   "execution_count": null,
   "metadata": {},
   "outputs": [],
   "source": []
  },
  {
   "cell_type": "markdown",
   "metadata": {},
   "source": [
    "<h1>원칙 2. 모르면 DOCS </h1>\n",
    "<h2> <a href=\"https://docs.python.org/3/contents.html\"> 파이썬 docs 링크</a></h2>"
   ]
  },
  {
   "cell_type": "markdown",
   "metadata": {},
   "source": [
    "<!DOCTYPE html>\n",
    "<html>\n",
    "<head>\n",
    "  <title>Pow Function Documentation</title>\n",
    "</head>\n",
    "<body>\n",
    "\n",
    "  <h1><code>pow(base, exp, mod=None)</code></h1>\n",
    "  \n",
    "  <p>Return <span style=\"color:blue;\"><code>base</code></span> to the power <span style=\"color:blue;\"><code>exp</code></span>; \n",
    "  if <span style=\"color:green;\"><code>mod</code></span> is present, return <span style=\"color:blue;\"><code>base</code></span> \n",
    "  to the power <span style=\"color:blue;\"><code>exp</code></span>, modulo <span style=\"color:green;\"><code>mod</code></span> \n",
    "  (computed more efficiently than <code>pow(base, exp) % mod</code>).</p>\n",
    "\n",
    "  <h2>Two-argument Form</h2>\n",
    "  \n",
    "  <p>The two-argument form <code>pow(base, exp)</code> is equivalent to using the power operator: <code>base**exp</code>.</p>\n",
    "\n",
    "  <h2>Numeric Types</h2>\n",
    "\n",
    "  <p>The arguments must have <span style=\"color:red;\">numeric types</span>. With mixed operand types, the coercion rules for binary arithmetic operators apply.</p>\n",
    "\n",
    "  <h2>Special Cases</h2>\n",
    "\n",
    "  <ul>\n",
    "    <li>For <code>int</code> operands, the result has the same type as the operands (after coercion) unless the second argument is negative; in that case, all arguments are converted to float and a float result is delivered.</li>\n",
    "    <li>For a negative base of type <code>int</code> or <code>float</code> and a non-integral exponent, a <span style=\"color:purple;\">complex result</span> is delivered.</li>\n",
    "  </ul>\n",
    "\n",
    "  <h2>Modulo</h2>\n",
    "\n",
    "  <p>For <code>int</code> operands <span style=\"color:blue;\"><code>base</code></span> and <span style=\"color:blue;\"><code>exp</code></span>, \n",
    "  if <span style=\"color:green;\"><code>mod</code></span> is present, <span style=\"color:green;\"><code>mod</code></span> must also be of \n",
    "  integer type and <span style=\"color:green;\"><code>mod</code></span> must be nonzero. If <span style=\"color:green;\"><code>mod</code></span> \n",
    "  is present and <span style=\"color:blue;\"><code>exp</code></span> is negative, <span style=\"color:blue;\"><code>base</code></span> \n",
    "  must be relatively prime to <span style=\"color:green;\"><code>mod</code></span>.</p>\n",
    "\n",
    "</body>\n",
    "</html>"
   ]
  },
  {
   "cell_type": "code",
   "execution_count": 117,
   "metadata": {},
   "outputs": [
    {
     "data": {
      "text/plain": [
       "1"
      ]
     },
     "execution_count": 117,
     "metadata": {},
     "output_type": "execute_result"
    }
   ],
   "source": [
    "pow(2,32,5)"
   ]
  },
  {
   "cell_type": "code",
   "execution_count": 145,
   "metadata": {},
   "outputs": [
    {
     "data": {
      "text/plain": [
       "1"
      ]
     },
     "execution_count": 145,
     "metadata": {},
     "output_type": "execute_result"
    }
   ],
   "source": [
    "pow(-2,1,3)"
   ]
  },
  {
   "cell_type": "code",
   "execution_count": 146,
   "metadata": {},
   "outputs": [
    {
     "data": {
      "text/plain": [
       "16"
      ]
     },
     "execution_count": 146,
     "metadata": {},
     "output_type": "execute_result"
    }
   ],
   "source": [
    "pow(2,4)"
   ]
  },
  {
   "cell_type": "code",
   "execution_count": null,
   "metadata": {
    "is_executing": true
   },
   "outputs": [],
   "source": [
    "pow(0.3,4)"
   ]
  },
  {
   "cell_type": "markdown",
   "metadata": {},
   "source": [
    "<h1> input </h1>"
   ]
  },
  {
   "cell_type": "markdown",
   "metadata": {},
   "source": [
    "<h4> default input : return type str</h4>"
   ]
  },
  {
   "cell_type": "code",
   "execution_count": 10,
   "metadata": {
    "is_executing": true
   },
   "outputs": [
    {
     "name": "stdout",
     "output_type": "stream",
     "text": [
      "Help on method raw_input in module ipykernel.kernelbase:\n",
      "\n",
      "raw_input(prompt='') method of ipykernel.ipkernel.IPythonKernel instance\n",
      "    Forward raw_input to frontends\n",
      "    \n",
      "    Raises\n",
      "    ------\n",
      "    StdinNotImplementedError if active frontend doesn't support stdin.\n",
      "\n"
     ]
    }
   ],
   "source": [
    "help(input)"
   ]
  },
  {
   "cell_type": "code",
   "execution_count": 11,
   "metadata": {},
   "outputs": [],
   "source": [
    "a= input(\"한글을 입력해주세요\")"
   ]
  },
  {
   "cell_type": "code",
   "execution_count": 3,
   "metadata": {
    "ExecuteTime": {
     "end_time": "2023-10-26T17:42:46.753339Z",
     "start_time": "2023-10-26T17:42:45.677287Z"
    }
   },
   "outputs": [
    {
     "name": "stdout",
     "output_type": "stream",
     "text": [
      "1\n",
      "2\n",
      "3\n",
      "4\n",
      "5\n",
      "6\n",
      "7\n"
     ]
    }
   ],
   "source": [
    "\n",
    "with open(\"1.txt\", \"r\") as f:\n",
    "    for line in f.readlines():\n",
    "        print(line.strip('\\n'))"
   ]
  },
  {
   "cell_type": "markdown",
   "metadata": {},
   "source": [
    "<h1>output</h1>"
   ]
  },
  {
   "cell_type": "markdown",
   "metadata": {},
   "source": [
    "<h2> print </h2>\n",
    "<ul> \n",
    "    <li> <h4>  default </h4></li>\n",
    "    <li> <h4>  using Modulo Operator % like %d, %f, %s etc </h4> </li>\n",
    "    <li> <h4>  .format </h4> </li>\n",
    "    <li> <h4> f-string </h4>\n",
    "</ul>"
   ]
  },
  {
   "cell_type": "markdown",
   "metadata": {},
   "source": [
    "<h4> First default </h4>"
   ]
  },
  {
   "cell_type": "code",
   "execution_count": 1,
   "metadata": {},
   "outputs": [
    {
     "name": "stdout",
     "output_type": "stream",
     "text": [
      "Effective Java \\(2017, Addison-Wesley\\).pdf\n"
     ]
    }
   ],
   "source": [
    "# default\n",
    "print(\"Effective Java \\(2017, Addison-Wesley\\).pdf\")"
   ]
  },
  {
   "cell_type": "markdown",
   "metadata": {},
   "source": [
    "<h4> Modulo Operator </h4>"
   ]
  },
  {
   "cell_type": "code",
   "execution_count": 3,
   "metadata": {},
   "outputs": [
    {
     "name": "stdout",
     "output_type": "stream",
     "text": [
      "1 23212.424 abab\n"
     ]
    }
   ],
   "source": [
    "print(\"%d %4.3f %s\" %(1, 23212.424242, \"abab\"))"
   ]
  },
  {
   "cell_type": "markdown",
   "metadata": {},
   "source": [
    "<h4> formatting </h4>"
   ]
  },
  {
   "cell_type": "code",
   "execution_count": 4,
   "metadata": {},
   "outputs": [
    {
     "name": "stdout",
     "output_type": "stream",
     "text": [
      "1 23212.424242 ababa\n"
     ]
    }
   ],
   "source": [
    "print(\"{0} {1} {2}\".format(1, 23212.424242, \"ababa\"))"
   ]
  },
  {
   "cell_type": "code",
   "execution_count": 5,
   "metadata": {},
   "outputs": [
    {
     "name": "stdout",
     "output_type": "stream",
     "text": [
      "1 23212.424 ababa\n"
     ]
    }
   ],
   "source": [
    "print(\"{0} {1:4.3f} {2}\".format(1, 23212.424242, \"ababa\"))"
   ]
  },
  {
   "cell_type": "markdown",
   "metadata": {},
   "source": [
    "<h4> f-string </h4>"
   ]
  },
  {
   "cell_type": "code",
   "execution_count": 8,
   "metadata": {},
   "outputs": [
    {
     "name": "stdout",
     "output_type": "stream",
     "text": [
      "1 23212.424242 ababa\n"
     ]
    }
   ],
   "source": [
    "print(f\"{1} {23212.424242} {'ababa'}\")"
   ]
  },
  {
   "cell_type": "markdown",
   "metadata": {},
   "source": [
    "<h2> file output </h2>"
   ]
  },
  {
   "cell_type": "code",
   "execution_count": null,
   "metadata": {},
   "outputs": [],
   "source": [
    "import sys \n",
    "\n",
    "with open('/Users/jinhojeon/Documents/algo/1.txt','r+') as f:\n",
    "    f.seek(0)\n",
    "    for line in f:\n",
    "        sys.stdout.write(line)\n",
    "f.close()"
   ]
  },
  {
   "cell_type": "markdown",
   "metadata": {},
   "source": [
    "<h1>Before Class : definition of function </h1>"
   ]
  },
  {
   "cell_type": "code",
   "execution_count": null,
   "metadata": {},
   "outputs": [],
   "source": [
    "def name(parameter1:int, parater2:str)->int: # type hint -> return type\n",
    "\n",
    "        # implement your function \n",
    "        \n",
    "        return 0 # return type int "
   ]
  },
  {
   "cell_type": "code",
   "execution_count": 86,
   "metadata": {},
   "outputs": [],
   "source": [
    "def gcd(a:int, b:int):\n",
    "    if b==0:\n",
    "        return a\n",
    "    return gcd(b,a%b)"
   ]
  },
  {
   "cell_type": "code",
   "execution_count": null,
   "metadata": {},
   "outputs": [],
   "source": [
    "input(\"ab \", )"
   ]
  },
  {
   "cell_type": "code",
   "execution_count": 87,
   "metadata": {},
   "outputs": [
    {
     "name": "stdout",
     "output_type": "stream",
     "text": [
      "5\n"
     ]
    }
   ],
   "source": [
    "print(gcd(5,5))"
   ]
  },
  {
   "cell_type": "code",
   "execution_count": 88,
   "metadata": {},
   "outputs": [
    {
     "name": "stdout",
     "output_type": "stream",
     "text": [
      "(1, 2, -9)\n",
      "1 = 2*23 + -9*5\n"
     ]
    }
   ],
   "source": [
    "def ext_gcd(a,b):\n",
    "    if b==0:\n",
    "        return a,1,0\n",
    "    GCD, x, y = ext_gcd(b,a%b)\n",
    "    x, y = y, x - (a//b) * y\n",
    "    return GCD, x, y\n",
    "\n",
    "print(ext_gcd(23,5))\n",
    "d,x,y = ext_gcd(23,5)\n",
    "print(f\"{d} = {x}*23 + {y}*5\")"
   ]
  },
  {
   "cell_type": "markdown",
   "metadata": {},
   "source": [
    "# define your own func"
   ]
  },
  {
   "cell_type": "code",
   "execution_count": null,
   "metadata": {},
   "outputs": [],
   "source": []
  },
  {
   "cell_type": "markdown",
   "metadata": {},
   "source": [
    "# define the function which determines the existence of quadratic equation given by ax^2 + bx + c = d "
   ]
  },
  {
   "cell_type": "code",
   "execution_count": null,
   "metadata": {},
   "outputs": [],
   "source": []
  },
  {
   "cell_type": "code",
   "execution_count": null,
   "metadata": {},
   "outputs": [],
   "source": []
  },
  {
   "cell_type": "markdown",
   "metadata": {},
   "source": [
    "<h2>1. Class ? What is Class?</h2>"
   ]
  },
  {
   "cell_type": "markdown",
   "metadata": {},
   "source": [
    "변수를 설명하기 전에 먼저 class부터 설명하려고 합니다.  \n",
    "여기서 알아갈 것은\n",
    "1. class란? \n",
    "2. attribute란 \n",
    "3. method란\n",
    "4. instance란 \n",
    "5. decorator \n"
   ]
  },
  {
   "cell_type": "markdown",
   "metadata": {},
   "source": [
    "1. class란? \n",
    "    - 기본 클래스 선언 \n",
    "    - inheritance(상속)\n",
    "    - inner class(내부 클래스)"
   ]
  },
  {
   "cell_type": "markdown",
   "metadata": {},
   "source": [
    "- 기본 클래스 "
   ]
  },
  {
   "cell_type": "code",
   "execution_count": 10,
   "metadata": {},
   "outputs": [
    {
     "name": "stdout",
     "output_type": "stream",
     "text": [
      "1\n",
      "3\n"
     ]
    }
   ],
   "source": [
    "class A:\n",
    "\n",
    "    def __init__(self, a:int):\n",
    "        self.a=a\n",
    "        return \n",
    "        \n",
    "a1 = A(1)\n",
    "print(a1.a)\n",
    "    \n",
    "    "
   ]
  },
  {
   "cell_type": "markdown",
   "metadata": {},
   "source": [
    "- 클래스의 상속 "
   ]
  },
  {
   "cell_type": "code",
   "execution_count": 40,
   "metadata": {},
   "outputs": [
    {
     "name": "stdout",
     "output_type": "stream",
     "text": [
      "3\n",
      "2\n",
      "1\n",
      "done\n"
     ]
    }
   ],
   "source": [
    "\n",
    "class B:\n",
    "    _data = []\n",
    "\n",
    "    def __init__(self, b:list[int]):\n",
    "        # self._data = b\n",
    "        n = len(b) # list b의 길이 \n",
    "        for i in range(n):\n",
    "            self._data.append(b[i])\n",
    "\n",
    "    \n",
    "    def add(self,item:int):\n",
    "        self._data.append(item)\n",
    "\n",
    "\n",
    "class C(B):\n",
    "\n",
    "    \n",
    "    def pop_back(self) ->int:\n",
    "        return self._data.pop();\n",
    "\n",
    "C1 = C([1,2,3])\n",
    "while(len(C1._data)>0):\n",
    "    print(C1.pop_back())\n",
    "print(\"done\")\n",
    "    "
   ]
  },
  {
   "cell_type": "markdown",
   "metadata": {},
   "source": [
    "- 내부 클래스 "
   ]
  },
  {
   "cell_type": "code",
   "execution_count": 156,
   "metadata": {},
   "outputs": [
    {
     "name": "stdout",
     "output_type": "stream",
     "text": [
      "hello this is outer\n",
      "this is inner class with 30\n"
     ]
    }
   ],
   "source": [
    "class OuterClass:\n",
    "    def __init__(self, value):\n",
    "        self.value = value\n",
    "        self.inner = self.InnerClass(value+10)\n",
    "\n",
    "    \n",
    "    def show(self):\n",
    "        print(\"hello this is outer\")\n",
    "        self.inner.display()\n",
    "\n",
    "    def set_inner_value(self, value):\n",
    "        self.inner = self.InnerClass(value)\n",
    "\n",
    "    class InnerClass:\n",
    "        \n",
    "        def __init__(self, inner_value) -> None:\n",
    "            self.inner_value = inner_value\n",
    "\n",
    "        def display(self):\n",
    "            print(\"this is inner class with {0}\".format(self.inner_value))\n",
    "\n",
    "\n",
    "outer = OuterClass(10)\n",
    "outer.set_inner_value(30)\n",
    "\n",
    "outer.show()\n",
    "\n"
   ]
  },
  {
   "cell_type": "markdown",
   "metadata": {
    "collapsed": false
   },
   "source": [
    "<h1> 2. Attribute란 </h1> "
   ]
  },
  {
   "cell_type": "code",
   "execution_count": 1,
   "metadata": {
    "ExecuteTime": {
     "end_time": "2023-10-29T14:53:17.785436Z",
     "start_time": "2023-10-29T14:53:17.772134Z"
    }
   },
   "outputs": [],
   "source": [
    "class MyClass:\n",
    "    class_attribute = \"This is a class atrribute\""
   ]
  },
  {
   "cell_type": "code",
   "execution_count": 2,
   "metadata": {
    "ExecuteTime": {
     "end_time": "2023-10-29T14:53:30.277423Z",
     "start_time": "2023-10-29T14:53:30.244866Z"
    }
   },
   "outputs": [
    {
     "data": {
      "text/plain": [
       "'This is a class atrribute'"
      ]
     },
     "execution_count": 2,
     "metadata": {},
     "output_type": "execute_result"
    }
   ],
   "source": [
    "a = MyClass()\n",
    "a.class_attribute"
   ]
  },
  {
   "cell_type": "markdown",
   "metadata": {},
   "source": [
    "<h3> - private in python class</h3>\n",
    "<h4> \"_\" + \"_\"를 변수 앞에 \n",
    "<h4>"
   ]
  },
  {
   "cell_type": "code",
   "execution_count": 9,
   "metadata": {
    "ExecuteTime": {
     "end_time": "2023-10-29T15:34:21.837863Z",
     "start_time": "2023-10-29T15:34:21.807538Z"
    }
   },
   "outputs": [
    {
     "name": "stdout",
     "output_type": "stream",
     "text": [
      "3\n",
      "2\n",
      "1\n"
     ]
    }
   ],
   "source": [
    "\n",
    "class B:\n",
    "    def __init__(self, first_list:list[int]):\n",
    "        self.__data = first_list\n",
    "    \n",
    "    def add(self,item_int:int):\n",
    "        self.__data.append(item_int)\n",
    "        \n",
    "\n",
    "    @property\n",
    "    def length(self):\n",
    "        size = len(self.data)\n",
    "        return size\n",
    "    \n",
    "    @property\n",
    "    def data(self):\n",
    "        return self.__data\n",
    "    \n",
    "    \n",
    "class C(B):\n",
    "    \n",
    "    def pop_back(self) ->int:\n",
    "        return self.data.pop()\n",
    "    \n",
    "    def pop_back_good(self):\n",
    "        \n",
    "        back = super().data\n",
    "        return back.pop()\n",
    "    \n",
    "C1 = C([1,2,3])\n",
    "# while(len(C1.__data)>0):\n",
    "#     print(C1.pop_back())\n",
    "# print(\"done\")\n",
    "\n",
    "while C1.length:    \n",
    "    print(C1.pop_back_good())\n",
    "    "
   ]
  },
  {
   "cell_type": "markdown",
   "metadata": {
    "collapsed": false
   },
   "source": [
    "<h2> - instance variable vs class variable </h2>"
   ]
  },
  {
   "cell_type": "code",
   "execution_count": null,
   "metadata": {
    "collapsed": false
   },
   "outputs": [],
   "source": [
    "class Difference:\n",
    "    List = []\n",
    "    \n",
    "    def __init__(self, first:list[int]):\n",
    "        self.list = first\n",
    "        \n",
    "    def __len__(self): # list size \n",
    "        return len(self.List)\n",
    "    \n",
    "    def __abs__(self):\n",
    "        return abs(10)\n",
    "    \n",
    "first_List = Difference([1,2,3])\n",
    "print(len(first_List), len(first_List.list)) ## ?\n",
    "print(abs(first_List)) # 이부분은 method에서 좀 더 자세히"
   ]
  },
  {
   "cell_type": "markdown",
   "metadata": {
    "ExecuteTime": {
     "end_time": "2023-10-29T15:12:16.941574Z",
     "start_time": "2023-10-29T15:12:16.900380Z"
    },
    "collapsed": false
   },
   "source": [
    "<h1>3. method란?</h1>"
   ]
  },
  {
   "cell_type": "markdown",
   "metadata": {
    "collapsed": false
   },
   "source": [
    "<h2> cls vs self </h2>"
   ]
  },
  {
   "cell_type": "code",
   "execution_count": 1,
   "metadata": {
    "ExecuteTime": {
     "end_time": "2023-10-29T15:23:53.215683Z",
     "start_time": "2023-10-29T15:23:53.194759Z"
    }
   },
   "outputs": [
    {
     "name": "stdout",
     "output_type": "stream",
     "text": [
      "0 10\n"
     ]
    }
   ],
   "source": [
    "class A:\n",
    "    cur_time = 0  # 클래스 변수\n",
    "\n",
    "    def __init__(self, current_time):\n",
    "        self.cur_time = current_time  # 인스턴스 변수\n",
    "\n",
    "    @classmethod\n",
    "    def first(cls):\n",
    "        return cls.cur_time\n",
    "\n",
    "a = A(10)\n",
    "print(a.first(), a.cur_time)"
   ]
  },
  {
   "cell_type": "markdown",
   "metadata": {
    "collapsed": false
   },
   "source": [
    "<h2> magic method, special method </h2>"
   ]
  },
  {
   "cell_type": "code",
   "execution_count": 21,
   "metadata": {
    "ExecuteTime": {
     "end_time": "2023-10-29T15:44:53.112841Z",
     "start_time": "2023-10-29T15:44:53.079634Z"
    },
    "collapsed": false
   },
   "outputs": [
    {
     "name": "stdout",
     "output_type": "stream",
     "text": [
      "0 3\n",
      "10\n",
      "[1, 2, 3, 4, 5, 6]\n"
     ]
    }
   ],
   "source": [
    "class Difference:\n",
    "    List = []\n",
    "    \n",
    "    def __init__(self, first:list[int]):\n",
    "        self.list = first\n",
    "        \n",
    "    def __len__(self): # list size \n",
    "        return len(self.List)\n",
    "    \n",
    "    def __abs__(self):\n",
    "        return abs(10)\n",
    "    \n",
    "    def __add__(self, other:list[int]):\n",
    "        return self.list + other\n",
    "    \n",
    "        \n",
    "first_List = Difference([1,2,3])\n",
    "second_List = Difference([4,5,6])\n",
    "print(len(first_List), len(first_List.list)) ## ?\n",
    "print(abs(first_List))\n",
    "print(first_List + second_List.list)\n"
   ]
  },
  {
   "cell_type": "markdown",
   "metadata": {
    "collapsed": false
   },
   "source": [
    "<h1> 4. 인스턴스란? </h1>"
   ]
  },
  {
   "cell_type": "code",
   "execution_count": 22,
   "metadata": {
    "ExecuteTime": {
     "end_time": "2023-10-29T15:45:52.426792Z",
     "start_time": "2023-10-29T15:45:52.390761Z"
    },
    "collapsed": false
   },
   "outputs": [],
   "source": [
    "instance1 = Difference([1,2,3])\n",
    "instance2 = Difference([4,5,6])\n"
   ]
  },
  {
   "cell_type": "code",
   "execution_count": 29,
   "metadata": {
    "ExecuteTime": {
     "end_time": "2023-10-29T15:48:57.493793Z",
     "start_time": "2023-10-29T15:48:57.457446Z"
    },
    "collapsed": false
   },
   "outputs": [
    {
     "name": "stdout",
     "output_type": "stream",
     "text": [
      "True <class '__main__.Difference'>\n"
     ]
    }
   ],
   "source": [
    "print(isinstance(instance1,Difference), type(instance1))"
   ]
  },
  {
   "cell_type": "markdown",
   "metadata": {
    "collapsed": false
   },
   "source": [
    "<h1> decorator란? </h1>"
   ]
  },
  {
   "cell_type": "code",
   "execution_count": 25,
   "metadata": {
    "ExecuteTime": {
     "end_time": "2023-10-29T16:09:25.241296Z",
     "start_time": "2023-10-29T16:09:25.224236Z"
    },
    "collapsed": false
   },
   "outputs": [],
   "source": [
    "class CC:\n",
    "    \n",
    "    def __init__(self, couple:tuple[str,str]):\n",
    "        self.__couple = couple\n",
    "        \n",
    "    @property\n",
    "    def couple(self):\n",
    "        return self.__couple\n",
    "    \n",
    "    \n",
    "    @couple.setter\n",
    "    def couple(self, new_couple):\n",
    "        if isinstance(new_couple, tuple) and len(new_couple) == 2:\n",
    "            self.__couple = new_couple\n",
    "        else:\n",
    "            raise ValueError(\"Invalid value for couple\")\n",
    "    \n",
    "    def get_couple(self):\n",
    "        return self.__couple"
   ]
  },
  {
   "cell_type": "code",
   "execution_count": 27,
   "metadata": {
    "ExecuteTime": {
     "end_time": "2023-10-29T16:10:07.339310Z",
     "start_time": "2023-10-29T16:10:07.319153Z"
    },
    "collapsed": false
   },
   "outputs": [
    {
     "data": {
      "text/plain": [
       "('him', 'her')"
      ]
     },
     "execution_count": 27,
     "metadata": {},
     "output_type": "execute_result"
    }
   ],
   "source": [
    "a_couple = CC((\"him\",\"her\"))\n",
    "a_couple.couple"
   ]
  },
  {
   "cell_type": "code",
   "execution_count": 28,
   "metadata": {
    "ExecuteTime": {
     "end_time": "2023-10-29T16:10:08.679559Z",
     "start_time": "2023-10-29T16:10:08.669147Z"
    },
    "collapsed": false
   },
   "outputs": [
    {
     "data": {
      "text/plain": [
       "('him', 'her')"
      ]
     },
     "execution_count": 28,
     "metadata": {},
     "output_type": "execute_result"
    }
   ],
   "source": [
    "a_couple.get_couple()"
   ]
  },
  {
   "cell_type": "markdown",
   "metadata": {
    "collapsed": false
   },
   "source": [
    "<h2> decorator 정의하기 </h2>"
   ]
  },
  {
   "cell_type": "code",
   "execution_count": 14,
   "metadata": {
    "ExecuteTime": {
     "end_time": "2023-10-29T16:01:34.092784Z",
     "start_time": "2023-10-29T16:01:34.068050Z"
    },
    "collapsed": false
   },
   "outputs": [
    {
     "name": "stdout",
     "output_type": "stream",
     "text": [
      "<function my_decorator.<locals>.wrapper at 0x104753b00>\n",
      "Something is happening before the function is called\n",
      "Hello!\n",
      "Something is happening after the function is called\n"
     ]
    }
   ],
   "source": [
    "def my_decorator(func):\n",
    "    def wrapper():\n",
    "        print(\"Something is happening before the function is called\")\n",
    "        func()\n",
    "        print('Something is happening after the function is called')\n",
    "    return wrapper\n",
    "\n",
    "@my_decorator\n",
    "def say_hello():\n",
    "    print(\"Hello!\")\n",
    "\n",
    "print(say_hello)\n",
    "say_hello()"
   ]
  },
  {
   "cell_type": "markdown",
   "metadata": {
    "collapsed": false
   },
   "source": [
    "<h2> 다른 방식으로 정의하기 </h2>"
   ]
  },
  {
   "cell_type": "code",
   "execution_count": 7,
   "metadata": {
    "ExecuteTime": {
     "end_time": "2023-10-29T16:01:02.000627Z",
     "start_time": "2023-10-29T16:01:01.984059Z"
    },
    "collapsed": false
   },
   "outputs": [
    {
     "name": "stdout",
     "output_type": "stream",
     "text": [
      "Something is happening before the function is called\n",
      "Hello!\n",
      "Something is happening after the function is called\n"
     ]
    }
   ],
   "source": [
    "def say_hello():\n",
    "    print(\"Hello!\")\n",
    "    \n",
    "decorated_say_hello = my_decorator(say_hello)\n",
    "decorated_say_hello()"
   ]
  },
  {
   "cell_type": "code",
   "execution_count": null,
   "metadata": {},
   "outputs": [],
   "source": []
  },
  {
   "cell_type": "code",
   "execution_count": null,
   "metadata": {},
   "outputs": [],
   "source": []
  },
  {
   "cell_type": "markdown",
   "metadata": {},
   "source": []
  },
  {
   "cell_type": "markdown",
   "metadata": {},
   "source": [
    "<h3> 앞서서 우리는 클래스를 배웠습니다.  </h3>\n",
    "<br> <h3> 이러한 변수는 모두 class str, class int로 되어있습니다. </h3>\n",
    "<br> <h3> 클래스의 메소드를 암기한다고 해도 그 많은 메소드를 전부 외울 수는 없습니다.  </h3>\n",
    "<br> <h3> doc이나 문서를 읽지 않고 어떻게 그 클래스에 어떤 메소드가 있는지 찾을 수 있을까요? 정답은 dir 입니다. </h3>\n",
    "<br> <h3> 아래는 str이라는 클래스의 메소드를 불러온 겁니다. </h3>"
   ]
  },
  {
   "cell_type": "code",
   "execution_count": 30,
   "metadata": {},
   "outputs": [
    {
     "name": "stdout",
     "output_type": "stream",
     "text": [
      "['__add__', '__class__', '__contains__', '__delattr__', '__dir__']\n",
      "['__doc__', '__eq__', '__format__', '__ge__', '__getattribute__']\n",
      "['__getitem__', '__getnewargs__', '__getstate__', '__gt__', '__hash__']\n",
      "['__init__', '__init_subclass__', '__iter__', '__le__', '__len__']\n",
      "['__lt__', '__mod__', '__mul__', '__ne__', '__new__']\n",
      "['__reduce__', '__reduce_ex__', '__repr__', '__rmod__', '__rmul__']\n",
      "['__setattr__', '__sizeof__', '__str__', '__subclasshook__', 'capitalize']\n",
      "['casefold', 'center', 'count', 'encode', 'endswith']\n",
      "['expandtabs', 'find', 'format', 'format_map', 'index']\n",
      "['isalnum', 'isalpha', 'isascii', 'isdecimal', 'isdigit']\n",
      "['isidentifier', 'islower', 'isnumeric', 'isprintable', 'isspace']\n",
      "['istitle', 'isupper', 'join', 'ljust', 'lower']\n",
      "['lstrip', 'maketrans', 'partition', 'removeprefix', 'removesuffix']\n",
      "['replace', 'rfind', 'rindex', 'rjust', 'rpartition']\n",
      "['rsplit', 'rstrip', 'split', 'splitlines', 'startswith']\n",
      "['strip', 'swapcase', 'title', 'translate', 'upper']\n",
      "['zfill']\n"
     ]
    }
   ],
   "source": [
    "cnt = 0\n",
    "try:\n",
    "    while(dir(str)[cnt*5]):\n",
    "        print(dir(str)[cnt*5:(cnt+1)*5], sep=\" \", end=\"\\n\")\n",
    "        cnt+=1\n",
    "except IndexError:\n",
    "    print()\n",
    "finally:\n",
    "    pass"
   ]
  },
  {
   "cell_type": "markdown",
   "metadata": {},
   "source": [
    "<h3> 엄청나게 많죠. 알고는 있는데 있는지 없는지 긴가민가 할 때 저는 이렇게 확인하기도 합니다. </h3>"
   ]
  },
  {
   "cell_type": "code",
   "execution_count": 43,
   "metadata": {},
   "outputs": [
    {
     "data": {
      "text/plain": [
       "True"
      ]
     },
     "execution_count": 43,
     "metadata": {},
     "output_type": "execute_result"
    }
   ],
   "source": [
    "\"swapcase\" in dir(str)"
   ]
  },
  {
   "cell_type": "markdown",
   "metadata": {},
   "source": [
    "<h1> 주요 내장 자료형 </h1>\n",
    "<h2> int, float, str, list, dict, tuple </h2>\n",
    "<h3> tuple은 method가 딱 두개 있어서 제외했습니다 </h3>\n"
   ]
  },
  {
   "cell_type": "markdown",
   "metadata": {},
   "source": [
    "<h2>\n",
    "    1. int\n",
    "</h2>"
   ]
  },
  {
   "cell_type": "code",
   "execution_count": 82,
   "metadata": {},
   "outputs": [
    {
     "name": "stdout",
     "output_type": "stream",
     "text": [
      "__abs__ __add__ __and__ __bool__ __ceil__ __class__\n",
      "__class__ __delattr__ __dir__ __divmod__ __doc__ __eq__\n",
      "__eq__ __float__ __floor__ __floordiv__ __format__ __ge__\n",
      "__ge__ __getattribute__ __getnewargs__ __getstate__ __gt__ __hash__\n",
      "__hash__ __index__ __init__ __init_subclass__ __int__ __invert__\n",
      "__invert__ __le__ __lshift__ __lt__ __mod__ __mul__\n",
      "__mul__ __ne__ __neg__ __new__ __or__ __pos__\n",
      "__pos__ __pow__ __radd__ __rand__ __rdivmod__ __reduce__\n",
      "__reduce__ __reduce_ex__ __repr__ __rfloordiv__ __rlshift__ __rmod__\n",
      "__rmod__ __rmul__ __ror__ __round__ __rpow__ __rrshift__\n",
      "__rrshift__ __rshift__ __rsub__ __rtruediv__ __rxor__ __setattr__\n",
      "__setattr__ __sizeof__ __str__ __sub__ __subclasshook__ __truediv__\n",
      "__truediv__ __trunc__ __xor__ as_integer_ratio bit_count bit_length\n",
      "bit_length conjugate denominator from_bytes imag numerator\n",
      "numerator real to_bytes "
     ]
    }
   ],
   "source": [
    "cnt = 0\n",
    "for order in dir(int):\n",
    "    if(cnt == 5):\n",
    "        cnt%=5\n",
    "        print(order)\n",
    "    print(order, end = \" \")\n",
    "    cnt+=1\n",
    "    \n"
   ]
  },
  {
   "cell_type": "code",
   "execution_count": 122,
   "metadata": {},
   "outputs": [
    {
     "data": {
      "text/plain": [
       "'0b1010'"
      ]
     },
     "execution_count": 122,
     "metadata": {},
     "output_type": "execute_result"
    }
   ],
   "source": [
    "a= 10\n",
    "bin(10)"
   ]
  },
  {
   "cell_type": "code",
   "execution_count": 123,
   "metadata": {},
   "outputs": [
    {
     "data": {
      "text/plain": [
       "4"
      ]
     },
     "execution_count": 123,
     "metadata": {},
     "output_type": "execute_result"
    }
   ],
   "source": [
    "a.bit_length()"
   ]
  },
  {
   "cell_type": "code",
   "execution_count": 57,
   "metadata": {
    "ExecuteTime": {
     "end_time": "2023-10-29T16:33:41.121284Z",
     "start_time": "2023-10-29T16:33:37.399876Z"
    }
   },
   "outputs": [
    {
     "name": "stdout",
     "output_type": "stream",
     "text": [
      "Collecting sympy\r\n",
      "  Downloading sympy-1.12-py3-none-any.whl (5.7 MB)\r\n",
      "\u001b[2K     \u001b[90m━━━━━━━━━━━━━━━━━━━━━━━━━━━━━━━━━━━━━━━━\u001b[0m \u001b[32m5.7/5.7 MB\u001b[0m \u001b[31m48.2 MB/s\u001b[0m eta \u001b[36m0:00:00\u001b[0m00:01\u001b[0m00:01\u001b[0m\r\n",
      "\u001b[?25hCollecting mpmath>=0.19 (from sympy)\r\n",
      "  Downloading mpmath-1.3.0-py3-none-any.whl (536 kB)\r\n",
      "\u001b[2K     \u001b[90m━━━━━━━━━━━━━━━━━━━━━━━━━━━━━━━━━━━━━━\u001b[0m \u001b[32m536.2/536.2 kB\u001b[0m \u001b[31m45.6 MB/s\u001b[0m eta \u001b[36m0:00:00\u001b[0m\r\n",
      "\u001b[?25hInstalling collected packages: mpmath, sympy\r\n",
      "Successfully installed mpmath-1.3.0 sympy-1.12\r\n"
     ]
    }
   ],
   "source": [
    "!pip install sympy"
   ]
  },
  {
   "cell_type": "code",
   "execution_count": 61,
   "metadata": {
    "ExecuteTime": {
     "end_time": "2023-10-29T16:34:11.737418Z",
     "start_time": "2023-10-29T16:34:11.720731Z"
    }
   },
   "outputs": [],
   "source": [
    "import sympy as sym"
   ]
  },
  {
   "cell_type": "code",
   "execution_count": 64,
   "metadata": {
    "ExecuteTime": {
     "end_time": "2023-10-29T16:34:38.633218Z",
     "start_time": "2023-10-29T16:34:38.600513Z"
    }
   },
   "outputs": [
    {
     "name": "stdout",
     "output_type": "stream",
     "text": [
      "Help on function ring in module sympy.polys.rings:\n",
      "\n",
      "ring(symbols, domain, order=LexOrder())\n",
      "    Construct a polynomial ring returning ``(ring, x_1, ..., x_n)``.\n",
      "    \n",
      "    Parameters\n",
      "    ==========\n",
      "    \n",
      "    symbols : str\n",
      "        Symbol/Expr or sequence of str, Symbol/Expr (non-empty)\n",
      "    domain : :class:`~.Domain` or coercible\n",
      "    order : :class:`~.MonomialOrder` or coercible, optional, defaults to ``lex``\n",
      "    \n",
      "    Examples\n",
      "    ========\n",
      "    \n",
      "    >>> from sympy.polys.rings import ring\n",
      "    >>> from sympy.polys.domains import ZZ\n",
      "    >>> from sympy.polys.orderings import lex\n",
      "    \n",
      "    >>> R, x, y, z = ring(\"x,y,z\", ZZ, lex)\n",
      "    >>> R\n",
      "    Polynomial ring in x, y, z over ZZ with lex order\n",
      "    >>> x + y + z\n",
      "    x + y + z\n",
      "    >>> type(_)\n",
      "    <class 'sympy.polys.rings.PolyElement'>\n"
     ]
    }
   ],
   "source": [
    "help(sym.ring)"
   ]
  },
  {
   "cell_type": "markdown",
   "metadata": {},
   "source": [
    "<h3> sympy를 이용해 Z_2가 field임을 보이기 </h3>"
   ]
  },
  {
   "cell_type": "code",
   "execution_count": 86,
   "metadata": {
    "ExecuteTime": {
     "end_time": "2023-10-29T16:46:17.009282Z",
     "start_time": "2023-10-29T16:46:16.986740Z"
    },
    "collapsed": false
   },
   "outputs": [
    {
     "name": "stdout",
     "output_type": "stream",
     "text": [
      "addtive identity is 0 mod 2\n",
      "multiplicative identity is 1 mod 2\n",
      "\n",
      "Additive inverse of 0 mod 2 is 0 mod 2\n",
      "Additive inverse of 1 mod 2 is 1 mod 2\n",
      "additive inverse of Z2 is {0 mod 2: 0 mod 2, 1 mod 2: 1 mod 2}\n",
      "\n",
      "Multiplicative inverse of 1 mod 2 is 1 mod 2\n",
      "multiplicative inverse of Z2 is {1 mod 2: 1 mod 2}\n",
      "The set is closed under addition and multiplication.\n"
     ]
    }
   ],
   "source": [
    "from sympy.polys.domains import GF\n",
    "from sympy.polys.domains import ZZ\n",
    "from sympy.polys.rings import ring\n",
    "\n",
    "# Z_2를 정의: 2로 나눈 나머지를 취하는 필드\n",
    "Z2 = GF(2)\n",
    "\n",
    "# 다항식 환을 정의: 변수는 'x', 도메인은 Z_2\n",
    "R, x = ring('x', Z2)\n",
    "\n",
    "# 덧셈, 곱셈에 대한 항등원 확인\n",
    "add_identity = R(0)  # 덧셈에 대한 항등원은 0\n",
    "mul_identity = R(1)  # 곱셈에 대한 항등원은 1\n",
    "print(f\"addtive identity is {add_identity}\")\n",
    "print(f\"multiplicative identity is {mul_identity}\")\n",
    "print()\n",
    "\n",
    "# 덧셈, 곱셈에 대한 역원 확인\n",
    "# Z_2의 원소는 {0, 1} 이므로 역원도 각각 0, 1\n",
    "add_inverse = {R(0):R(0), R(1):R(1)}\n",
    "\n",
    "def check_additive_inverse(ring):\n",
    "    for a in [R(0), R(1)]:\n",
    "        for b in [R(0), R(1)]:\n",
    "            if a + b == R(0):\n",
    "                print(f\"Additive inverse of {a} is {b}\")\n",
    "check_additive_inverse(R)\n",
    "print(f\"additive inverse of Z2 is {add_inverse}\")\n",
    "print()\n",
    "\n",
    "\n",
    "def check_multiplicative_inverse(ring):\n",
    "    for a in [R(1)]:  # R(0) will not have a multiplicative inverse\n",
    "        for b in [R(0), R(1)]:\n",
    "            if a * b == R(1):\n",
    "                print(f\"Multiplicative inverse of {a} is {b}\")\n",
    "\n",
    "check_multiplicative_inverse(R)\n",
    "\n",
    "mul_inverse = {R(1): R(1)} \n",
    "print(f\"multiplicative inverse of Z2 is {mul_inverse}\")\n",
    "\n",
    "def check_closure(ring):\n",
    "    for a in [R(0), R(1)]:\n",
    "        for b in [R(0), R(1)]:\n",
    "            if a + b not in [R(0), R(1)]:\n",
    "                return False\n",
    "            if a * b not in [R(0), R(1)]:\n",
    "                return False\n",
    "    return True\n",
    "\n",
    "\n",
    "if check_closure(R):\n",
    "    print(\"The set is closed under addition and multiplication.\")\n",
    "else:\n",
    "    print(\"The set is not closed under addition and multiplication.\")\n",
    "print()\n"
   ]
  },
  {
   "cell_type": "markdown",
   "metadata": {},
   "source": [
    "<h2>\n",
    "    2. float\n",
    "</h2>"
   ]
  },
  {
   "cell_type": "code",
   "execution_count": 66,
   "metadata": {},
   "outputs": [],
   "source": [
    "from sys import float_info, float_repr_style"
   ]
  },
  {
   "cell_type": "code",
   "execution_count": 142,
   "metadata": {},
   "outputs": [
    {
     "name": "stdout",
     "output_type": "stream",
     "text": [
      "-1021\n",
      "-1022.0\n"
     ]
    }
   ],
   "source": [
    "\n",
    "from sys import float_info, float_repr_style\n",
    "\n",
    "from math import log,log2, log10, exp\n",
    "print(float_info.min_exp)\n",
    "print(log2(2.2250738585072014e-308)) # min_10_exp\n",
    "# print(log2(1.7976931348623157e+308)) # max_exp 1024"
   ]
  },
  {
   "cell_type": "code",
   "execution_count": null,
   "metadata": {},
   "outputs": [],
   "source": []
  },
  {
   "cell_type": "code",
   "execution_count": 124,
   "metadata": {},
   "outputs": [
    {
     "name": "stdout",
     "output_type": "stream",
     "text": [
      "__abs__ __add__ __bool__ __ceil__ __class__ __delattr__\n",
      "__delattr__ __dir__ __divmod__ __doc__ __eq__ __float__\n",
      "__float__ __floor__ __floordiv__ __format__ __ge__ __getattribute__\n",
      "__getattribute__ __getformat__ __getnewargs__ __getstate__ __gt__ __hash__\n",
      "__hash__ __init__ __init_subclass__ __int__ __le__ __lt__\n",
      "__lt__ __mod__ __mul__ __ne__ __neg__ __new__\n",
      "__new__ __pos__ __pow__ __radd__ __rdivmod__ __reduce__\n",
      "__reduce__ __reduce_ex__ __repr__ __rfloordiv__ __rmod__ __rmul__\n",
      "__rmul__ __round__ __rpow__ __rsub__ __rtruediv__ __setattr__\n",
      "__setattr__ __sizeof__ __str__ __sub__ __subclasshook__ __truediv__\n",
      "__truediv__ __trunc__ as_integer_ratio conjugate fromhex hex\n",
      "hex imag is_integer real "
     ]
    }
   ],
   "source": [
    "cnt = 0\n",
    "for order in dir(float):\n",
    "    if(cnt == 5):\n",
    "        cnt%=5\n",
    "        print(order)\n",
    "    print(order, end = \" \")\n",
    "    cnt+=1\n",
    "    "
   ]
  },
  {
   "cell_type": "code",
   "execution_count": 143,
   "metadata": {},
   "outputs": [
    {
     "data": {
      "text/plain": [
       "0"
      ]
     },
     "execution_count": 143,
     "metadata": {},
     "output_type": "execute_result"
    }
   ],
   "source": [
    "int(0.131) # floor"
   ]
  },
  {
   "cell_type": "code",
   "execution_count": null,
   "metadata": {},
   "outputs": [],
   "source": []
  },
  {
   "cell_type": "code",
   "execution_count": 137,
   "metadata": {},
   "outputs": [
    {
     "data": {
      "text/plain": [
       "(complex, (1.1-4j))"
      ]
     },
     "execution_count": 137,
     "metadata": {},
     "output_type": "execute_result"
    }
   ],
   "source": [
    "a= 1.1 + 4j\n",
    "type(a),a.conjugate()"
   ]
  },
  {
   "cell_type": "code",
   "execution_count": 139,
   "metadata": {},
   "outputs": [
    {
     "data": {
      "text/plain": [
       "(1386346563583171, 1125899906842624)"
      ]
     },
     "execution_count": 139,
     "metadata": {},
     "output_type": "execute_result"
    }
   ],
   "source": [
    "b = 1.2313231\n",
    "b.as_integer_ratio()"
   ]
  },
  {
   "cell_type": "code",
   "execution_count": 141,
   "metadata": {},
   "outputs": [
    {
     "data": {
      "text/plain": [
       "True"
      ]
     },
     "execution_count": 141,
     "metadata": {},
     "output_type": "execute_result"
    }
   ],
   "source": [
    "c = 3.0\n",
    "c.is_integer()"
   ]
  },
  {
   "cell_type": "code",
   "execution_count": null,
   "metadata": {},
   "outputs": [],
   "source": []
  },
  {
   "cell_type": "markdown",
   "metadata": {},
   "source": [
    "<h3> Decimal을 이용해서 정밀도를 높이기 </h3>"
   ]
  },
  {
   "cell_type": "code",
   "execution_count": 48,
   "metadata": {
    "ExecuteTime": {
     "end_time": "2023-10-29T16:32:14.146670Z",
     "start_time": "2023-10-29T16:32:14.131823Z"
    }
   },
   "outputs": [],
   "source": [
    "import decimal "
   ]
  },
  {
   "cell_type": "code",
   "execution_count": 55,
   "metadata": {
    "ExecuteTime": {
     "end_time": "2023-10-29T16:33:12.422057Z",
     "start_time": "2023-10-29T16:33:12.389740Z"
    },
    "collapsed": false
   },
   "outputs": [
    {
     "name": "stdout",
     "output_type": "stream",
     "text": [
      "0.1428571429\n"
     ]
    }
   ],
   "source": [
    "decimal.getcontext().prec = 10\n",
    "print(decimal.Decimal('1')/decimal.Decimal('7'))"
   ]
  },
  {
   "cell_type": "code",
   "execution_count": 56,
   "metadata": {
    "ExecuteTime": {
     "end_time": "2023-10-29T16:33:20.816288Z",
     "start_time": "2023-10-29T16:33:20.798272Z"
    }
   },
   "outputs": [
    {
     "name": "stdout",
     "output_type": "stream",
     "text": [
      "0.1428571428571428571428571428571428571428571428571428571428571428571428571428571428571428571428571428571428571428571428571428571428571428571428571428571428571428571428571428571428571428571428571428571428571428571428571428571428571428571428571428571428571428571428571428571428571428571428571428571428571428571428571428571428571428571428571428571428571428571428571428571428571428571428571428571428571428571428571428571428571428571428571428571428571428571428571428571428571428571428571428571428571428571428571428571428571428571428571428571428571428571428571428571428571428571428571428571428571428571428571428571428571428571428571428571428571428571428571428571428571428571428571428571428571428571428571428571428571428571428571428571428571428571428571428571428571428571428571428571428571428571428571428571428571428571428571428571428571428571428571428571428571428571428571428571428571428571428571428571428571428571428571428571428571428571428571428571428571428571428571428571428571428571428571428571428571429\n"
     ]
    }
   ],
   "source": [
    "decimal.getcontext().prec = 1000\n",
    "print(decimal.Decimal('1')/decimal.Decimal('7'))"
   ]
  },
  {
   "cell_type": "code",
   "execution_count": null,
   "metadata": {},
   "outputs": [],
   "source": []
  },
  {
   "cell_type": "code",
   "execution_count": null,
   "metadata": {},
   "outputs": [],
   "source": []
  },
  {
   "cell_type": "code",
   "execution_count": null,
   "metadata": {},
   "outputs": [],
   "source": []
  },
  {
   "cell_type": "markdown",
   "metadata": {},
   "source": [
    "<h2>\n",
    "    3. str\n",
    "</h2>"
   ]
  },
  {
   "cell_type": "code",
   "execution_count": 85,
   "metadata": {},
   "outputs": [
    {
     "name": "stdout",
     "output_type": "stream",
     "text": [
      "__add__ __class__ __contains__ __delattr__ __dir__ __doc__\n",
      "__doc__ __eq__ __format__ __ge__ __getattribute__ __getitem__\n",
      "__getitem__ __getnewargs__ __getstate__ __gt__ __hash__ __init__\n",
      "__init__ __init_subclass__ __iter__ __le__ __len__ __lt__\n",
      "__lt__ __mod__ __mul__ __ne__ __new__ __reduce__\n",
      "__reduce__ __reduce_ex__ __repr__ __rmod__ __rmul__ __setattr__\n",
      "__setattr__ __sizeof__ __str__ __subclasshook__ capitalize casefold\n",
      "casefold center count encode endswith expandtabs\n",
      "expandtabs find format format_map index isalnum\n",
      "isalnum isalpha isascii isdecimal isdigit isidentifier\n",
      "isidentifier islower isnumeric isprintable isspace istitle\n",
      "istitle isupper join ljust lower lstrip\n",
      "lstrip maketrans partition removeprefix removesuffix replace\n",
      "replace rfind rindex rjust rpartition rsplit\n",
      "rsplit rstrip split splitlines startswith strip\n",
      "strip swapcase title translate upper zfill\n",
      "zfill "
     ]
    }
   ],
   "source": [
    "cnt = 0\n",
    "for order in dir(str):\n",
    "    if(cnt == 5):\n",
    "        cnt%=5\n",
    "        print(order)\n",
    "    print(order, end = \" \")\n",
    "    cnt+=1\n",
    "    "
   ]
  },
  {
   "cell_type": "markdown",
   "metadata": {},
   "source": [
    "<ul> <li>  <h4> join </h4> </li> </ul>\n",
    "<ul> <li>  <h4> split </h4> </li> </ul>\n",
    "<ul> <li>  <h4> strip </h4> </li> </ul>\n",
    "<ul> <li>  <h4> lower </h4> </li> </ul>\n",
    "<ul> <li>  <h4> upper </h4> </li> </ul>\n",
    "<ul> <li>  <h4> zfill </h4> </li> </ul>\n",
    "<ul> <li>  <h4> find </h4> </li> </ul>\n",
    "\n",
    "<ul> <li>  <h4> endswith </h4> </li> </ul>\n",
    "------------------------------------------"
   ]
  },
  {
   "cell_type": "markdown",
   "metadata": {},
   "source": [
    "<ul><li><h4> split </h4></ul></li>"
   ]
  },
  {
   "cell_type": "code",
   "execution_count": 8,
   "metadata": {},
   "outputs": [
    {
     "name": "stdout",
     "output_type": "stream",
     "text": [
      "<class 'list'> ['ab', 'bc', 'cd']\n"
     ]
    }
   ],
   "source": [
    "a = 'ab_bc_cd'.split('_')\n",
    "print(type(a),a)"
   ]
  },
  {
   "cell_type": "code",
   "execution_count": 9,
   "metadata": {},
   "outputs": [
    {
     "name": "stdout",
     "output_type": "stream",
     "text": [
      "Help on list object:\n",
      "\n",
      "class list(object)\n",
      " |  list(iterable=(), /)\n",
      " |  \n",
      " |  Built-in mutable sequence.\n",
      " |  \n",
      " |  If no argument is given, the constructor creates a new empty list.\n",
      " |  The argument must be an iterable if specified.\n",
      " |  \n",
      " |  Methods defined here:\n",
      " |  \n",
      " |  __add__(self, value, /)\n",
      " |      Return self+value.\n",
      " |  \n",
      " |  __contains__(self, key, /)\n",
      " |      Return key in self.\n",
      " |  \n",
      " |  __delitem__(self, key, /)\n",
      " |      Delete self[key].\n",
      " |  \n",
      " |  __eq__(self, value, /)\n",
      " |      Return self==value.\n",
      " |  \n",
      " |  __ge__(self, value, /)\n",
      " |      Return self>=value.\n",
      " |  \n",
      " |  __getattribute__(self, name, /)\n",
      " |      Return getattr(self, name).\n",
      " |  \n",
      " |  __getitem__(...)\n",
      " |      x.__getitem__(y) <==> x[y]\n",
      " |  \n",
      " |  __gt__(self, value, /)\n",
      " |      Return self>value.\n",
      " |  \n",
      " |  __iadd__(self, value, /)\n",
      " |      Implement self+=value.\n",
      " |  \n",
      " |  __imul__(self, value, /)\n",
      " |      Implement self*=value.\n",
      " |  \n",
      " |  __init__(self, /, *args, **kwargs)\n",
      " |      Initialize self.  See help(type(self)) for accurate signature.\n",
      " |  \n",
      " |  __iter__(self, /)\n",
      " |      Implement iter(self).\n",
      " |  \n",
      " |  __le__(self, value, /)\n",
      " |      Return self<=value.\n",
      " |  \n",
      " |  __len__(self, /)\n",
      " |      Return len(self).\n",
      " |  \n",
      " |  __lt__(self, value, /)\n",
      " |      Return self<value.\n",
      " |  \n",
      " |  __mul__(self, value, /)\n",
      " |      Return self*value.\n",
      " |  \n",
      " |  __ne__(self, value, /)\n",
      " |      Return self!=value.\n",
      " |  \n",
      " |  __repr__(self, /)\n",
      " |      Return repr(self).\n",
      " |  \n",
      " |  __reversed__(self, /)\n",
      " |      Return a reverse iterator over the list.\n",
      " |  \n",
      " |  __rmul__(self, value, /)\n",
      " |      Return value*self.\n",
      " |  \n",
      " |  __setitem__(self, key, value, /)\n",
      " |      Set self[key] to value.\n",
      " |  \n",
      " |  __sizeof__(self, /)\n",
      " |      Return the size of the list in memory, in bytes.\n",
      " |  \n",
      " |  append(self, object, /)\n",
      " |      Append object to the end of the list.\n",
      " |  \n",
      " |  clear(self, /)\n",
      " |      Remove all items from list.\n",
      " |  \n",
      " |  copy(self, /)\n",
      " |      Return a shallow copy of the list.\n",
      " |  \n",
      " |  count(self, value, /)\n",
      " |      Return number of occurrences of value.\n",
      " |  \n",
      " |  extend(self, iterable, /)\n",
      " |      Extend list by appending elements from the iterable.\n",
      " |  \n",
      " |  index(self, value, start=0, stop=9223372036854775807, /)\n",
      " |      Return first index of value.\n",
      " |      \n",
      " |      Raises ValueError if the value is not present.\n",
      " |  \n",
      " |  insert(self, index, object, /)\n",
      " |      Insert object before index.\n",
      " |  \n",
      " |  pop(self, index=-1, /)\n",
      " |      Remove and return item at index (default last).\n",
      " |      \n",
      " |      Raises IndexError if list is empty or index is out of range.\n",
      " |  \n",
      " |  remove(self, value, /)\n",
      " |      Remove first occurrence of value.\n",
      " |      \n",
      " |      Raises ValueError if the value is not present.\n",
      " |  \n",
      " |  reverse(self, /)\n",
      " |      Reverse *IN PLACE*.\n",
      " |  \n",
      " |  sort(self, /, *, key=None, reverse=False)\n",
      " |      Sort the list in ascending order and return None.\n",
      " |      \n",
      " |      The sort is in-place (i.e. the list itself is modified) and stable (i.e. the\n",
      " |      order of two equal elements is maintained).\n",
      " |      \n",
      " |      If a key function is given, apply it once to each list item and sort them,\n",
      " |      ascending or descending, according to their function values.\n",
      " |      \n",
      " |      The reverse flag can be set to sort in descending order.\n",
      " |  \n",
      " |  ----------------------------------------------------------------------\n",
      " |  Class methods defined here:\n",
      " |  \n",
      " |  __class_getitem__(...) from builtins.type\n",
      " |      See PEP 585\n",
      " |  \n",
      " |  ----------------------------------------------------------------------\n",
      " |  Static methods defined here:\n",
      " |  \n",
      " |  __new__(*args, **kwargs) from builtins.type\n",
      " |      Create and return a new object.  See help(type) for accurate signature.\n",
      " |  \n",
      " |  ----------------------------------------------------------------------\n",
      " |  Data and other attributes defined here:\n",
      " |  \n",
      " |  __hash__ = None\n"
     ]
    }
   ],
   "source": [
    "help(str().split())"
   ]
  },
  {
   "cell_type": "code",
   "execution_count": null,
   "metadata": {},
   "outputs": [],
   "source": []
  },
  {
   "cell_type": "code",
   "execution_count": null,
   "metadata": {},
   "outputs": [],
   "source": []
  },
  {
   "cell_type": "markdown",
   "metadata": {},
   "source": [
    "<ul> <li>  <h4> endswith </h4> </li> </ul>\n"
   ]
  },
  {
   "cell_type": "code",
   "execution_count": 10,
   "metadata": {},
   "outputs": [
    {
     "data": {
      "text/plain": [
       "True"
      ]
     },
     "execution_count": 10,
     "metadata": {},
     "output_type": "execute_result"
    }
   ],
   "source": [
    "\"avsd.csv\".endswith(\"csv\")"
   ]
  },
  {
   "cell_type": "code",
   "execution_count": null,
   "metadata": {},
   "outputs": [],
   "source": []
  },
  {
   "cell_type": "markdown",
   "metadata": {},
   "source": [
    "<ul><li><h4> lower </h4></ul></li>"
   ]
  },
  {
   "cell_type": "code",
   "execution_count": 3,
   "metadata": {},
   "outputs": [
    {
     "data": {
      "text/plain": [
       "'abcfdsefw'"
      ]
     },
     "execution_count": 3,
     "metadata": {},
     "output_type": "execute_result"
    }
   ],
   "source": [
    "'ABCfdsefw'.lower()"
   ]
  },
  {
   "cell_type": "code",
   "execution_count": null,
   "metadata": {},
   "outputs": [],
   "source": []
  },
  {
   "cell_type": "markdown",
   "metadata": {},
   "source": [
    "<ul><li><h4> upper </h4></ul></li>\n"
   ]
  },
  {
   "cell_type": "code",
   "execution_count": 2,
   "metadata": {},
   "outputs": [
    {
     "data": {
      "text/plain": [
       "'ABC'"
      ]
     },
     "execution_count": 2,
     "metadata": {},
     "output_type": "execute_result"
    }
   ],
   "source": [
    "'abc'.upper()"
   ]
  },
  {
   "cell_type": "markdown",
   "metadata": {},
   "source": [
    "<ul><li><h4> swapcase </h4></ul></li>"
   ]
  },
  {
   "cell_type": "code",
   "execution_count": 16,
   "metadata": {},
   "outputs": [
    {
     "data": {
      "text/plain": [
       "'ABabAB'"
      ]
     },
     "execution_count": 16,
     "metadata": {},
     "output_type": "execute_result"
    }
   ],
   "source": [
    "'abABab'.swapcase()"
   ]
  },
  {
   "cell_type": "markdown",
   "metadata": {},
   "source": [
    "<ul><li><h4>find</h4></li></ul>"
   ]
  },
  {
   "cell_type": "code",
   "execution_count": 89,
   "metadata": {
    "ExecuteTime": {
     "end_time": "2023-10-29T16:47:05.156785Z",
     "start_time": "2023-10-29T16:47:05.138434Z"
    },
    "collapsed": false
   },
   "outputs": [
    {
     "data": {
      "text/plain": [
       "1"
      ]
     },
     "execution_count": 89,
     "metadata": {},
     "output_type": "execute_result"
    }
   ],
   "source": [
    "\"abcd\".find(\"bcd\")"
   ]
  },
  {
   "cell_type": "code",
   "execution_count": 90,
   "metadata": {
    "ExecuteTime": {
     "end_time": "2023-10-29T16:47:10.876291Z",
     "start_time": "2023-10-29T16:47:10.845253Z"
    },
    "collapsed": false
   },
   "outputs": [
    {
     "data": {
      "text/plain": [
       "-1"
      ]
     },
     "execution_count": 90,
     "metadata": {},
     "output_type": "execute_result"
    }
   ],
   "source": [
    "\"abcd\".find(\"e\")"
   ]
  },
  {
   "cell_type": "markdown",
   "metadata": {},
   "source": [
    "<ul><li><h4>capitalize</h4></li></ul>"
   ]
  },
  {
   "cell_type": "code",
   "execution_count": 1,
   "metadata": {},
   "outputs": [
    {
     "data": {
      "text/plain": [
       "'Afa'"
      ]
     },
     "execution_count": 1,
     "metadata": {},
     "output_type": "execute_result"
    }
   ],
   "source": [
    "'afa'.capitalize()"
   ]
  },
  {
   "cell_type": "markdown",
   "metadata": {},
   "source": [
    "<ul> <li>  <h4> casefold </h4> </li> </ul>"
   ]
  },
  {
   "cell_type": "code",
   "execution_count": 30,
   "metadata": {},
   "outputs": [
    {
     "data": {
      "text/plain": [
       "'bab'"
      ]
     },
     "execution_count": 30,
     "metadata": {},
     "output_type": "execute_result"
    }
   ],
   "source": [
    "\"ababab\".removeprefix(\"aba\")"
   ]
  },
  {
   "cell_type": "code",
   "execution_count": null,
   "metadata": {},
   "outputs": [],
   "source": []
  },
  {
   "cell_type": "markdown",
   "metadata": {},
   "source": [
    "<h3> 4. List</h3>  "
   ]
  },
  {
   "cell_type": "code",
   "execution_count": 90,
   "metadata": {},
   "outputs": [
    {
     "name": "stdout",
     "output_type": "stream",
     "text": [
      "__add__ __class__ __class_getitem__ __contains__ __delattr__ __delitem__\n",
      "__delitem__ __dir__ __doc__ __eq__ __format__ __ge__\n",
      "__ge__ __getattribute__ __getitem__ __getstate__ __gt__ __hash__\n",
      "__hash__ __iadd__ __imul__ __init__ __init_subclass__ __iter__\n",
      "__iter__ __le__ __len__ __lt__ __mul__ __ne__\n",
      "__ne__ __new__ __reduce__ __reduce_ex__ __repr__ __reversed__\n",
      "__reversed__ __rmul__ __setattr__ __setitem__ __sizeof__ __str__\n",
      "__str__ __subclasshook__ append clear copy count\n",
      "count extend index insert pop remove\n",
      "remove reverse sort "
     ]
    }
   ],
   "source": [
    "cnt = 0\n",
    "for order in dir(list):\n",
    "    if(cnt == 5):\n",
    "        cnt%=5\n",
    "        print(order)\n",
    "    print(order, end = \" \")\n",
    "    cnt+=1\n",
    "    \n"
   ]
  },
  {
   "cell_type": "code",
   "execution_count": 92,
   "metadata": {},
   "outputs": [
    {
     "name": "stdout",
     "output_type": "stream",
     "text": [
      "Help on method_descriptor:\n",
      "\n",
      "sort(self, /, *, key=None, reverse=False)\n",
      "    Sort the list in ascending order and return None.\n",
      "    \n",
      "    The sort is in-place (i.e. the list itself is modified) and stable (i.e. the\n",
      "    order of two equal elements is maintained).\n",
      "    \n",
      "    If a key function is given, apply it once to each list item and sort them,\n",
      "    ascending or descending, according to their function values.\n",
      "    \n",
      "    The reverse flag can be set to sort in descending order.\n"
     ]
    }
   ],
   "source": [
    "help(list.sort)"
   ]
  },
  {
   "cell_type": "code",
   "execution_count": 98,
   "metadata": {},
   "outputs": [
    {
     "data": {
      "text/plain": [
       "[1, 4, 2, 6]"
      ]
     },
     "execution_count": 98,
     "metadata": {},
     "output_type": "execute_result"
    }
   ],
   "source": [
    "A = [1,4,2,6]\n",
    "A"
   ]
  },
  {
   "cell_type": "code",
   "execution_count": 155,
   "metadata": {
    "ExecuteTime": {
     "end_time": "2023-10-29T17:04:23.780269Z",
     "start_time": "2023-10-29T17:04:23.745521Z"
    },
    "collapsed": false
   },
   "outputs": [],
   "source": [
    "A = list()"
   ]
  },
  {
   "cell_type": "code",
   "execution_count": 156,
   "metadata": {
    "ExecuteTime": {
     "end_time": "2023-10-29T17:04:25.663072Z",
     "start_time": "2023-10-29T17:04:25.620432Z"
    }
   },
   "outputs": [
    {
     "data": {
      "text/plain": [
       "[]"
      ]
     },
     "execution_count": 156,
     "metadata": {},
     "output_type": "execute_result"
    }
   ],
   "source": [
    "A"
   ]
  },
  {
   "cell_type": "markdown",
   "metadata": {},
   "source": [
    "- reverse"
   ]
  },
  {
   "cell_type": "code",
   "execution_count": 99,
   "metadata": {},
   "outputs": [
    {
     "data": {
      "text/plain": [
       "[6, 2, 4, 1]"
      ]
     },
     "execution_count": 99,
     "metadata": {},
     "output_type": "execute_result"
    }
   ],
   "source": [
    "A.reverse()\n",
    "A"
   ]
  },
  {
   "cell_type": "code",
   "execution_count": 100,
   "metadata": {},
   "outputs": [
    {
     "data": {
      "text/plain": [
       "[1, 4, 2, 6]"
      ]
     },
     "execution_count": 100,
     "metadata": {},
     "output_type": "execute_result"
    }
   ],
   "source": [
    "A[::-1]"
   ]
  },
  {
   "cell_type": "markdown",
   "metadata": {},
   "source": [
    "<h3>sort</h3>\n",
    "<ul><li> 내장 sort </li></ul>\n"
   ]
  },
  {
   "cell_type": "markdown",
   "metadata": {},
   "source": [
    "<ul><li> lambda를 이용하기 </li></ul>\n",
    "\n",
    "\n"
   ]
  },
  {
   "cell_type": "markdown",
   "metadata": {},
   "source": [
    "<ul><li> cmp_to_key 이용하기 </li></ul>"
   ]
  },
  {
   "cell_type": "code",
   "execution_count": null,
   "metadata": {
    "collapsed": false
   },
   "outputs": [],
   "source": []
  },
  {
   "cell_type": "code",
   "execution_count": 94,
   "metadata": {
    "ExecuteTime": {
     "end_time": "2023-10-29T16:48:22.770237Z",
     "start_time": "2023-10-29T16:48:22.748776Z"
    }
   },
   "outputs": [],
   "source": [
    "from functools import cmp_to_key"
   ]
  },
  {
   "cell_type": "code",
   "execution_count": 103,
   "metadata": {},
   "outputs": [
    {
     "name": "stdout",
     "output_type": "stream",
     "text": [
      "Help on built-in function cmp_to_key in module _functools:\n",
      "\n",
      "cmp_to_key(...)\n",
      "    Convert a cmp= function into a key= function.\n"
     ]
    }
   ],
   "source": [
    "help(cmp_to_key)"
   ]
  },
  {
   "cell_type": "code",
   "execution_count": 103,
   "metadata": {
    "ExecuteTime": {
     "end_time": "2023-10-29T16:51:05.115423Z",
     "start_time": "2023-10-29T16:51:05.098416Z"
    }
   },
   "outputs": [],
   "source": [
    "def cmp(a:list[int], b:list[int]):\n",
    "    a_sum = sum(a)\n",
    "    b_sum = sum(b)\n",
    "    if (a_sum > b_sum): # 1이면 왼쪽의 값을 오른쪽으로 \n",
    "        # print(a_sum,b_sum)\n",
    "        return 1\n",
    "    elif a_sum < b_sum: # -1면 왼쪽의 값을 왼쪽으로 \n",
    "        return -1\n",
    "    return 0 #면 변화 X "
   ]
  },
  {
   "cell_type": "code",
   "execution_count": 91,
   "metadata": {
    "ExecuteTime": {
     "end_time": "2023-10-29T16:48:16.364077Z",
     "start_time": "2023-10-29T16:48:16.354481Z"
    }
   },
   "outputs": [
    {
     "data": {
      "text/plain": [
       "[[1, 2, 3], [23, 23], [3, 24, 23], [5, 3]]"
      ]
     },
     "execution_count": 91,
     "metadata": {},
     "output_type": "execute_result"
    }
   ],
   "source": [
    "a = [[1,2,3],[23,23],[3,24,23], [5,3]]\n",
    "a\n"
   ]
  },
  {
   "cell_type": "code",
   "execution_count": 95,
   "metadata": {
    "ExecuteTime": {
     "end_time": "2023-10-29T16:48:25.278490Z",
     "start_time": "2023-10-29T16:48:25.269340Z"
    }
   },
   "outputs": [
    {
     "name": "stdout",
     "output_type": "stream",
     "text": [
      "46 6\n",
      "50 46\n",
      "8 6\n"
     ]
    },
    {
     "data": {
      "text/plain": [
       "[[1, 2, 3], [5, 3], [23, 23], [3, 24, 23]]"
      ]
     },
     "execution_count": 95,
     "metadata": {},
     "output_type": "execute_result"
    }
   ],
   "source": [
    "a.sort(key=cmp_to_key(cmp))\n",
    "a"
   ]
  },
  {
   "cell_type": "markdown",
   "metadata": {
    "collapsed": false
   },
   "source": [
    "<h3> 만약에 내림차순으로 정의하고 싶다면 </h3>"
   ]
  },
  {
   "cell_type": "code",
   "execution_count": 104,
   "metadata": {
    "ExecuteTime": {
     "end_time": "2023-10-29T16:51:06.531655Z",
     "start_time": "2023-10-29T16:51:06.510832Z"
    }
   },
   "outputs": [],
   "source": [
    "def cmp_descending(a:list[int], b:list[int]):\n",
    "    a_sum = sum(a)\n",
    "    b_sum = sum(b)\n",
    "    if (a_sum > b_sum): # -1면 왼쪽에 있는 값을 왼쪽으로 \n",
    "        # print(a_sum,b_sum)\n",
    "        return -1\n",
    "    elif a_sum < b_sum: # -1면 오른쪽의 값을 오른쪽으로 \n",
    "        return 1\n",
    "    return 0 #면 변화 X "
   ]
  },
  {
   "cell_type": "code",
   "execution_count": 105,
   "metadata": {
    "ExecuteTime": {
     "end_time": "2023-10-29T16:51:07.847354Z",
     "start_time": "2023-10-29T16:51:07.818452Z"
    }
   },
   "outputs": [],
   "source": [
    "a.sort(key=cmp_to_key(cmp_descending))"
   ]
  },
  {
   "cell_type": "code",
   "execution_count": 106,
   "metadata": {
    "ExecuteTime": {
     "end_time": "2023-10-29T16:51:10.162860Z",
     "start_time": "2023-10-29T16:51:10.153248Z"
    }
   },
   "outputs": [
    {
     "data": {
      "text/plain": [
       "[[3, 24, 23], [23, 23], [5, 3], [1, 2, 3]]"
      ]
     },
     "execution_count": 106,
     "metadata": {},
     "output_type": "execute_result"
    }
   ],
   "source": [
    "a"
   ]
  },
  {
   "cell_type": "code",
   "execution_count": null,
   "metadata": {},
   "outputs": [],
   "source": []
  },
  {
   "cell_type": "code",
   "execution_count": null,
   "metadata": {},
   "outputs": [],
   "source": []
  },
  {
   "cell_type": "code",
   "execution_count": null,
   "metadata": {},
   "outputs": [],
   "source": []
  },
  {
   "cell_type": "code",
   "execution_count": null,
   "metadata": {},
   "outputs": [],
   "source": []
  },
  {
   "cell_type": "markdown",
   "metadata": {},
   "source": [
    "<h3> 5. Dict </h3>"
   ]
  },
  {
   "cell_type": "code",
   "execution_count": null,
   "metadata": {
    "collapsed": false
   },
   "outputs": [],
   "source": [
    "key_value = dict()"
   ]
  },
  {
   "cell_type": "code",
   "execution_count": 157,
   "metadata": {
    "ExecuteTime": {
     "end_time": "2023-10-29T17:05:16.832512Z",
     "start_time": "2023-10-29T17:05:16.796133Z"
    },
    "collapsed": false
   },
   "outputs": [
    {
     "data": {
      "text/plain": [
       "0"
      ]
     },
     "execution_count": 157,
     "metadata": {},
     "output_type": "execute_result"
    }
   ],
   "source": [
    "key_value.get(1,0) "
   ]
  },
  {
   "cell_type": "code",
   "execution_count": 108,
   "metadata": {
    "ExecuteTime": {
     "end_time": "2023-10-29T16:53:06.710560Z",
     "start_time": "2023-10-29T16:53:06.687492Z"
    }
   },
   "outputs": [],
   "source": [
    "for i in range(65,67+20):\n",
    "    key_value[i] = chr(i)\n",
    "    "
   ]
  },
  {
   "cell_type": "code",
   "execution_count": 109,
   "metadata": {
    "ExecuteTime": {
     "end_time": "2023-10-29T16:53:14.619591Z",
     "start_time": "2023-10-29T16:53:14.580659Z"
    },
    "collapsed": false
   },
   "outputs": [
    {
     "data": {
      "text/plain": [
       "{65: 'A',\n",
       " 66: 'B',\n",
       " 67: 'C',\n",
       " 68: 'D',\n",
       " 69: 'E',\n",
       " 70: 'F',\n",
       " 71: 'G',\n",
       " 72: 'H',\n",
       " 73: 'I',\n",
       " 74: 'J',\n",
       " 75: 'K',\n",
       " 76: 'L',\n",
       " 77: 'M',\n",
       " 78: 'N',\n",
       " 79: 'O',\n",
       " 80: 'P',\n",
       " 81: 'Q',\n",
       " 82: 'R',\n",
       " 83: 'S',\n",
       " 84: 'T',\n",
       " 85: 'U',\n",
       " 86: 'V'}"
      ]
     },
     "execution_count": 109,
     "metadata": {},
     "output_type": "execute_result"
    }
   ],
   "source": [
    "key_value"
   ]
  },
  {
   "cell_type": "code",
   "execution_count": 110,
   "metadata": {
    "ExecuteTime": {
     "end_time": "2023-10-29T16:53:26.936253Z",
     "start_time": "2023-10-29T16:53:26.904045Z"
    },
    "collapsed": false
   },
   "outputs": [
    {
     "data": {
      "text/plain": [
       "['__class__',\n",
       " '__class_getitem__',\n",
       " '__contains__',\n",
       " '__delattr__',\n",
       " '__delitem__',\n",
       " '__dir__',\n",
       " '__doc__',\n",
       " '__eq__',\n",
       " '__format__',\n",
       " '__ge__',\n",
       " '__getattribute__',\n",
       " '__getitem__',\n",
       " '__getstate__',\n",
       " '__gt__',\n",
       " '__hash__',\n",
       " '__init__',\n",
       " '__init_subclass__',\n",
       " '__ior__',\n",
       " '__iter__',\n",
       " '__le__',\n",
       " '__len__',\n",
       " '__lt__',\n",
       " '__ne__',\n",
       " '__new__',\n",
       " '__or__',\n",
       " '__reduce__',\n",
       " '__reduce_ex__',\n",
       " '__repr__',\n",
       " '__reversed__',\n",
       " '__ror__',\n",
       " '__setattr__',\n",
       " '__setitem__',\n",
       " '__sizeof__',\n",
       " '__str__',\n",
       " '__subclasshook__',\n",
       " 'clear',\n",
       " 'copy',\n",
       " 'fromkeys',\n",
       " 'get',\n",
       " 'items',\n",
       " 'keys',\n",
       " 'pop',\n",
       " 'popitem',\n",
       " 'setdefault',\n",
       " 'update',\n",
       " 'values']"
      ]
     },
     "execution_count": 110,
     "metadata": {},
     "output_type": "execute_result"
    }
   ],
   "source": [
    "dir(key_value)"
   ]
  },
  {
   "cell_type": "code",
   "execution_count": 117,
   "metadata": {
    "ExecuteTime": {
     "end_time": "2023-10-29T16:54:12.204786Z",
     "start_time": "2023-10-29T16:54:12.177726Z"
    },
    "collapsed": false
   },
   "outputs": [],
   "source": [
    "d = dict().fromkeys([66,67,68],3)"
   ]
  },
  {
   "cell_type": "code",
   "execution_count": 118,
   "metadata": {
    "ExecuteTime": {
     "end_time": "2023-10-29T16:54:12.723542Z",
     "start_time": "2023-10-29T16:54:12.699640Z"
    },
    "collapsed": false
   },
   "outputs": [
    {
     "data": {
      "text/plain": [
       "{66: 3, 67: 3, 68: 3}"
      ]
     },
     "execution_count": 118,
     "metadata": {},
     "output_type": "execute_result"
    }
   ],
   "source": [
    "d"
   ]
  },
  {
   "cell_type": "code",
   "execution_count": 119,
   "metadata": {
    "ExecuteTime": {
     "end_time": "2023-10-29T16:54:15.459394Z",
     "start_time": "2023-10-29T16:54:15.441703Z"
    },
    "collapsed": false
   },
   "outputs": [],
   "source": [
    "d = dict.fromkeys([66,67,68],'abab')"
   ]
  },
  {
   "cell_type": "code",
   "execution_count": 120,
   "metadata": {
    "ExecuteTime": {
     "end_time": "2023-10-29T16:54:16.590841Z",
     "start_time": "2023-10-29T16:54:16.572077Z"
    },
    "collapsed": false
   },
   "outputs": [
    {
     "data": {
      "text/plain": [
       "{66: 'abab', 67: 'abab', 68: 'abab'}"
      ]
     },
     "execution_count": 120,
     "metadata": {},
     "output_type": "execute_result"
    }
   ],
   "source": [
    "d"
   ]
  },
  {
   "cell_type": "code",
   "execution_count": 122,
   "metadata": {
    "ExecuteTime": {
     "end_time": "2023-10-29T16:54:31.997546Z",
     "start_time": "2023-10-29T16:54:31.969844Z"
    },
    "collapsed": false
   },
   "outputs": [
    {
     "data": {
      "text/plain": [
       "'abab'"
      ]
     },
     "execution_count": 122,
     "metadata": {},
     "output_type": "execute_result"
    }
   ],
   "source": [
    "d.pop(66)"
   ]
  },
  {
   "cell_type": "code",
   "execution_count": 123,
   "metadata": {
    "ExecuteTime": {
     "end_time": "2023-10-29T16:54:33.658799Z",
     "start_time": "2023-10-29T16:54:33.625684Z"
    },
    "collapsed": false
   },
   "outputs": [
    {
     "data": {
      "text/plain": [
       "{67: 'abab', 68: 'abab'}"
      ]
     },
     "execution_count": 123,
     "metadata": {},
     "output_type": "execute_result"
    }
   ],
   "source": [
    "d"
   ]
  },
  {
   "cell_type": "code",
   "execution_count": 124,
   "metadata": {
    "ExecuteTime": {
     "end_time": "2023-10-29T16:54:47.290577Z",
     "start_time": "2023-10-29T16:54:47.272968Z"
    },
    "collapsed": false
   },
   "outputs": [],
   "source": [
    "d.update({68:\"!@32\"})"
   ]
  },
  {
   "cell_type": "code",
   "execution_count": 125,
   "metadata": {
    "ExecuteTime": {
     "end_time": "2023-10-29T16:54:51.555755Z",
     "start_time": "2023-10-29T16:54:51.521028Z"
    },
    "collapsed": false
   },
   "outputs": [
    {
     "data": {
      "text/plain": [
       "{67: 'abab', 68: '!@32'}"
      ]
     },
     "execution_count": 125,
     "metadata": {},
     "output_type": "execute_result"
    }
   ],
   "source": [
    "d # 덮어씌울 수 있으니 조심해야 합니다."
   ]
  },
  {
   "cell_type": "code",
   "execution_count": 127,
   "metadata": {
    "ExecuteTime": {
     "end_time": "2023-10-29T16:55:33.334827Z",
     "start_time": "2023-10-29T16:55:33.302490Z"
    },
    "collapsed": false
   },
   "outputs": [
    {
     "data": {
      "text/plain": [
       "dict_keys([67, 68])"
      ]
     },
     "execution_count": 127,
     "metadata": {},
     "output_type": "execute_result"
    }
   ],
   "source": [
    "d.keys()"
   ]
  },
  {
   "cell_type": "code",
   "execution_count": 128,
   "metadata": {
    "ExecuteTime": {
     "end_time": "2023-10-29T16:55:41.304772Z",
     "start_time": "2023-10-29T16:55:41.266772Z"
    },
    "collapsed": false
   },
   "outputs": [
    {
     "data": {
      "text/plain": [
       "dict_values(['abab', '!@32'])"
      ]
     },
     "execution_count": 128,
     "metadata": {},
     "output_type": "execute_result"
    }
   ],
   "source": [
    "d.values()"
   ]
  },
  {
   "cell_type": "code",
   "execution_count": 132,
   "metadata": {
    "ExecuteTime": {
     "end_time": "2023-10-29T16:56:10.682345Z",
     "start_time": "2023-10-29T16:56:10.648306Z"
    },
    "collapsed": false
   },
   "outputs": [
    {
     "name": "stdout",
     "output_type": "stream",
     "text": [
      "67\n",
      "68\n"
     ]
    }
   ],
   "source": [
    "for key in d.keys():\n",
    "    print(key)"
   ]
  },
  {
   "cell_type": "code",
   "execution_count": 131,
   "metadata": {
    "ExecuteTime": {
     "end_time": "2023-10-29T16:56:05.758684Z",
     "start_time": "2023-10-29T16:56:05.720699Z"
    },
    "collapsed": false
   },
   "outputs": [
    {
     "name": "stdout",
     "output_type": "stream",
     "text": [
      "abab\n",
      "!@32\n"
     ]
    }
   ],
   "source": [
    "for value in d.values():\n",
    "    print(value)"
   ]
  },
  {
   "cell_type": "code",
   "execution_count": 133,
   "metadata": {
    "ExecuteTime": {
     "end_time": "2023-10-29T16:56:27.021244Z",
     "start_time": "2023-10-29T16:56:26.984599Z"
    },
    "collapsed": false
   },
   "outputs": [
    {
     "name": "stdout",
     "output_type": "stream",
     "text": [
      "67 abab\n",
      "68 !@32\n"
     ]
    }
   ],
   "source": [
    "for key, value in d.items():  # 전부 불러오기\n",
    "    print(key, value)"
   ]
  },
  {
   "cell_type": "markdown",
   "metadata": {},
   "source": [
    "<h2>Errors</h2>"
   ]
  },
  {
   "cell_type": "code",
   "execution_count": 1,
   "metadata": {
    "ExecuteTime": {
     "end_time": "2023-10-26T17:42:19.754592Z",
     "start_time": "2023-10-26T17:42:19.737957Z"
    }
   },
   "outputs": [
    {
     "name": "stdout",
     "output_type": "stream",
     "text": [
      "ArithmeticError\n",
      "AssertionError\n",
      "AttributeError\n",
      "BlockingIOError\n",
      "BrokenPipeError\n",
      "BufferError\n",
      "ChildProcessError\n",
      "ConnectionAbortedError\n",
      "ConnectionError\n",
      "ConnectionRefusedError\n",
      "ConnectionResetError\n",
      "EOFError\n",
      "EnvironmentError\n",
      "FileExistsError\n",
      "FileNotFoundError\n",
      "FloatingPointError\n",
      "IOError\n",
      "ImportError\n",
      "IndentationError\n",
      "IndexError\n",
      "InterruptedError\n",
      "IsADirectoryError\n",
      "KeyError\n",
      "LookupError\n",
      "MemoryError\n",
      "ModuleNotFoundError\n",
      "NameError\n",
      "NotADirectoryError\n",
      "NotImplementedError\n",
      "OSError\n",
      "OverflowError\n",
      "PermissionError\n",
      "ProcessLookupError\n",
      "RecursionError\n",
      "ReferenceError\n",
      "RuntimeError\n",
      "SyntaxError\n",
      "SystemError\n",
      "TabError\n",
      "TimeoutError\n",
      "TypeError\n",
      "UnboundLocalError\n",
      "UnicodeDecodeError\n",
      "UnicodeEncodeError\n",
      "UnicodeError\n",
      "UnicodeTranslateError\n",
      "ValueError\n",
      "ZeroDivisionError\n"
     ]
    }
   ],
   "source": [
    "errors = []\n",
    "\n",
    "for error in dir(__builtins__):\n",
    "    if error.endswith(\"Error\"):\n",
    "        errors.append(error)\n",
    "\n",
    "print(\"\\n\".join(errors))\n"
   ]
  },
  {
   "cell_type": "markdown",
   "metadata": {},
   "source": [
    "1. NameError"
   ]
  },
  {
   "cell_type": "code",
   "execution_count": 36,
   "metadata": {},
   "outputs": [
    {
     "ename": "NameError",
     "evalue": "name 'c' is not defined",
     "output_type": "error",
     "traceback": [
      "\u001b[0;31m---------------------------------------------------------------------------\u001b[0m",
      "\u001b[0;31mNameError\u001b[0m                                 Traceback (most recent call last)",
      "\u001b[1;32m/Users/jinhojeon/current_study/pac/1.ipynb Cell 104\u001b[0m line \u001b[0;36m1\n\u001b[0;32m----> <a href='vscode-notebook-cell:/Users/jinhojeon/current_study/pac/1.ipynb#Y322sZmlsZQ%3D%3D?line=0'>1</a>\u001b[0m c\n",
      "\u001b[0;31mNameError\u001b[0m: name 'c' is not defined"
     ]
    }
   ],
   "source": [
    "c"
   ]
  },
  {
   "cell_type": "markdown",
   "metadata": {},
   "source": [
    "2. TypeError"
   ]
  },
  {
   "cell_type": "code",
   "execution_count": 37,
   "metadata": {},
   "outputs": [
    {
     "ename": "TypeError",
     "evalue": "unsupported operand type(s) for +: 'int' and 'list'",
     "output_type": "error",
     "traceback": [
      "\u001b[0;31m---------------------------------------------------------------------------\u001b[0m",
      "\u001b[0;31mTypeError\u001b[0m                                 Traceback (most recent call last)",
      "\u001b[1;32m/Users/jinhojeon/current_study/pac/1.ipynb Cell 106\u001b[0m line \u001b[0;36m1\n\u001b[0;32m----> <a href='vscode-notebook-cell:/Users/jinhojeon/current_study/pac/1.ipynb#Y331sZmlsZQ%3D%3D?line=0'>1</a>\u001b[0m \u001b[39m1\u001b[39;49m\u001b[39m+\u001b[39;49ma\n",
      "\u001b[0;31mTypeError\u001b[0m: unsupported operand type(s) for +: 'int' and 'list'"
     ]
    }
   ],
   "source": [
    "1+a\n"
   ]
  },
  {
   "cell_type": "code",
   "execution_count": 47,
   "metadata": {},
   "outputs": [
    {
     "ename": "TypeError",
     "evalue": "can only concatenate str (not \"int\") to str",
     "output_type": "error",
     "traceback": [
      "\u001b[0;31m---------------------------------------------------------------------------\u001b[0m",
      "\u001b[0;31mTypeError\u001b[0m                                 Traceback (most recent call last)",
      "\u001b[1;32m/Users/jinhojeon/current_study/pac/1.ipynb Cell 107\u001b[0m line \u001b[0;36m5\n\u001b[1;32m      <a href='vscode-notebook-cell:/Users/jinhojeon/current_study/pac/1.ipynb#Y353sZmlsZQ%3D%3D?line=0'>1</a>\u001b[0m \u001b[39mdef\u001b[39;00m \u001b[39ma\u001b[39m(x:\u001b[39mint\u001b[39m)\u001b[39m-\u001b[39m\u001b[39m>\u001b[39m\u001b[39mint\u001b[39m:\n\u001b[1;32m      <a href='vscode-notebook-cell:/Users/jinhojeon/current_study/pac/1.ipynb#Y353sZmlsZQ%3D%3D?line=1'>2</a>\u001b[0m     \u001b[39mreturn\u001b[39;00m x\u001b[39m+\u001b[39m\u001b[39m1\u001b[39m\n\u001b[0;32m----> <a href='vscode-notebook-cell:/Users/jinhojeon/current_study/pac/1.ipynb#Y353sZmlsZQ%3D%3D?line=4'>5</a>\u001b[0m a(\u001b[39m'\u001b[39;49m\u001b[39ma\u001b[39;49m\u001b[39m'\u001b[39;49m)\n",
      "\u001b[1;32m/Users/jinhojeon/current_study/pac/1.ipynb Cell 107\u001b[0m line \u001b[0;36m2\n\u001b[1;32m      <a href='vscode-notebook-cell:/Users/jinhojeon/current_study/pac/1.ipynb#Y353sZmlsZQ%3D%3D?line=0'>1</a>\u001b[0m \u001b[39mdef\u001b[39;00m \u001b[39ma\u001b[39m(x:\u001b[39mint\u001b[39m)\u001b[39m-\u001b[39m\u001b[39m>\u001b[39m\u001b[39mint\u001b[39m:\n\u001b[0;32m----> <a href='vscode-notebook-cell:/Users/jinhojeon/current_study/pac/1.ipynb#Y353sZmlsZQ%3D%3D?line=1'>2</a>\u001b[0m     \u001b[39mreturn\u001b[39;00m x\u001b[39m+\u001b[39;49m\u001b[39m1\u001b[39;49m\n",
      "\u001b[0;31mTypeError\u001b[0m: can only concatenate str (not \"int\") to str"
     ]
    }
   ],
   "source": [
    "def a(x:int)->int:\n",
    "    return x+1\n",
    "\n",
    "\n",
    "a('a')"
   ]
  },
  {
   "cell_type": "code",
   "execution_count": null,
   "metadata": {},
   "outputs": [],
   "source": []
  },
  {
   "cell_type": "markdown",
   "metadata": {},
   "source": [
    "3. KeyError"
   ]
  },
  {
   "cell_type": "code",
   "execution_count": 42,
   "metadata": {},
   "outputs": [
    {
     "ename": "KeyError",
     "evalue": "1",
     "output_type": "error",
     "traceback": [
      "\u001b[0;31m---------------------------------------------------------------------------\u001b[0m",
      "\u001b[0;31mKeyError\u001b[0m                                  Traceback (most recent call last)",
      "\u001b[1;32m/Users/jinhojeon/current_study/pac/1.ipynb Cell 108\u001b[0m line \u001b[0;36m2\n\u001b[1;32m      <a href='vscode-notebook-cell:/Users/jinhojeon/current_study/pac/1.ipynb#Y334sZmlsZQ%3D%3D?line=0'>1</a>\u001b[0m a \u001b[39m=\u001b[39m \u001b[39mdict\u001b[39m()\n\u001b[0;32m----> <a href='vscode-notebook-cell:/Users/jinhojeon/current_study/pac/1.ipynb#Y334sZmlsZQ%3D%3D?line=1'>2</a>\u001b[0m a[\u001b[39m1\u001b[39;49m]\n",
      "\u001b[0;31mKeyError\u001b[0m: 1"
     ]
    }
   ],
   "source": [
    "a = dict()\n",
    "a[1]"
   ]
  },
  {
   "cell_type": "markdown",
   "metadata": {},
   "source": [
    "4. IndexError"
   ]
  },
  {
   "cell_type": "code",
   "execution_count": 43,
   "metadata": {},
   "outputs": [
    {
     "ename": "IndexError",
     "evalue": "list index out of range",
     "output_type": "error",
     "traceback": [
      "\u001b[0;31m---------------------------------------------------------------------------\u001b[0m",
      "\u001b[0;31mIndexError\u001b[0m                                Traceback (most recent call last)",
      "\u001b[1;32m/Users/jinhojeon/current_study/pac/1.ipynb Cell 110\u001b[0m line \u001b[0;36m2\n\u001b[1;32m      <a href='vscode-notebook-cell:/Users/jinhojeon/current_study/pac/1.ipynb#Y340sZmlsZQ%3D%3D?line=0'>1</a>\u001b[0m a \u001b[39m=\u001b[39m [] \n\u001b[0;32m----> <a href='vscode-notebook-cell:/Users/jinhojeon/current_study/pac/1.ipynb#Y340sZmlsZQ%3D%3D?line=1'>2</a>\u001b[0m a[\u001b[39m0\u001b[39;49m]\n",
      "\u001b[0;31mIndexError\u001b[0m: list index out of range"
     ]
    }
   ],
   "source": [
    "a = [] \n",
    "a[0]"
   ]
  },
  {
   "cell_type": "markdown",
   "metadata": {},
   "source": [
    "5. SyntaxError"
   ]
  },
  {
   "cell_type": "code",
   "execution_count": 50,
   "metadata": {},
   "outputs": [
    {
     "ename": "SyntaxError",
     "evalue": "expected ':' (3728676481.py, line 1)",
     "output_type": "error",
     "traceback": [
      "\u001b[0;36m  Cell \u001b[0;32mIn[50], line 1\u001b[0;36m\u001b[0m\n\u001b[0;31m    def a(x:int);\u001b[0m\n\u001b[0m                ^\u001b[0m\n\u001b[0;31mSyntaxError\u001b[0m\u001b[0;31m:\u001b[0m expected ':'\n"
     ]
    }
   ],
   "source": [
    "\n",
    "def a(x:int);\n",
    "    return x+1\n"
   ]
  },
  {
   "cell_type": "code",
   "execution_count": 51,
   "metadata": {},
   "outputs": [
    {
     "ename": "SyntaxError",
     "evalue": "closing parenthesis ']' does not match opening parenthesis '{' (2393665203.py, line 1)",
     "output_type": "error",
     "traceback": [
      "\u001b[0;36m  Cell \u001b[0;32mIn[51], line 1\u001b[0;36m\u001b[0m\n\u001b[0;31m    syntax = {]}\u001b[0m\n\u001b[0m              ^\u001b[0m\n\u001b[0;31mSyntaxError\u001b[0m\u001b[0;31m:\u001b[0m closing parenthesis ']' does not match opening parenthesis '{'\n"
     ]
    }
   ],
   "source": [
    "syntax = {]} # parenthesis 오류 "
   ]
  },
  {
   "cell_type": "code",
   "execution_count": null,
   "metadata": {},
   "outputs": [],
   "source": []
  },
  {
   "cell_type": "markdown",
   "metadata": {},
   "source": [
    "6. ModuleNotFoundError"
   ]
  },
  {
   "cell_type": "code",
   "execution_count": 49,
   "metadata": {},
   "outputs": [
    {
     "ename": "ModuleNotFoundError",
     "evalue": "No module named 'ab'",
     "output_type": "error",
     "traceback": [
      "\u001b[0;31m---------------------------------------------------------------------------\u001b[0m",
      "\u001b[0;31mModuleNotFoundError\u001b[0m                       Traceback (most recent call last)",
      "\u001b[1;32m/Users/jinhojeon/current_study/pac/1.ipynb Cell 115\u001b[0m line \u001b[0;36m1\n\u001b[0;32m----> <a href='vscode-notebook-cell:/Users/jinhojeon/current_study/pac/1.ipynb#Y355sZmlsZQ%3D%3D?line=0'>1</a>\u001b[0m \u001b[39mimport\u001b[39;00m \u001b[39mab\u001b[39;00m\n",
      "\u001b[0;31mModuleNotFoundError\u001b[0m: No module named 'ab'"
     ]
    }
   ],
   "source": [
    "import "
   ]
  },
  {
   "cell_type": "markdown",
   "metadata": {},
   "source": [
    "7. RecursionError"
   ]
  },
  {
   "cell_type": "code",
   "execution_count": 52,
   "metadata": {},
   "outputs": [
    {
     "ename": "RecursionError",
     "evalue": "maximum recursion depth exceeded",
     "output_type": "error",
     "traceback": [
      "\u001b[0;31m---------------------------------------------------------------------------\u001b[0m",
      "\u001b[0;31mRecursionError\u001b[0m                            Traceback (most recent call last)",
      "\u001b[1;32m/Users/jinhojeon/current_study/pac/1.ipynb Cell 120\u001b[0m line \u001b[0;36m4\n\u001b[1;32m      <a href='vscode-notebook-cell:/Users/jinhojeon/current_study/pac/1.ipynb#Y364sZmlsZQ%3D%3D?line=0'>1</a>\u001b[0m \u001b[39mdef\u001b[39;00m \u001b[39ma\u001b[39m(x:\u001b[39mint\u001b[39m):\n\u001b[1;32m      <a href='vscode-notebook-cell:/Users/jinhojeon/current_study/pac/1.ipynb#Y364sZmlsZQ%3D%3D?line=1'>2</a>\u001b[0m     \u001b[39mreturn\u001b[39;00m a(x\u001b[39m+\u001b[39m\u001b[39m1\u001b[39m)\n\u001b[0;32m----> <a href='vscode-notebook-cell:/Users/jinhojeon/current_study/pac/1.ipynb#Y364sZmlsZQ%3D%3D?line=3'>4</a>\u001b[0m a(\u001b[39m10\u001b[39;49m)\n",
      "\u001b[1;32m/Users/jinhojeon/current_study/pac/1.ipynb Cell 120\u001b[0m line \u001b[0;36m2\n\u001b[1;32m      <a href='vscode-notebook-cell:/Users/jinhojeon/current_study/pac/1.ipynb#Y364sZmlsZQ%3D%3D?line=0'>1</a>\u001b[0m \u001b[39mdef\u001b[39;00m \u001b[39ma\u001b[39m(x:\u001b[39mint\u001b[39m):\n\u001b[0;32m----> <a href='vscode-notebook-cell:/Users/jinhojeon/current_study/pac/1.ipynb#Y364sZmlsZQ%3D%3D?line=1'>2</a>\u001b[0m     \u001b[39mreturn\u001b[39;00m a(x\u001b[39m+\u001b[39;49m\u001b[39m1\u001b[39;49m)\n",
      "\u001b[1;32m/Users/jinhojeon/current_study/pac/1.ipynb Cell 120\u001b[0m line \u001b[0;36m2\n\u001b[1;32m      <a href='vscode-notebook-cell:/Users/jinhojeon/current_study/pac/1.ipynb#Y364sZmlsZQ%3D%3D?line=0'>1</a>\u001b[0m \u001b[39mdef\u001b[39;00m \u001b[39ma\u001b[39m(x:\u001b[39mint\u001b[39m):\n\u001b[0;32m----> <a href='vscode-notebook-cell:/Users/jinhojeon/current_study/pac/1.ipynb#Y364sZmlsZQ%3D%3D?line=1'>2</a>\u001b[0m     \u001b[39mreturn\u001b[39;00m a(x\u001b[39m+\u001b[39;49m\u001b[39m1\u001b[39;49m)\n",
      "    \u001b[0;31m[... skipping similar frames: a at line 2 (2971 times)]\u001b[0m\n",
      "\u001b[1;32m/Users/jinhojeon/current_study/pac/1.ipynb Cell 120\u001b[0m line \u001b[0;36m2\n\u001b[1;32m      <a href='vscode-notebook-cell:/Users/jinhojeon/current_study/pac/1.ipynb#Y364sZmlsZQ%3D%3D?line=0'>1</a>\u001b[0m \u001b[39mdef\u001b[39;00m \u001b[39ma\u001b[39m(x:\u001b[39mint\u001b[39m):\n\u001b[0;32m----> <a href='vscode-notebook-cell:/Users/jinhojeon/current_study/pac/1.ipynb#Y364sZmlsZQ%3D%3D?line=1'>2</a>\u001b[0m     \u001b[39mreturn\u001b[39;00m a(x\u001b[39m+\u001b[39;49m\u001b[39m1\u001b[39;49m)\n",
      "\u001b[0;31mRecursionError\u001b[0m: maximum recursion depth exceeded"
     ]
    }
   ],
   "source": [
    "def a(x:int):\n",
    "    return a(x+1)\n",
    "\n",
    "a(10)"
   ]
  },
  {
   "cell_type": "code",
   "execution_count": null,
   "metadata": {},
   "outputs": [],
   "source": []
  },
  {
   "cell_type": "code",
   "execution_count": null,
   "metadata": {},
   "outputs": [],
   "source": []
  },
  {
   "cell_type": "markdown",
   "metadata": {},
   "source": [
    "package, library \n",
    "math, collections, itertools, os, sys\n",
    "numpy, pandas, matplotlib 등을 다룰 겁니다. \n",
    "여기선 math, collections, itertools, os, sys의 method 몇가지를 살펴볼 것입니다."
   ]
  },
  {
   "cell_type": "markdown",
   "metadata": {
    "collapsed": false
   },
   "source": [
    "<h3> math </h3>"
   ]
  },
  {
   "cell_type": "code",
   "execution_count": 30,
   "metadata": {
    "ExecuteTime": {
     "end_time": "2023-10-29T16:12:24.287887Z",
     "start_time": "2023-10-29T16:12:24.267327Z"
    }
   },
   "outputs": [],
   "source": [
    "import math "
   ]
  },
  {
   "cell_type": "code",
   "execution_count": 32,
   "metadata": {
    "ExecuteTime": {
     "end_time": "2023-10-29T16:12:44.203941Z",
     "start_time": "2023-10-29T16:12:44.173448Z"
    },
    "collapsed": false
   },
   "outputs": [
    {
     "data": {
      "text/plain": [
       "12"
      ]
     },
     "execution_count": 32,
     "metadata": {},
     "output_type": "execute_result"
    }
   ],
   "source": [
    "math.lcm(3,4)"
   ]
  },
  {
   "cell_type": "code",
   "execution_count": 33,
   "metadata": {
    "ExecuteTime": {
     "end_time": "2023-10-29T16:12:52.397311Z",
     "start_time": "2023-10-29T16:12:52.374484Z"
    },
    "collapsed": false
   },
   "outputs": [
    {
     "data": {
      "text/plain": [
       "12"
      ]
     },
     "execution_count": 33,
     "metadata": {},
     "output_type": "execute_result"
    }
   ],
   "source": [
    "math.gcd(12,24)"
   ]
  },
  {
   "cell_type": "code",
   "execution_count": 36,
   "metadata": {
    "ExecuteTime": {
     "end_time": "2023-10-29T16:21:24.582922Z",
     "start_time": "2023-10-29T16:21:24.557088Z"
    },
    "collapsed": false
   },
   "outputs": [
    {
     "data": {
      "text/plain": [
       "15"
      ]
     },
     "execution_count": 36,
     "metadata": {},
     "output_type": "execute_result"
    }
   ],
   "source": [
    "math.comb(6,4)"
   ]
  },
  {
   "cell_type": "code",
   "execution_count": 37,
   "metadata": {
    "ExecuteTime": {
     "end_time": "2023-10-29T16:21:45.236097Z",
     "start_time": "2023-10-29T16:21:45.214997Z"
    },
    "collapsed": false
   },
   "outputs": [
    {
     "data": {
      "text/plain": [
       "120"
      ]
     },
     "execution_count": 37,
     "metadata": {},
     "output_type": "execute_result"
    }
   ],
   "source": [
    "math.factorial(5)"
   ]
  },
  {
   "cell_type": "code",
   "execution_count": 40,
   "metadata": {
    "ExecuteTime": {
     "end_time": "2023-10-29T16:22:19.923447Z",
     "start_time": "2023-10-29T16:22:19.898817Z"
    }
   },
   "outputs": [
    {
     "data": {
      "text/plain": [
       "4.0"
      ]
     },
     "execution_count": 40,
     "metadata": {},
     "output_type": "execute_result"
    }
   ],
   "source": [
    "math.cbrt(64)"
   ]
  },
  {
   "cell_type": "markdown",
   "metadata": {
    "collapsed": false
   },
   "source": [
    "<h3> collections </h3>"
   ]
  },
  {
   "cell_type": "code",
   "execution_count": 135,
   "metadata": {
    "ExecuteTime": {
     "end_time": "2023-10-29T16:57:44.987543Z",
     "start_time": "2023-10-29T16:57:44.961922Z"
    }
   },
   "outputs": [],
   "source": [
    "import collections\n"
   ]
  },
  {
   "cell_type": "markdown",
   "metadata": {},
   "source": [
    "<h3> python에서 deque를 구현하기 deque </h3>"
   ]
  },
  {
   "cell_type": "code",
   "execution_count": 136,
   "metadata": {
    "ExecuteTime": {
     "end_time": "2023-10-29T16:57:51.079300Z",
     "start_time": "2023-10-29T16:57:51.045119Z"
    },
    "collapsed": false
   },
   "outputs": [],
   "source": [
    "deq = collections.deque([])"
   ]
  },
  {
   "cell_type": "code",
   "execution_count": 137,
   "metadata": {
    "ExecuteTime": {
     "end_time": "2023-10-29T16:58:02.060230Z",
     "start_time": "2023-10-29T16:58:02.026549Z"
    },
    "collapsed": false
   },
   "outputs": [],
   "source": [
    "deq.extend([1,2,3])"
   ]
  },
  {
   "cell_type": "code",
   "execution_count": 138,
   "metadata": {
    "ExecuteTime": {
     "end_time": "2023-10-29T16:58:05.159930Z",
     "start_time": "2023-10-29T16:58:05.112346Z"
    },
    "collapsed": false
   },
   "outputs": [
    {
     "data": {
      "text/plain": [
       "deque([1, 2, 3])"
      ]
     },
     "execution_count": 138,
     "metadata": {},
     "output_type": "execute_result"
    }
   ],
   "source": [
    "deq\n"
   ]
  },
  {
   "cell_type": "code",
   "execution_count": 139,
   "metadata": {
    "ExecuteTime": {
     "end_time": "2023-10-29T16:58:10.925103Z",
     "start_time": "2023-10-29T16:58:10.888698Z"
    },
    "collapsed": false
   },
   "outputs": [],
   "source": [
    "deq.append(4)"
   ]
  },
  {
   "cell_type": "code",
   "execution_count": 140,
   "metadata": {
    "ExecuteTime": {
     "end_time": "2023-10-29T16:58:14.035663Z",
     "start_time": "2023-10-29T16:58:14.000942Z"
    },
    "collapsed": false
   },
   "outputs": [
    {
     "data": {
      "text/plain": [
       "deque([1, 2, 3, 4])"
      ]
     },
     "execution_count": 140,
     "metadata": {},
     "output_type": "execute_result"
    }
   ],
   "source": [
    "deq"
   ]
  },
  {
   "cell_type": "code",
   "execution_count": 141,
   "metadata": {
    "ExecuteTime": {
     "end_time": "2023-10-29T16:58:19.591212Z",
     "start_time": "2023-10-29T16:58:19.550440Z"
    },
    "collapsed": false
   },
   "outputs": [],
   "source": [
    "deq.appendleft(0)"
   ]
  },
  {
   "cell_type": "code",
   "execution_count": 142,
   "metadata": {
    "ExecuteTime": {
     "end_time": "2023-10-29T16:58:22.748774Z",
     "start_time": "2023-10-29T16:58:22.718042Z"
    },
    "collapsed": false
   },
   "outputs": [
    {
     "data": {
      "text/plain": [
       "deque([0, 1, 2, 3, 4])"
      ]
     },
     "execution_count": 142,
     "metadata": {},
     "output_type": "execute_result"
    }
   ],
   "source": [
    "deq"
   ]
  },
  {
   "cell_type": "code",
   "execution_count": 143,
   "metadata": {
    "ExecuteTime": {
     "end_time": "2023-10-29T16:58:31.843278Z",
     "start_time": "2023-10-29T16:58:31.807500Z"
    },
    "collapsed": false
   },
   "outputs": [
    {
     "data": {
      "text/plain": [
       "4"
      ]
     },
     "execution_count": 143,
     "metadata": {},
     "output_type": "execute_result"
    }
   ],
   "source": [
    "deq.pop()"
   ]
  },
  {
   "cell_type": "code",
   "execution_count": 144,
   "metadata": {
    "ExecuteTime": {
     "end_time": "2023-10-29T16:58:34.603344Z",
     "start_time": "2023-10-29T16:58:34.564705Z"
    },
    "collapsed": false
   },
   "outputs": [
    {
     "data": {
      "text/plain": [
       "deque([0, 1, 2, 3])"
      ]
     },
     "execution_count": 144,
     "metadata": {},
     "output_type": "execute_result"
    }
   ],
   "source": [
    "deq"
   ]
  },
  {
   "cell_type": "code",
   "execution_count": 145,
   "metadata": {
    "ExecuteTime": {
     "end_time": "2023-10-29T16:58:37.528135Z",
     "start_time": "2023-10-29T16:58:37.490958Z"
    },
    "collapsed": false
   },
   "outputs": [
    {
     "data": {
      "text/plain": [
       "0"
      ]
     },
     "execution_count": 145,
     "metadata": {},
     "output_type": "execute_result"
    }
   ],
   "source": [
    "deq.popleft()"
   ]
  },
  {
   "cell_type": "code",
   "execution_count": 146,
   "metadata": {
    "ExecuteTime": {
     "end_time": "2023-10-29T16:58:39.239067Z",
     "start_time": "2023-10-29T16:58:39.204159Z"
    },
    "collapsed": false
   },
   "outputs": [
    {
     "data": {
      "text/plain": [
       "deque([1, 2, 3])"
      ]
     },
     "execution_count": 146,
     "metadata": {},
     "output_type": "execute_result"
    }
   ],
   "source": [
    "deq"
   ]
  },
  {
   "cell_type": "code",
   "execution_count": 147,
   "metadata": {
    "ExecuteTime": {
     "end_time": "2023-10-29T16:59:47.791339Z",
     "start_time": "2023-10-29T16:59:47.755950Z"
    }
   },
   "outputs": [
    {
     "name": "stdout",
     "output_type": "stream",
     "text": [
      "deque([1, 2, 3]) deque([1, 2, 3])\n",
      "deque([1, 2, 3]) deque([1, 2])\n"
     ]
    }
   ],
   "source": [
    "# deq.copy() : deep copy, shallow copy 참고 \n",
    "import copy\n",
    "AA = copy.deepcopy(deq)\n",
    "BB = deq\n",
    "print(AA,BB)\n",
    "deq.pop()\n",
    "print(AA,BB)"
   ]
  },
  {
   "cell_type": "markdown",
   "metadata": {},
   "source": [
    "<h3> 개수를 세는 Counter </h3>"
   ]
  },
  {
   "cell_type": "code",
   "execution_count": 149,
   "metadata": {
    "ExecuteTime": {
     "end_time": "2023-10-29T17:00:06.657771Z",
     "start_time": "2023-10-29T17:00:06.628014Z"
    }
   },
   "outputs": [],
   "source": [
    "cnts = collections.Counter()"
   ]
  },
  {
   "cell_type": "code",
   "execution_count": 150,
   "metadata": {
    "ExecuteTime": {
     "end_time": "2023-10-29T17:00:31.493262Z",
     "start_time": "2023-10-29T17:00:31.471863Z"
    }
   },
   "outputs": [],
   "source": [
    "cnts = collections.Counter([1,1,1,2,2,3,3,4,5,5,5,7,8,8])"
   ]
  },
  {
   "cell_type": "code",
   "execution_count": 151,
   "metadata": {
    "ExecuteTime": {
     "end_time": "2023-10-29T17:00:34.033099Z",
     "start_time": "2023-10-29T17:00:33.998535Z"
    }
   },
   "outputs": [
    {
     "data": {
      "text/plain": [
       "Counter({1: 3, 5: 3, 2: 2, 3: 2, 8: 2, 4: 1, 7: 1})"
      ]
     },
     "execution_count": 151,
     "metadata": {},
     "output_type": "execute_result"
    }
   ],
   "source": [
    "cnts"
   ]
  },
  {
   "cell_type": "code",
   "execution_count": 153,
   "metadata": {
    "ExecuteTime": {
     "end_time": "2023-10-29T17:00:41.105771Z",
     "start_time": "2023-10-29T17:00:41.074382Z"
    }
   },
   "outputs": [
    {
     "data": {
      "text/plain": [
       "[(1, 3)]"
      ]
     },
     "execution_count": 153,
     "metadata": {},
     "output_type": "execute_result"
    }
   ],
   "source": [
    "cnts.most_common(1) # 순위"
   ]
  },
  {
   "cell_type": "code",
   "execution_count": 154,
   "metadata": {
    "ExecuteTime": {
     "end_time": "2023-10-29T17:00:52.546611Z",
     "start_time": "2023-10-29T17:00:52.515715Z"
    },
    "collapsed": false
   },
   "outputs": [
    {
     "data": {
      "text/plain": [
       "['__add__',\n",
       " '__and__',\n",
       " '__class__',\n",
       " '__class_getitem__',\n",
       " '__contains__',\n",
       " '__delattr__',\n",
       " '__delitem__',\n",
       " '__dict__',\n",
       " '__dir__',\n",
       " '__doc__',\n",
       " '__eq__',\n",
       " '__format__',\n",
       " '__ge__',\n",
       " '__getattribute__',\n",
       " '__getitem__',\n",
       " '__getstate__',\n",
       " '__gt__',\n",
       " '__hash__',\n",
       " '__iadd__',\n",
       " '__iand__',\n",
       " '__init__',\n",
       " '__init_subclass__',\n",
       " '__ior__',\n",
       " '__isub__',\n",
       " '__iter__',\n",
       " '__le__',\n",
       " '__len__',\n",
       " '__lt__',\n",
       " '__missing__',\n",
       " '__module__',\n",
       " '__ne__',\n",
       " '__neg__',\n",
       " '__new__',\n",
       " '__or__',\n",
       " '__pos__',\n",
       " '__reduce__',\n",
       " '__reduce_ex__',\n",
       " '__repr__',\n",
       " '__reversed__',\n",
       " '__ror__',\n",
       " '__setattr__',\n",
       " '__setitem__',\n",
       " '__sizeof__',\n",
       " '__str__',\n",
       " '__sub__',\n",
       " '__subclasshook__',\n",
       " '__weakref__',\n",
       " '_keep_positive',\n",
       " 'clear',\n",
       " 'copy',\n",
       " 'elements',\n",
       " 'fromkeys',\n",
       " 'get',\n",
       " 'items',\n",
       " 'keys',\n",
       " 'most_common',\n",
       " 'pop',\n",
       " 'popitem',\n",
       " 'setdefault',\n",
       " 'subtract',\n",
       " 'total',\n",
       " 'update',\n",
       " 'values']"
      ]
     },
     "execution_count": 154,
     "metadata": {},
     "output_type": "execute_result"
    }
   ],
   "source": [
    "dir(cnts) # dict를 기반으로 추가되었다고 생각하시면 편합니다."
   ]
  },
  {
   "cell_type": "markdown",
   "metadata": {
    "collapsed": false
   },
   "source": [
    "<h3> 마지막으로 itertools</h3>"
   ]
  },
  {
   "cell_type": "code",
   "execution_count": 6,
   "metadata": {},
   "outputs": [],
   "source": [
    "import itertools "
   ]
  },
  {
   "cell_type": "code",
   "execution_count": 11,
   "metadata": {},
   "outputs": [
    {
     "data": {
      "text/plain": [
       "<itertools.combinations at 0x1075489f0>"
      ]
     },
     "execution_count": 11,
     "metadata": {},
     "output_type": "execute_result"
    }
   ],
   "source": [
    "a = itertools.combinations( [1,2,3], 2 )\n",
    "a"
   ]
  },
  {
   "cell_type": "code",
   "execution_count": 12,
   "metadata": {},
   "outputs": [
    {
     "data": {
      "text/plain": [
       "[(1, 2), (1, 3), (2, 3)]"
      ]
     },
     "execution_count": 12,
     "metadata": {},
     "output_type": "execute_result"
    }
   ],
   "source": [
    "list(a)"
   ]
  }
 ],
 "metadata": {
  "kernelspec": {
   "display_name": "Python 3 (ipykernel)",
   "language": "python",
   "name": "python3"
  },
  "language_info": {
   "codemirror_mode": {
    "name": "ipython",
    "version": 3
   },
   "file_extension": ".py",
   "mimetype": "text/x-python",
   "name": "python",
   "nbconvert_exporter": "python",
   "pygments_lexer": "ipython3",
   "version": "3.11.5"
  }
 },
 "nbformat": 4,
 "nbformat_minor": 4
}
