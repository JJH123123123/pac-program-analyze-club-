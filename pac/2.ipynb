{
 "cells": [
  {
   "cell_type": "markdown",
   "metadata": {},
   "source": [
    "<h1>Numpy</h1>"
   ]
  },
  {
   "cell_type": "code",
   "execution_count": 24,
   "metadata": {},
   "outputs": [
    {
     "name": "stdout",
     "output_type": "stream",
     "text": [
      "Requirement already satisfied: numpy in /Users/jinhojeon/.pyenv/versions/3.11-dev/lib/python3.11/site-packages (1.26.0)\n"
     ]
    }
   ],
   "source": [
    "!pip install numpy\n",
    "import numpy as np"
   ]
  },
  {
   "cell_type": "code",
   "execution_count": null,
   "metadata": {},
   "outputs": [],
   "source": []
  },
  {
   "cell_type": "code",
   "execution_count": null,
   "metadata": {},
   "outputs": [],
   "source": []
  },
  {
   "cell_type": "code",
   "execution_count": 25,
   "metadata": {},
   "outputs": [
    {
     "name": "stdout",
     "output_type": "stream",
     "text": [
      "ALLOW_THREADS BUFSIZE CLIP DataSource ERR_CALL ERR_DEFAULT ERR_IGNORE ERR_LOG ERR_PRINT ERR_RAISE ERR_WARN FLOATING_POINT_SUPPORT FPE_DIVIDEBYZERO \n",
      "FPE_INVALID FPE_OVERFLOW FPE_UNDERFLOW False_ Inf Infinity MAXDIMS MAY_SHARE_BOUNDS MAY_SHARE_EXACT NAN NINF NZERO NaN \n",
      "PINF PZERO RAISE RankWarning SHIFT_DIVIDEBYZERO SHIFT_INVALID SHIFT_OVERFLOW SHIFT_UNDERFLOW ScalarType True_ UFUNC_BUFSIZE_DEFAULT UFUNC_PYVALS_NAME WRAP \n",
      "_CopyMode _NoValue _UFUNC_API __NUMPY_SETUP__ __all__ __builtins__ __cached__ __config__ __deprecated_attrs__ __dir__ __doc__ __expired_functions__ __file__ \n",
      "__former_attrs__ __future_scalars__ __getattr__ __loader__ __name__ __package__ __path__ __spec__ __version__ _add_newdoc_ufunc _builtins _distributor_init _financial_names \n",
      "_get_promotion_state _globals _int_extended_msg _mat _no_nep50_warning _pyinstaller_hooks_dir _pytesttester _set_promotion_state _specific_msg _typing _using_numpy2_behavior _utils abs \n",
      "absolute add add_docstring add_newdoc add_newdoc_ufunc all allclose alltrue amax amin angle any append \n",
      "apply_along_axis apply_over_axes arange arccos arccosh arcsin arcsinh arctan arctan2 arctanh argmax argmin argpartition \n",
      "argsort argwhere around array array2string array_equal array_equiv array_repr array_split array_str asanyarray asarray asarray_chkfinite \n",
      "ascontiguousarray asfarray asfortranarray asmatrix atleast_1d atleast_2d atleast_3d average bartlett base_repr binary_repr bincount bitwise_and \n",
      "bitwise_not bitwise_or bitwise_xor blackman block bmat bool_ broadcast broadcast_arrays broadcast_shapes broadcast_to busday_count busday_offset \n",
      "busdaycalendar byte byte_bounds bytes_ c_ can_cast cast cbrt cdouble ceil cfloat char character \n",
      "chararray choose clip clongdouble clongfloat column_stack common_type compare_chararrays compat complex128 complex64 complex_ complexfloating \n",
      "compress concatenate conj conjugate convolve copy copysign copyto corrcoef correlate cos cosh count_nonzero \n",
      "cov cross csingle ctypeslib cumprod cumproduct cumsum datetime64 datetime_as_string datetime_data deg2rad degrees delete \n",
      "deprecate deprecate_with_doc diag diag_indices diag_indices_from diagflat diagonal diff digitize disp divide divmod dot \n",
      "double dsplit dstack dtype dtypes e ediff1d einsum einsum_path emath empty empty_like equal \n",
      "error_message errstate euler_gamma exceptions exp exp2 expand_dims expm1 extract eye fabs fastCopyAndTranspose fft \n",
      "fill_diagonal find_common_type finfo fix flatiter flatnonzero flexible flip fliplr flipud float16 float32 float64 \n",
      "float_ float_power floating floor floor_divide fmax fmin fmod format_float_positional format_float_scientific format_parser frexp from_dlpack \n",
      "frombuffer fromfile fromfunction fromiter frompyfunc fromregex fromstring full full_like gcd generic genfromtxt geomspace \n",
      "get_array_wrap get_include get_printoptions getbufsize geterr geterrcall geterrobj gradient greater greater_equal half hamming hanning \n",
      "heaviside histogram histogram2d histogram_bin_edges histogramdd hsplit hstack hypot i0 identity iinfo imag in1d \n",
      "index_exp indices inexact inf info infty inner insert int16 int32 int64 int8 int_ \n",
      "intc integer interp intersect1d intp invert is_busday isclose iscomplex iscomplexobj isfinite isfortran isin \n",
      "isinf isnan isnat isneginf isposinf isreal isrealobj isscalar issctype issubclass_ issubdtype issubsctype iterable \n",
      "ix_ kaiser kron lcm ldexp left_shift less less_equal lexsort lib linalg linspace little_endian \n",
      "load loadtxt log log10 log1p log2 logaddexp logaddexp2 logical_and logical_not logical_or logical_xor logspace \n",
      "longcomplex longdouble longfloat longlong lookfor ma mask_indices mat matmul matrix max maximum maximum_sctype \n",
      "may_share_memory mean median memmap meshgrid mgrid min min_scalar_type minimum mintypecode mod modf moveaxis \n",
      "msort multiply nan nan_to_num nanargmax nanargmin nancumprod nancumsum nanmax nanmean nanmedian nanmin nanpercentile \n",
      "nanprod nanquantile nanstd nansum nanvar nbytes ndarray ndenumerate ndim ndindex nditer negative nested_iters \n",
      "newaxis nextafter nonzero not_equal numarray number obj2sctype object_ ogrid oldnumeric ones ones_like outer \n",
      "packbits pad partition percentile pi piecewise place poly poly1d polyadd polyder polydiv polyfit \n",
      "polyint polymul polynomial polysub polyval positive power printoptions prod product promote_types ptp put \n",
      "put_along_axis putmask quantile r_ rad2deg radians random ravel ravel_multi_index real real_if_close rec recarray \n",
      "recfromcsv recfromtxt reciprocal record remainder repeat require reshape resize result_type right_shift rint roll \n",
      "rollaxis roots rot90 round round_ row_stack s_ safe_eval save savetxt savez savez_compressed sctype2char \n",
      "sctypeDict sctypes searchsorted select set_numeric_ops set_printoptions set_string_function setbufsize setdiff1d seterr seterrcall seterrobj setxor1d \n",
      "shape shares_memory short show_config show_runtime sign signbit signedinteger sin sinc single singlecomplex sinh \n",
      "size sometrue sort sort_complex source spacing split sqrt square squeeze stack std str_ \n",
      "string_ subtract sum swapaxes take take_along_axis tan tanh tensordot test testing tile timedelta64 \n",
      "trace tracemalloc_domain transpose trapz tri tril tril_indices tril_indices_from trim_zeros triu triu_indices triu_indices_from true_divide \n",
      "trunc typecodes typename ubyte ufunc uint uint16 uint32 uint64 uint8 uintc uintp ulonglong \n",
      "unicode_ union1d unique unpackbits unravel_index unsignedinteger unwrap ushort vander var vdot vectorize version \n",
      "void vsplit vstack w where who zeros zeros_like inf\n"
     ]
    }
   ],
   "source": [
    "cnt = 0 \n",
    "L = dir(np)\n",
    "L.sort()\n",
    "for order in L:#dir(np):\n",
    "    if cnt ==12:\n",
    "        cnt %=12\n",
    "        print(order, end= \" \")\n",
    "        print()\n",
    "    else:\n",
    "        print(order, end= \" \")\n",
    "        cnt+=1\n",
    "\n",
    "print(np.inf)"
   ]
  },
  {
   "cell_type": "code",
   "execution_count": 26,
   "metadata": {},
   "outputs": [
    {
     "name": "stdout",
     "output_type": "stream",
     "text": [
      "nan\n"
     ]
    }
   ],
   "source": [
    "print(np.inf-np.inf)"
   ]
  },
  {
   "cell_type": "code",
   "execution_count": null,
   "metadata": {},
   "outputs": [],
   "source": []
  },
  {
   "cell_type": "markdown",
   "metadata": {},
   "source": [
    "<h1> 1. 배열의 생성, 저장, 수정 </h1>"
   ]
  },
  {
   "cell_type": "markdown",
   "metadata": {},
   "source": [
    "<h2> - NAN </h2>\n"
   ]
  },
  {
   "cell_type": "code",
   "execution_count": 27,
   "metadata": {},
   "outputs": [
    {
     "data": {
      "text/plain": [
       "nan"
      ]
     },
     "execution_count": 27,
     "metadata": {},
     "output_type": "execute_result"
    }
   ],
   "source": [
    "np.NAN"
   ]
  },
  {
   "cell_type": "code",
   "execution_count": 28,
   "metadata": {},
   "outputs": [
    {
     "data": {
      "text/plain": [
       "nan"
      ]
     },
     "execution_count": 28,
     "metadata": {},
     "output_type": "execute_result"
    }
   ],
   "source": [
    "np.NAN+1"
   ]
  },
  {
   "cell_type": "code",
   "execution_count": 29,
   "metadata": {},
   "outputs": [
    {
     "data": {
      "text/plain": [
       "nan"
      ]
     },
     "execution_count": 29,
     "metadata": {},
     "output_type": "execute_result"
    }
   ],
   "source": [
    "np.NAN - np.NAN"
   ]
  },
  {
   "cell_type": "markdown",
   "metadata": {},
   "source": [
    "<h2> - np.array </h2>"
   ]
  },
  {
   "cell_type": "code",
   "execution_count": 30,
   "metadata": {},
   "outputs": [],
   "source": [
    "A = np.array([1,2,3],dtype=np.double)"
   ]
  },
  {
   "cell_type": "code",
   "execution_count": 31,
   "metadata": {},
   "outputs": [
    {
     "data": {
      "text/plain": [
       "array([1., 2., 3.])"
      ]
     },
     "execution_count": 31,
     "metadata": {},
     "output_type": "execute_result"
    }
   ],
   "source": [
    "A"
   ]
  },
  {
   "cell_type": "code",
   "execution_count": null,
   "metadata": {},
   "outputs": [],
   "source": []
  },
  {
   "cell_type": "code",
   "execution_count": null,
   "metadata": {},
   "outputs": [],
   "source": []
  },
  {
   "cell_type": "markdown",
   "metadata": {},
   "source": [
    "<h2> - np.shape </h2>"
   ]
  },
  {
   "cell_type": "code",
   "execution_count": 32,
   "metadata": {},
   "outputs": [
    {
     "data": {
      "text/plain": [
       "(2, 3)"
      ]
     },
     "execution_count": 32,
     "metadata": {},
     "output_type": "execute_result"
    }
   ],
   "source": [
    "A = np.array([[1,2,3], [3,4,5]])\n",
    "A.shape # (rows, columns)"
   ]
  },
  {
   "cell_type": "code",
   "execution_count": 33,
   "metadata": {},
   "outputs": [
    {
     "data": {
      "text/plain": [
       "array([[1, 2, 3],\n",
       "       [3, 4, 5]])"
      ]
     },
     "execution_count": 33,
     "metadata": {},
     "output_type": "execute_result"
    }
   ],
   "source": [
    "A"
   ]
  },
  {
   "cell_type": "markdown",
   "metadata": {},
   "source": [
    "<h2> - np.ndim </h2>"
   ]
  },
  {
   "cell_type": "code",
   "execution_count": 34,
   "metadata": {},
   "outputs": [
    {
     "data": {
      "text/plain": [
       "2"
      ]
     },
     "execution_count": 34,
     "metadata": {},
     "output_type": "execute_result"
    }
   ],
   "source": [
    "B = np.array([[1,2,3],[4,5,6]])\n",
    "np.ndim(B) # min( dim(row), dim(col))"
   ]
  },
  {
   "cell_type": "code",
   "execution_count": null,
   "metadata": {},
   "outputs": [],
   "source": []
  },
  {
   "cell_type": "markdown",
   "metadata": {},
   "source": [
    "<h2>- np.size </h2>"
   ]
  },
  {
   "cell_type": "code",
   "execution_count": 35,
   "metadata": {},
   "outputs": [
    {
     "data": {
      "text/plain": [
       "6"
      ]
     },
     "execution_count": 35,
     "metadata": {},
     "output_type": "execute_result"
    }
   ],
   "source": [
    "np.size(B) # n * m = 2 * 3 = 6 "
   ]
  },
  {
   "cell_type": "markdown",
   "metadata": {},
   "source": [
    "<h2> - np.reshape </h2>"
   ]
  },
  {
   "cell_type": "code",
   "execution_count": 36,
   "metadata": {},
   "outputs": [
    {
     "data": {
      "text/plain": [
       "(array([[1, 2],\n",
       "        [3, 3],\n",
       "        [4, 5]]),\n",
       " array([[1, 2, 3],\n",
       "        [3, 4, 5]]))"
      ]
     },
     "execution_count": 36,
     "metadata": {},
     "output_type": "execute_result"
    }
   ],
   "source": [
    "A.reshape(3,2), A"
   ]
  },
  {
   "cell_type": "code",
   "execution_count": 37,
   "metadata": {},
   "outputs": [],
   "source": [
    "B = A.reshape(3,2)"
   ]
  },
  {
   "cell_type": "code",
   "execution_count": 38,
   "metadata": {},
   "outputs": [
    {
     "data": {
      "text/plain": [
       "array([[1, 2],\n",
       "       [3, 3],\n",
       "       [4, 5]])"
      ]
     },
     "execution_count": 38,
     "metadata": {},
     "output_type": "execute_result"
    }
   ],
   "source": [
    "B # should be assigned"
   ]
  },
  {
   "cell_type": "markdown",
   "metadata": {},
   "source": [
    "<h2> - np.zeros_like </h2> "
   ]
  },
  {
   "cell_type": "code",
   "execution_count": 39,
   "metadata": {},
   "outputs": [
    {
     "data": {
      "text/plain": [
       "array([[0, 0, 0],\n",
       "       [0, 0, 0]])"
      ]
     },
     "execution_count": 39,
     "metadata": {},
     "output_type": "execute_result"
    }
   ],
   "source": [
    "A = np.array([[1,2,3], [3,4,5]])\n",
    "B = np.zeros_like(A)\n",
    "B"
   ]
  },
  {
   "cell_type": "markdown",
   "metadata": {},
   "source": [
    "<h2> - np.zeros </h2>"
   ]
  },
  {
   "cell_type": "code",
   "execution_count": 40,
   "metadata": {},
   "outputs": [
    {
     "data": {
      "text/plain": [
       "array([0., 0., 0., 0., 0., 0., 0., 0., 0., 0.])"
      ]
     },
     "execution_count": 40,
     "metadata": {},
     "output_type": "execute_result"
    }
   ],
   "source": [
    "np.zeros(10)"
   ]
  },
  {
   "cell_type": "code",
   "execution_count": 41,
   "metadata": {},
   "outputs": [
    {
     "data": {
      "text/plain": [
       "array([[0., 0., 0., 0.],\n",
       "       [0., 0., 0., 0.],\n",
       "       [0., 0., 0., 0.],\n",
       "       [0., 0., 0., 0.]])"
      ]
     },
     "execution_count": 41,
     "metadata": {},
     "output_type": "execute_result"
    }
   ],
   "source": [
    "np.zeros((4,4))"
   ]
  },
  {
   "cell_type": "markdown",
   "metadata": {},
   "source": [
    "<h2> np.ones </h2>"
   ]
  },
  {
   "cell_type": "code",
   "execution_count": 42,
   "metadata": {},
   "outputs": [
    {
     "data": {
      "text/plain": [
       "array([[1., 1., 1.],\n",
       "       [1., 1., 1.]])"
      ]
     },
     "execution_count": 42,
     "metadata": {},
     "output_type": "execute_result"
    }
   ],
   "source": [
    "np.ones((2,3))"
   ]
  },
  {
   "cell_type": "code",
   "execution_count": 43,
   "metadata": {},
   "outputs": [
    {
     "data": {
      "text/plain": [
       "1.0"
      ]
     },
     "execution_count": 43,
     "metadata": {},
     "output_type": "execute_result"
    }
   ],
   "source": [
    "np.empty((2,3))[0][0]"
   ]
  },
  {
   "cell_type": "markdown",
   "metadata": {},
   "source": [
    "<h2> np.linspace very important </h2> "
   ]
  },
  {
   "cell_type": "code",
   "execution_count": 44,
   "metadata": {},
   "outputs": [
    {
     "data": {
      "text/plain": [
       "array([0.        , 0.22222222, 0.44444444, 0.66666667, 0.88888889,\n",
       "       1.11111111, 1.33333333, 1.55555556, 1.77777778, 2.        ])"
      ]
     },
     "execution_count": 44,
     "metadata": {},
     "output_type": "execute_result"
    }
   ],
   "source": [
    "np.linspace(0,2,10)"
   ]
  },
  {
   "cell_type": "markdown",
   "metadata": {},
   "source": [
    "<h2> np.logspace </h2>"
   ]
  },
  {
   "cell_type": "code",
   "execution_count": 45,
   "metadata": {},
   "outputs": [
    {
     "data": {
      "text/plain": [
       "array([ 1.        ,  1.29154967,  1.66810054,  2.15443469,  2.7825594 ,\n",
       "        3.59381366,  4.64158883,  5.9948425 ,  7.74263683, 10.        ])"
      ]
     },
     "execution_count": 45,
     "metadata": {},
     "output_type": "execute_result"
    }
   ],
   "source": [
    "np.logspace(0,1,10)"
   ]
  },
  {
   "cell_type": "markdown",
   "metadata": {},
   "source": [
    "<h2> np.meshgrid </h2>"
   ]
  },
  {
   "cell_type": "code",
   "execution_count": 46,
   "metadata": {},
   "outputs": [],
   "source": [
    "Y = np.logspace(0,10,10,base=2)\n",
    "X = np.linspace(0,10,10)\n"
   ]
  },
  {
   "cell_type": "code",
   "execution_count": 47,
   "metadata": {},
   "outputs": [],
   "source": [
    "import matplotlib.pyplot  as plt"
   ]
  },
  {
   "cell_type": "code",
   "execution_count": 48,
   "metadata": {},
   "outputs": [
    {
     "data": {
      "text/plain": [
       "[<matplotlib.lines.Line2D at 0x11fbe1f10>]"
      ]
     },
     "execution_count": 48,
     "metadata": {},
     "output_type": "execute_result"
    },
    {
     "data": {
      "image/png": "[encoded data removed]",
      "text/plain": [
       "<Figure size 640x480 with 1 Axes>"
      ]
     },
     "metadata": {},
     "output_type": "display_data"
    }
   ],
   "source": [
    "plt.plot(X,Y, 'o--') "
   ]
  },
  {
   "cell_type": "markdown",
   "metadata": {},
   "source": [
    "# from this moment, we define f(x,y) = x^2 * y^2 from [0,2]"
   ]
  },
  {
   "cell_type": "code",
   "execution_count": 49,
   "metadata": {},
   "outputs": [],
   "source": [
    "x = np.linspace(0,2,20)\n",
    "y = np.linspace(0,2,20)"
   ]
  },
  {
   "cell_type": "code",
   "execution_count": 50,
   "metadata": {},
   "outputs": [],
   "source": [
    "[X,Y] = np.meshgrid(x,y)\n",
    "Z = X**2 * Y**2"
   ]
  },
  {
   "cell_type": "code",
   "execution_count": 51,
   "metadata": {},
   "outputs": [
    {
     "data": {
      "text/plain": [
       "(20, 20)"
      ]
     },
     "execution_count": 51,
     "metadata": {},
     "output_type": "execute_result"
    }
   ],
   "source": [
    "Y.shape"
   ]
  },
  {
   "cell_type": "code",
   "execution_count": 52,
   "metadata": {},
   "outputs": [
    {
     "data": {
      "image/png": "[encoded data removed]",
      "text/plain": [
       "<Figure size 640x480 with 1 Axes>"
      ]
     },
     "metadata": {},
     "output_type": "display_data"
    }
   ],
   "source": [
    "from mpl_toolkits.mplot3d import Axes3D\n",
    "\n",
    "fig = plt.figure()\n",
    "ax = fig.add_subplot(111, projection = \"3d\")\n",
    "\n",
    "surf = ax.plot_surface(X, Y, Z, cmap='viridis')\n",
    "\n",
    "plt.show()"
   ]
  },
  {
   "cell_type": "code",
   "execution_count": null,
   "metadata": {},
   "outputs": [],
   "source": []
  },
  {
   "cell_type": "markdown",
   "metadata": {},
   "source": [
    "<h2> - Two ways of Transpose of A </h2>"
   ]
  },
  {
   "cell_type": "code",
   "execution_count": 53,
   "metadata": {},
   "outputs": [
    {
     "data": {
      "text/plain": [
       "array([[1, 3],\n",
       "       [2, 4],\n",
       "       [3, 5]])"
      ]
     },
     "execution_count": 53,
     "metadata": {},
     "output_type": "execute_result"
    }
   ],
   "source": [
    "A.T"
   ]
  },
  {
   "cell_type": "code",
   "execution_count": 54,
   "metadata": {},
   "outputs": [
    {
     "data": {
      "text/plain": [
       "array([[1, 3],\n",
       "       [2, 4],\n",
       "       [3, 5]])"
      ]
     },
     "execution_count": 54,
     "metadata": {},
     "output_type": "execute_result"
    }
   ],
   "source": [
    "# or \n",
    "np.transpose(A)"
   ]
  },
  {
   "cell_type": "markdown",
   "metadata": {},
   "source": [
    "<h2> - eyes : identity matrix </h2>"
   ]
  },
  {
   "cell_type": "code",
   "execution_count": 55,
   "metadata": {},
   "outputs": [
    {
     "data": {
      "text/plain": [
       "array([[1., 0., 0.],\n",
       "       [0., 1., 0.],\n",
       "       [0., 0., 1.]])"
      ]
     },
     "execution_count": 55,
     "metadata": {},
     "output_type": "execute_result"
    }
   ],
   "source": [
    "C = np.eye(3)\n",
    "C"
   ]
  },
  {
   "cell_type": "code",
   "execution_count": null,
   "metadata": {},
   "outputs": [],
   "source": []
  },
  {
   "cell_type": "markdown",
   "metadata": {},
   "source": [
    "<h2> np.unique : uniqueness of element </h2>"
   ]
  },
  {
   "cell_type": "markdown",
   "metadata": {},
   "source": []
  },
  {
   "cell_type": "code",
   "execution_count": 56,
   "metadata": {},
   "outputs": [],
   "source": [
    "L = np.ones(3)"
   ]
  },
  {
   "cell_type": "code",
   "execution_count": 57,
   "metadata": {},
   "outputs": [
    {
     "data": {
      "text/plain": [
       "array([1., 1., 1.])"
      ]
     },
     "execution_count": 57,
     "metadata": {},
     "output_type": "execute_result"
    }
   ],
   "source": [
    "L"
   ]
  },
  {
   "cell_type": "code",
   "execution_count": 58,
   "metadata": {},
   "outputs": [
    {
     "data": {
      "text/plain": [
       "array([1.])"
      ]
     },
     "execution_count": 58,
     "metadata": {},
     "output_type": "execute_result"
    }
   ],
   "source": [
    "np.unique(L)"
   ]
  },
  {
   "cell_type": "code",
   "execution_count": 59,
   "metadata": {},
   "outputs": [],
   "source": [
    "PP = np.random.randint(0,4,4)"
   ]
  },
  {
   "cell_type": "code",
   "execution_count": 60,
   "metadata": {},
   "outputs": [
    {
     "data": {
      "text/plain": [
       "array([3, 1, 1, 3])"
      ]
     },
     "execution_count": 60,
     "metadata": {},
     "output_type": "execute_result"
    }
   ],
   "source": [
    "PP"
   ]
  },
  {
   "cell_type": "code",
   "execution_count": 61,
   "metadata": {},
   "outputs": [
    {
     "data": {
      "text/plain": [
       "array([1, 3])"
      ]
     },
     "execution_count": 61,
     "metadata": {},
     "output_type": "execute_result"
    }
   ],
   "source": [
    "np.unique(PP)"
   ]
  },
  {
   "cell_type": "code",
   "execution_count": null,
   "metadata": {},
   "outputs": [],
   "source": []
  },
  {
   "cell_type": "code",
   "execution_count": null,
   "metadata": {},
   "outputs": [],
   "source": []
  },
  {
   "cell_type": "code",
   "execution_count": null,
   "metadata": {},
   "outputs": [],
   "source": []
  },
  {
   "cell_type": "markdown",
   "metadata": {},
   "source": [
    "<h2> np.tile : create the given array n times </h2>"
   ]
  },
  {
   "cell_type": "markdown",
   "metadata": {},
   "source": []
  },
  {
   "cell_type": "code",
   "execution_count": 62,
   "metadata": {},
   "outputs": [
    {
     "data": {
      "text/plain": [
       "array([1, 2, 3, 1, 2, 3, 1, 2, 3])"
      ]
     },
     "execution_count": 62,
     "metadata": {},
     "output_type": "execute_result"
    }
   ],
   "source": [
    "np.tile([1,2,3],3)"
   ]
  },
  {
   "cell_type": "code",
   "execution_count": 63,
   "metadata": {},
   "outputs": [
    {
     "data": {
      "text/plain": [
       "array([[1, 2, 3, 1, 2, 3, 1, 2, 3],\n",
       "       [4, 5, 6, 4, 5, 6, 4, 5, 6]])"
      ]
     },
     "execution_count": 63,
     "metadata": {},
     "output_type": "execute_result"
    }
   ],
   "source": [
    "np.tile(np.array([[1,2,3],[4,5,6]]),3)"
   ]
  },
  {
   "cell_type": "code",
   "execution_count": null,
   "metadata": {},
   "outputs": [],
   "source": []
  },
  {
   "cell_type": "markdown",
   "metadata": {},
   "source": []
  },
  {
   "cell_type": "code",
   "execution_count": null,
   "metadata": {},
   "outputs": [],
   "source": [
    "\n"
   ]
  },
  {
   "cell_type": "markdown",
   "metadata": {},
   "source": [
    "<h2> np.concatenate </h2>\n",
    "<h3> := joining </h3>\n"
   ]
  },
  {
   "cell_type": "markdown",
   "metadata": {},
   "source": []
  },
  {
   "cell_type": "code",
   "execution_count": 64,
   "metadata": {},
   "outputs": [
    {
     "name": "stdout",
     "output_type": "stream",
     "text": [
      "A.T\n",
      "[[1 3]\n",
      " [2 4]\n",
      " [3 5]]\n",
      "\n",
      "\n",
      "[[1. 3. 1. 0. 0.]\n",
      " [2. 4. 0. 1. 0.]\n",
      " [3. 5. 0. 0. 1.]]\n",
      "\n",
      "\n",
      "\n",
      "[[1. 3. 1. 0. 0. 3.]\n",
      " [2. 4. 0. 1. 0. 1.]\n",
      " [3. 5. 0. 0. 1. 5.]]\n"
     ]
    }
   ],
   "source": [
    "# first join\n",
    "print(\"A.T\")\n",
    "print(A.T)\n",
    "print()\n",
    "D = np.concatenate([A.T, C], axis=1)\n",
    "\n",
    "\n",
    "print()\n",
    "print(D)\n",
    "print()\n",
    "\n",
    "# second join\n",
    "\n",
    "e = np.array([1,2,3]).T\n",
    "\n",
    "# E = np.concatenate([D,  e], axis=1)\n",
    "# print(D)\n",
    "# print(np.array([1,2,3]))\n",
    "\n",
    "print()\n",
    "print()\n",
    "e = np.array([ [3,1,5]]).T\n",
    "E = np.concatenate([D,e],axis=1)\n",
    "print(E)\n",
    "\n"
   ]
  },
  {
   "cell_type": "code",
   "execution_count": 65,
   "metadata": {},
   "outputs": [
    {
     "data": {
      "text/plain": [
       "array([[0, 3],\n",
       "       [3, 1],\n",
       "       [4, 5]])"
      ]
     },
     "execution_count": 65,
     "metadata": {},
     "output_type": "execute_result"
    }
   ],
   "source": [
    "D = np.array([[0],[3],[4]])\n",
    "FF = np.concatenate([D,e],axis=1)\n",
    "FF"
   ]
  },
  {
   "cell_type": "code",
   "execution_count": 66,
   "metadata": {},
   "outputs": [
    {
     "data": {
      "text/plain": [
       "array([1, 3])"
      ]
     },
     "execution_count": 66,
     "metadata": {},
     "output_type": "execute_result"
    }
   ],
   "source": [
    "EE = np.array([1,3])\n",
    "EE"
   ]
  },
  {
   "cell_type": "code",
   "execution_count": null,
   "metadata": {},
   "outputs": [],
   "source": []
  },
  {
   "cell_type": "code",
   "execution_count": null,
   "metadata": {},
   "outputs": [],
   "source": []
  },
  {
   "cell_type": "code",
   "execution_count": null,
   "metadata": {},
   "outputs": [],
   "source": []
  },
  {
   "cell_type": "code",
   "execution_count": 67,
   "metadata": {},
   "outputs": [
    {
     "data": {
      "text/plain": [
       "array([[0, 3],\n",
       "       [3, 1],\n",
       "       [4, 5]])"
      ]
     },
     "execution_count": 67,
     "metadata": {},
     "output_type": "execute_result"
    }
   ],
   "source": [
    "FF"
   ]
  },
  {
   "cell_type": "code",
   "execution_count": 68,
   "metadata": {},
   "outputs": [
    {
     "data": {
      "text/plain": [
       "(3, 2)"
      ]
     },
     "execution_count": 68,
     "metadata": {},
     "output_type": "execute_result"
    }
   ],
   "source": [
    "FF.shape"
   ]
  },
  {
   "cell_type": "code",
   "execution_count": 69,
   "metadata": {},
   "outputs": [
    {
     "data": {
      "text/plain": [
       "(2,)"
      ]
     },
     "execution_count": 69,
     "metadata": {},
     "output_type": "execute_result"
    }
   ],
   "source": [
    "EE.shape"
   ]
  },
  {
   "cell_type": "code",
   "execution_count": 70,
   "metadata": {},
   "outputs": [
    {
     "data": {
      "text/plain": [
       "array([[0, 3],\n",
       "       [3, 1],\n",
       "       [4, 5],\n",
       "       [1, 3]])"
      ]
     },
     "execution_count": 70,
     "metadata": {},
     "output_type": "execute_result"
    }
   ],
   "source": [
    "np.concatenate([FF,[EE]], axis=0)"
   ]
  },
  {
   "cell_type": "code",
   "execution_count": null,
   "metadata": {},
   "outputs": [],
   "source": []
  },
  {
   "cell_type": "code",
   "execution_count": null,
   "metadata": {},
   "outputs": [],
   "source": []
  },
  {
   "cell_type": "code",
   "execution_count": null,
   "metadata": {},
   "outputs": [],
   "source": []
  },
  {
   "cell_type": "markdown",
   "metadata": {},
   "source": [
    "<h2> np.stack </h2>"
   ]
  },
  {
   "cell_type": "code",
   "execution_count": 71,
   "metadata": {},
   "outputs": [],
   "source": [
    "A = np.array([1,2,3])\n",
    "B = np.array([4,5,6])\n"
   ]
  },
  {
   "cell_type": "code",
   "execution_count": 72,
   "metadata": {},
   "outputs": [],
   "source": [
    "C = np.stack((A,B))"
   ]
  },
  {
   "cell_type": "code",
   "execution_count": 73,
   "metadata": {},
   "outputs": [
    {
     "data": {
      "text/plain": [
       "array([[1, 2, 3],\n",
       "       [4, 5, 6]])"
      ]
     },
     "execution_count": 73,
     "metadata": {},
     "output_type": "execute_result"
    }
   ],
   "source": [
    "C\n"
   ]
  },
  {
   "cell_type": "code",
   "execution_count": 82,
   "metadata": {},
   "outputs": [],
   "source": [
    "D = np.array([7,8,10])\n"
   ]
  },
  {
   "cell_type": "code",
   "execution_count": 86,
   "metadata": {},
   "outputs": [],
   "source": [
    "DDD = np.stack((D,D))"
   ]
  },
  {
   "cell_type": "code",
   "execution_count": 87,
   "metadata": {},
   "outputs": [
    {
     "data": {
      "text/plain": [
       "array([[ 7,  8, 10],\n",
       "       [ 7,  8, 10]])"
      ]
     },
     "execution_count": 87,
     "metadata": {},
     "output_type": "execute_result"
    }
   ],
   "source": [
    "DDD"
   ]
  },
  {
   "cell_type": "code",
   "execution_count": null,
   "metadata": {},
   "outputs": [],
   "source": []
  },
  {
   "cell_type": "code",
   "execution_count": null,
   "metadata": {},
   "outputs": [],
   "source": []
  },
  {
   "cell_type": "code",
   "execution_count": null,
   "metadata": {},
   "outputs": [],
   "source": []
  },
  {
   "cell_type": "code",
   "execution_count": 90,
   "metadata": {},
   "outputs": [],
   "source": [
    "FFFF = np.stack((C,DDD))"
   ]
  },
  {
   "cell_type": "code",
   "execution_count": 91,
   "metadata": {},
   "outputs": [
    {
     "data": {
      "text/plain": [
       "(array([[[ 1,  2,  3],\n",
       "         [ 4,  5,  6]],\n",
       " \n",
       "        [[ 7,  8, 10],\n",
       "         [ 7,  8, 10]]]),\n",
       " (2, 2, 3))"
      ]
     },
     "execution_count": 91,
     "metadata": {},
     "output_type": "execute_result"
    }
   ],
   "source": [
    "FFFF, FFFF.shape"
   ]
  },
  {
   "cell_type": "code",
   "execution_count": null,
   "metadata": {},
   "outputs": [],
   "source": []
  },
  {
   "cell_type": "code",
   "execution_count": null,
   "metadata": {},
   "outputs": [],
   "source": []
  },
  {
   "cell_type": "code",
   "execution_count": null,
   "metadata": {},
   "outputs": [],
   "source": []
  },
  {
   "cell_type": "code",
   "execution_count": null,
   "metadata": {},
   "outputs": [],
   "source": []
  },
  {
   "cell_type": "code",
   "execution_count": null,
   "metadata": {},
   "outputs": [],
   "source": []
  },
  {
   "cell_type": "code",
   "execution_count": null,
   "metadata": {},
   "outputs": [],
   "source": []
  },
  {
   "cell_type": "code",
   "execution_count": null,
   "metadata": {},
   "outputs": [],
   "source": []
  },
  {
   "cell_type": "code",
   "execution_count": 77,
   "metadata": {},
   "outputs": [
    {
     "data": {
      "text/plain": [
       "array([[1, 2, 3],\n",
       "       [4, 5, 6]])"
      ]
     },
     "execution_count": 77,
     "metadata": {},
     "output_type": "execute_result"
    }
   ],
   "source": [
    "C"
   ]
  },
  {
   "cell_type": "code",
   "execution_count": 78,
   "metadata": {},
   "outputs": [
    {
     "data": {
      "text/plain": [
       "array([[7],\n",
       "       [8]])"
      ]
     },
     "execution_count": 78,
     "metadata": {},
     "output_type": "execute_result"
    }
   ],
   "source": [
    "D"
   ]
  },
  {
   "cell_type": "code",
   "execution_count": null,
   "metadata": {},
   "outputs": [],
   "source": []
  },
  {
   "cell_type": "code",
   "execution_count": null,
   "metadata": {},
   "outputs": [],
   "source": []
  },
  {
   "cell_type": "markdown",
   "metadata": {},
   "source": [
    "<h2> np.vstack </h2>"
   ]
  },
  {
   "cell_type": "code",
   "execution_count": null,
   "metadata": {},
   "outputs": [
    {
     "name": "stdout",
     "output_type": "stream",
     "text": [
      "Help on _ArrayFunctionDispatcher in module numpy:\n",
      "\n",
      "vstack(tup, *, dtype=None, casting='same_kind')\n",
      "    Stack arrays in sequence vertically (row wise).\n",
      "    \n",
      "    This is equivalent to concatenation along the first axis after 1-D arrays\n",
      "    of shape `(N,)` have been reshaped to `(1,N)`. Rebuilds arrays divided by\n",
      "    `vsplit`.\n",
      "    \n",
      "    This function makes most sense for arrays with up to 3 dimensions. For\n",
      "    instance, for pixel-data with a height (first axis), width (second axis),\n",
      "    and r/g/b channels (third axis). The functions `concatenate`, `stack` and\n",
      "    `block` provide more general stacking and concatenation operations.\n",
      "    \n",
      "    ``np.row_stack`` is an alias for `vstack`. They are the same function.\n",
      "    \n",
      "    Parameters\n",
      "    ----------\n",
      "    tup : sequence of ndarrays\n",
      "        The arrays must have the same shape along all but the first axis.\n",
      "        1-D arrays must have the same length.\n",
      "    \n",
      "    dtype : str or dtype\n",
      "        If provided, the destination array will have this dtype. Cannot be\n",
      "        provided together with `out`.\n",
      "    \n",
      "    .. versionadded:: 1.24\n",
      "    \n",
      "    casting : {'no', 'equiv', 'safe', 'same_kind', 'unsafe'}, optional\n",
      "        Controls what kind of data casting may occur. Defaults to 'same_kind'.\n",
      "    \n",
      "    .. versionadded:: 1.24\n",
      "    \n",
      "    Returns\n",
      "    -------\n",
      "    stacked : ndarray\n",
      "        The array formed by stacking the given arrays, will be at least 2-D.\n",
      "    \n",
      "    See Also\n",
      "    --------\n",
      "    concatenate : Join a sequence of arrays along an existing axis.\n",
      "    stack : Join a sequence of arrays along a new axis.\n",
      "    block : Assemble an nd-array from nested lists of blocks.\n",
      "    hstack : Stack arrays in sequence horizontally (column wise).\n",
      "    dstack : Stack arrays in sequence depth wise (along third axis).\n",
      "    column_stack : Stack 1-D arrays as columns into a 2-D array.\n",
      "    vsplit : Split an array into multiple sub-arrays vertically (row-wise).\n",
      "    \n",
      "    Examples\n",
      "    --------\n",
      "    >>> a = np.array([1, 2, 3])\n",
      "    >>> b = np.array([4, 5, 6])\n",
      "    >>> np.vstack((a,b))\n",
      "    array([[1, 2, 3],\n",
      "           [4, 5, 6]])\n",
      "    \n",
      "    >>> a = np.array([[1], [2], [3]])\n",
      "    >>> b = np.array([[4], [5], [6]])\n",
      "    >>> np.vstack((a,b))\n",
      "    array([[1],\n",
      "           [2],\n",
      "           [3],\n",
      "           [4],\n",
      "           [5],\n",
      "           [6]])\n",
      "\n"
     ]
    }
   ],
   "source": [
    "help(np.vstack)"
   ]
  },
  {
   "cell_type": "code",
   "execution_count": null,
   "metadata": {},
   "outputs": [],
   "source": [
    "f = np.array([[1,2,3],[4,5,6]])"
   ]
  },
  {
   "cell_type": "code",
   "execution_count": null,
   "metadata": {},
   "outputs": [
    {
     "data": {
      "text/plain": [
       "array([[1, 2, 3],\n",
       "       [4, 5, 6]])"
      ]
     },
     "execution_count": 40,
     "metadata": {},
     "output_type": "execute_result"
    }
   ],
   "source": [
    "f"
   ]
  },
  {
   "cell_type": "code",
   "execution_count": null,
   "metadata": {},
   "outputs": [],
   "source": [
    "g = np.array([7,8,9])"
   ]
  },
  {
   "cell_type": "code",
   "execution_count": null,
   "metadata": {},
   "outputs": [],
   "source": [
    "h = np.vstack((f,g))"
   ]
  },
  {
   "cell_type": "code",
   "execution_count": null,
   "metadata": {},
   "outputs": [
    {
     "data": {
      "text/plain": [
       "array([[1, 2, 3],\n",
       "       [4, 5, 6],\n",
       "       [7, 8, 9]])"
      ]
     },
     "execution_count": 44,
     "metadata": {},
     "output_type": "execute_result"
    }
   ],
   "source": [
    "h"
   ]
  },
  {
   "cell_type": "code",
   "execution_count": null,
   "metadata": {},
   "outputs": [],
   "source": []
  },
  {
   "cell_type": "code",
   "execution_count": null,
   "metadata": {},
   "outputs": [],
   "source": []
  },
  {
   "cell_type": "markdown",
   "metadata": {},
   "source": [
    "<h2> np.hstack </h2>"
   ]
  },
  {
   "cell_type": "code",
   "execution_count": null,
   "metadata": {},
   "outputs": [
    {
     "data": {
      "text/plain": [
       "(array([[1, 2, 3],\n",
       "        [4, 5, 6]]),\n",
       " array([[7],\n",
       "        [8]]))"
      ]
     },
     "execution_count": 98,
     "metadata": {},
     "output_type": "execute_result"
    }
   ],
   "source": [
    "C,D"
   ]
  },
  {
   "cell_type": "code",
   "execution_count": null,
   "metadata": {},
   "outputs": [
    {
     "data": {
      "text/plain": [
       "array([[1, 2, 3, 7],\n",
       "       [4, 5, 6, 8]])"
      ]
     },
     "execution_count": 99,
     "metadata": {},
     "output_type": "execute_result"
    }
   ],
   "source": [
    "np.hstack((C, D))"
   ]
  },
  {
   "cell_type": "code",
   "execution_count": null,
   "metadata": {},
   "outputs": [],
   "source": []
  },
  {
   "cell_type": "markdown",
   "metadata": {},
   "source": [
    "<h2> np.column_stack && np.row_stack </h2>"
   ]
  },
  {
   "cell_type": "code",
   "execution_count": null,
   "metadata": {},
   "outputs": [
    {
     "data": {
      "text/plain": [
       "array([7, 8, 9])"
      ]
     },
     "execution_count": 165,
     "metadata": {},
     "output_type": "execute_result"
    }
   ],
   "source": [
    "E = np.array([7,8,9])\n",
    "E"
   ]
  },
  {
   "cell_type": "code",
   "execution_count": null,
   "metadata": {},
   "outputs": [
    {
     "data": {
      "text/plain": [
       "array([[1, 2, 3],\n",
       "       [4, 5, 6]])"
      ]
     },
     "execution_count": 166,
     "metadata": {},
     "output_type": "execute_result"
    }
   ],
   "source": [
    "C"
   ]
  },
  {
   "cell_type": "code",
   "execution_count": null,
   "metadata": {},
   "outputs": [
    {
     "data": {
      "text/plain": [
       "array([[1, 2, 3],\n",
       "       [4, 5, 6],\n",
       "       [7, 8, 9]])"
      ]
     },
     "execution_count": 168,
     "metadata": {},
     "output_type": "execute_result"
    }
   ],
   "source": [
    "np.row_stack((C,E))"
   ]
  },
  {
   "cell_type": "code",
   "execution_count": null,
   "metadata": {},
   "outputs": [],
   "source": [
    "F = np.array([[1],[2]])"
   ]
  },
  {
   "cell_type": "code",
   "execution_count": null,
   "metadata": {},
   "outputs": [
    {
     "data": {
      "text/plain": [
       "array([[1, 2, 3, 1],\n",
       "       [4, 5, 6, 2]])"
      ]
     },
     "execution_count": 172,
     "metadata": {},
     "output_type": "execute_result"
    }
   ],
   "source": [
    "np.column_stack((C,F))"
   ]
  },
  {
   "cell_type": "code",
   "execution_count": null,
   "metadata": {},
   "outputs": [],
   "source": []
  },
  {
   "cell_type": "code",
   "execution_count": null,
   "metadata": {},
   "outputs": [],
   "source": []
  },
  {
   "cell_type": "code",
   "execution_count": null,
   "metadata": {},
   "outputs": [],
   "source": []
  },
  {
   "cell_type": "code",
   "execution_count": null,
   "metadata": {},
   "outputs": [],
   "source": []
  },
  {
   "cell_type": "code",
   "execution_count": null,
   "metadata": {},
   "outputs": [],
   "source": []
  },
  {
   "cell_type": "code",
   "execution_count": null,
   "metadata": {},
   "outputs": [],
   "source": []
  },
  {
   "cell_type": "code",
   "execution_count": null,
   "metadata": {},
   "outputs": [],
   "source": []
  },
  {
   "cell_type": "code",
   "execution_count": null,
   "metadata": {},
   "outputs": [],
   "source": []
  },
  {
   "cell_type": "code",
   "execution_count": null,
   "metadata": {},
   "outputs": [],
   "source": []
  },
  {
   "cell_type": "markdown",
   "metadata": {},
   "source": [
    "<h1> 2. 배열의 연산 </h1>"
   ]
  },
  {
   "cell_type": "markdown",
   "metadata": {},
   "source": [
    "<h2> just operation </h2>"
   ]
  },
  {
   "cell_type": "code",
   "execution_count": null,
   "metadata": {},
   "outputs": [
    {
     "data": {
      "text/plain": [
       "array([1, 2, 3])"
      ]
     },
     "execution_count": 36,
     "metadata": {},
     "output_type": "execute_result"
    }
   ],
   "source": [
    "a = np.array([1,2,3])\n",
    "a"
   ]
  },
  {
   "cell_type": "code",
   "execution_count": null,
   "metadata": {},
   "outputs": [
    {
     "data": {
      "text/plain": [
       "(array([1, 2, 3]), array([2, 3, 4]))"
      ]
     },
     "execution_count": 39,
     "metadata": {},
     "output_type": "execute_result"
    }
   ],
   "source": [
    "a, a + 1"
   ]
  },
  {
   "cell_type": "code",
   "execution_count": null,
   "metadata": {},
   "outputs": [
    {
     "data": {
      "text/plain": [
       "array([1, 4, 9])"
      ]
     },
     "execution_count": 41,
     "metadata": {},
     "output_type": "execute_result"
    }
   ],
   "source": [
    "a*a"
   ]
  },
  {
   "cell_type": "code",
   "execution_count": null,
   "metadata": {},
   "outputs": [
    {
     "data": {
      "text/plain": [
       "array([1., 1., 1.])"
      ]
     },
     "execution_count": 42,
     "metadata": {},
     "output_type": "execute_result"
    }
   ],
   "source": [
    "a/a"
   ]
  },
  {
   "cell_type": "code",
   "execution_count": null,
   "metadata": {},
   "outputs": [
    {
     "data": {
      "text/plain": [
       "array([0.84147098, 0.90929743, 0.14112001])"
      ]
     },
     "execution_count": 44,
     "metadata": {},
     "output_type": "execute_result"
    }
   ],
   "source": [
    "np.sin(a)"
   ]
  },
  {
   "cell_type": "code",
   "execution_count": null,
   "metadata": {},
   "outputs": [
    {
     "data": {
      "text/plain": [
       "array([-1.63312394e+16, -2.74747742e+00, -1.19175359e+00, -5.77350269e-01,\n",
       "       -1.76326981e-01,  1.76326981e-01,  5.77350269e-01,  1.19175359e+00,\n",
       "        2.74747742e+00,  1.63312394e+16])"
      ]
     },
     "execution_count": 51,
     "metadata": {},
     "output_type": "execute_result"
    }
   ],
   "source": [
    "# etc \n",
    "# sin, atan \n",
    "b = np.linspace(-np.pi/2, np.pi/2,10)\n",
    "c = np.tan(b)\n",
    "c"
   ]
  },
  {
   "cell_type": "markdown",
   "metadata": {},
   "source": [
    "<h2> correlate </h2>"
   ]
  },
  {
   "cell_type": "code",
   "execution_count": null,
   "metadata": {},
   "outputs": [
    {
     "data": {
      "text/plain": [
       "array([0.41683228, 0.0229815 , 0.58462794, 1.44379347])"
      ]
     },
     "execution_count": 156,
     "metadata": {},
     "output_type": "execute_result"
    }
   ],
   "source": [
    "T = np.abs(np.random.randn(4))\n",
    "T"
   ]
  },
  {
   "cell_type": "code",
   "execution_count": null,
   "metadata": {},
   "outputs": [],
   "source": []
  },
  {
   "cell_type": "code",
   "execution_count": null,
   "metadata": {},
   "outputs": [
    {
     "data": {
      "text/plain": [
       "array([0.84870006, 0.10818807, 0.32544477, 0.22211324])"
      ]
     },
     "execution_count": 157,
     "metadata": {},
     "output_type": "execute_result"
    }
   ],
   "source": [
    "K = np.abs(np.random.randn(4))\n",
    "K"
   ]
  },
  {
   "cell_type": "code",
   "execution_count": null,
   "metadata": {},
   "outputs": [],
   "source": []
  },
  {
   "cell_type": "code",
   "execution_count": null,
   "metadata": {},
   "outputs": [
    {
     "data": {
      "text/plain": [
       "array([0.86720166])"
      ]
     },
     "execution_count": 158,
     "metadata": {},
     "output_type": "execute_result"
    }
   ],
   "source": [
    "np.correlate(T,K)"
   ]
  },
  {
   "cell_type": "code",
   "execution_count": null,
   "metadata": {},
   "outputs": [
    {
     "data": {
      "text/plain": [
       "array([[ 0.35918683, -0.02037669],\n",
       "       [-0.02037669,  0.10713516]])"
      ]
     },
     "execution_count": 159,
     "metadata": {},
     "output_type": "execute_result"
    }
   ],
   "source": [
    "np.cov(T,K)"
   ]
  },
  {
   "cell_type": "code",
   "execution_count": null,
   "metadata": {},
   "outputs": [
    {
     "data": {
      "text/plain": [
       "<function corrcoef at 0x104599cf0>"
      ]
     },
     "execution_count": 161,
     "metadata": {},
     "output_type": "execute_result"
    }
   ],
   "source": [
    "np.corrcoef"
   ]
  },
  {
   "cell_type": "code",
   "execution_count": null,
   "metadata": {},
   "outputs": [
    {
     "name": "stdout",
     "output_type": "stream",
     "text": [
      "Correlation: -0.10387413083301521\n"
     ]
    }
   ],
   "source": [
    "print('Correlation: ' + str(np.cov(T,K)[0,1]/(np.std(T,ddof=1)*np.std(K,ddof=1))))"
   ]
  },
  {
   "cell_type": "code",
   "execution_count": null,
   "metadata": {},
   "outputs": [
    {
     "data": {
      "text/plain": [
       "-0.10387413083301521"
      ]
     },
     "execution_count": 160,
     "metadata": {},
     "output_type": "execute_result"
    }
   ],
   "source": [
    "np.corrcoef(T,K)[0, 1]"
   ]
  },
  {
   "cell_type": "markdown",
   "metadata": {},
   "source": [
    "<h2> argmax, argmin </h2>"
   ]
  },
  {
   "cell_type": "code",
   "execution_count": 92,
   "metadata": {},
   "outputs": [],
   "source": [
    "GG = np.random.randint(0,10,16).reshape(4,4)"
   ]
  },
  {
   "cell_type": "code",
   "execution_count": 93,
   "metadata": {},
   "outputs": [
    {
     "data": {
      "text/plain": [
       "array([[9, 4, 9, 2],\n",
       "       [3, 4, 8, 8],\n",
       "       [5, 7, 2, 5],\n",
       "       [6, 1, 0, 5]])"
      ]
     },
     "execution_count": 93,
     "metadata": {},
     "output_type": "execute_result"
    }
   ],
   "source": [
    "GG"
   ]
  },
  {
   "cell_type": "code",
   "execution_count": 95,
   "metadata": {},
   "outputs": [
    {
     "data": {
      "text/plain": [
       "(0, 14, 9)"
      ]
     },
     "execution_count": 95,
     "metadata": {},
     "output_type": "execute_result"
    }
   ],
   "source": [
    "np.argmax(GG), np.argmin(GG), np.max(GG)"
   ]
  },
  {
   "cell_type": "code",
   "execution_count": 98,
   "metadata": {},
   "outputs": [
    {
     "data": {
      "text/plain": [
       "(array([[ True,  True,  True,  True],\n",
       "        [ True,  True,  True,  True],\n",
       "        [ True,  True,  True,  True],\n",
       "        [ True,  True,  True,  True]]),\n",
       " array([[ True,  True,  True,  True],\n",
       "        [ True,  True,  True,  True],\n",
       "        [ True,  True,  True,  True],\n",
       "        [ True,  True,  True,  True]]))"
      ]
     },
     "execution_count": 98,
     "metadata": {},
     "output_type": "execute_result"
    }
   ],
   "source": [
    "(GG<=GG.flatten()[0]), (GG>=GG.flatten()[14]) # good"
   ]
  },
  {
   "cell_type": "code",
   "execution_count": null,
   "metadata": {},
   "outputs": [],
   "source": []
  },
  {
   "cell_type": "code",
   "execution_count": null,
   "metadata": {},
   "outputs": [],
   "source": []
  },
  {
   "cell_type": "code",
   "execution_count": null,
   "metadata": {},
   "outputs": [],
   "source": []
  },
  {
   "cell_type": "markdown",
   "metadata": {},
   "source": [
    "# 번외"
   ]
  },
  {
   "cell_type": "code",
   "execution_count": null,
   "metadata": {},
   "outputs": [],
   "source": []
  },
  {
   "cell_type": "code",
   "execution_count": null,
   "metadata": {},
   "outputs": [
    {
     "name": "stdout",
     "output_type": "stream",
     "text": [
      "Binary Precision: [Decimal('0.123456789012345678901234567890')\n",
      " Decimal('0.123456789012345678901234567890')\n",
      " Decimal('0.123456789012345678901234567890')\n",
      " Decimal('0.123456789012345678901234567890')\n",
      " Decimal('0.123456789012345678901234567890')]\n"
     ]
    }
   ],
   "source": [
    "# 첫 번째 코드 블록: Decimal 사용\n",
    "import numpy as np\n",
    "from decimal import Decimal, getcontext\n",
    "\n",
    "# Decimal 정밀도 설정\n",
    "getcontext().prec = 30\n",
    "\n",
    "# Decimal 배열 생성\n",
    "decimal_array = [Decimal('0.123456789012345678901234567890')] * 5\n",
    "\n",
    "# 바이너리 파일로 배열 저장\n",
    "with open('decimal_array_binary.npy', 'wb') as f:\n",
    "    np.save(f, np.array(decimal_array, dtype=object))  # dtype=object 를 사용\n",
    "\n",
    "# 바이너리 파일에서 배열 로드\n",
    "with open('decimal_array_binary.npy', 'rb') as f:\n",
    "    binary_loaded_array = np.load(f, allow_pickle=True)\n",
    "\n",
    "# 로드된 Decimal 배열 출력\n",
    "print(\"Binary Precision:\", binary_loaded_array)\n"
   ]
  },
  {
   "cell_type": "code",
   "execution_count": null,
   "metadata": {},
   "outputs": [
    {
     "name": "stdout",
     "output_type": "stream",
     "text": [
      "Text Precision: [0.12345678901234568, 0.12345678901234568, 0.12345678901234568, 0.12345678901234568, 0.12345678901234568]\n",
      "30\n"
     ]
    }
   ],
   "source": [
    "# 두 번째 코드 블록: 일반 부동소수점 사용\n",
    "import numpy as np\n",
    "getcontext().prec = 30\n",
    "\n",
    "# 일반 부동소수점 배열 생성\n",
    "normal_float_array = [Decimal('0.123456789012345678901234567890')] * 5\n",
    "\n",
    "# 텍스트 파일로 배열 저장\n",
    "with open('normal_float_array.txt', 'w') as f:\n",
    "    for item in normal_float_array:\n",
    "        f.write(\"%0.30f\\n\" % item)\n",
    "\n",
    "# 텍스트 파일에서 배열 로드\n",
    "text_loaded_array = []\n",
    "with open('normal_float_array.txt', 'r') as f:\n",
    "    for line in f:\n",
    "        text_loaded_array.append(float(line.strip()))\n",
    "\n",
    "# 로드된 부동소수점 배열 출력\n",
    "print(\"Text Precision:\", text_loaded_array)\n",
    "print(getcontext().prec)\n"
   ]
  },
  {
   "cell_type": "code",
   "execution_count": null,
   "metadata": {},
   "outputs": [
    {
     "name": "stdout",
     "output_type": "stream",
     "text": [
      "False\n",
      "-0.908485022787300104289169721766 -0.9084850227873001\n",
      "--------------\n",
      "\n",
      "False\n",
      "-0.908485022787300104289169721766 -0.9084850227873001\n",
      "--------------\n",
      "\n",
      "False\n",
      "-0.908485022787300104289169721766 -0.9084850227873001\n",
      "--------------\n",
      "\n",
      "False\n",
      "-0.908485022787300104289169721766 -0.9084850227873001\n",
      "--------------\n",
      "\n",
      "False\n",
      "-0.908485022787300104289169721766 -0.9084850227873001\n",
      "--------------\n",
      "\n"
     ]
    }
   ],
   "source": [
    "from math import log10\n",
    "for i in range(len(binary_loaded_array)):\n",
    "    print(binary_loaded_array[i] == text_loaded_array[i])\n",
    "    print(binary_loaded_array[i].log10(), log10(text_loaded_array[i]))\n",
    "    print(\"--------------\")\n",
    "    print()"
   ]
  },
  {
   "cell_type": "code",
   "execution_count": null,
   "metadata": {},
   "outputs": [],
   "source": []
  },
  {
   "cell_type": "code",
   "execution_count": null,
   "metadata": {},
   "outputs": [],
   "source": []
  },
  {
   "cell_type": "markdown",
   "metadata": {},
   "source": [
    "\n",
    "<h1> Pandas</h1>"
   ]
  },
  {
   "cell_type": "code",
   "execution_count": null,
   "metadata": {},
   "outputs": [
    {
     "name": "stdout",
     "output_type": "stream",
     "text": [
      "Requirement already satisfied: pandas in /Users/jinhojeon/.pyenv/versions/3.11-dev/lib/python3.11/site-packages (2.1.1)\n",
      "Requirement already satisfied: numpy>=1.23.2 in /Users/jinhojeon/.pyenv/versions/3.11-dev/lib/python3.11/site-packages (from pandas) (1.26.0)\n",
      "Requirement already satisfied: python-dateutil>=2.8.2 in /Users/jinhojeon/.pyenv/versions/3.11-dev/lib/python3.11/site-packages (from pandas) (2.8.2)\n",
      "Requirement already satisfied: pytz>=2020.1 in /Users/jinhojeon/.pyenv/versions/3.11-dev/lib/python3.11/site-packages (from pandas) (2023.3.post1)\n",
      "Requirement already satisfied: tzdata>=2022.1 in /Users/jinhojeon/.pyenv/versions/3.11-dev/lib/python3.11/site-packages (from pandas) (2023.3)\n",
      "Requirement already satisfied: six>=1.5 in /Users/jinhojeon/.pyenv/versions/3.11-dev/lib/python3.11/site-packages (from python-dateutil>=2.8.2->pandas) (1.16.0)\n"
     ]
    }
   ],
   "source": [
    "!pip install pandas"
   ]
  },
  {
   "cell_type": "code",
   "execution_count": 103,
   "metadata": {},
   "outputs": [],
   "source": [
    "import pandas as pd"
   ]
  },
  {
   "cell_type": "code",
   "execution_count": null,
   "metadata": {},
   "outputs": [],
   "source": []
  },
  {
   "cell_type": "code",
   "execution_count": null,
   "metadata": {},
   "outputs": [],
   "source": []
  },
  {
   "cell_type": "code",
   "execution_count": null,
   "metadata": {},
   "outputs": [
    {
     "data": {
      "text/plain": [
       "['ArrowDtype',\n",
       " 'BooleanDtype',\n",
       " 'Categorical',\n",
       " 'CategoricalDtype',\n",
       " 'CategoricalIndex',\n",
       " 'DataFrame',\n",
       " 'DateOffset',\n",
       " 'DatetimeIndex',\n",
       " 'DatetimeTZDtype',\n",
       " 'ExcelFile',\n",
       " 'ExcelWriter',\n",
       " 'Flags',\n",
       " 'Float32Dtype',\n",
       " 'Float64Dtype',\n",
       " 'Grouper',\n",
       " 'HDFStore',\n",
       " 'Index',\n",
       " 'IndexSlice',\n",
       " 'Int16Dtype',\n",
       " 'Int32Dtype',\n",
       " 'Int64Dtype',\n",
       " 'Int8Dtype',\n",
       " 'Interval',\n",
       " 'IntervalDtype',\n",
       " 'IntervalIndex',\n",
       " 'MultiIndex',\n",
       " 'NA',\n",
       " 'NaT',\n",
       " 'NamedAgg',\n",
       " 'Period',\n",
       " 'PeriodDtype',\n",
       " 'PeriodIndex',\n",
       " 'RangeIndex',\n",
       " 'Series',\n",
       " 'SparseDtype',\n",
       " 'StringDtype',\n",
       " 'Timedelta',\n",
       " 'TimedeltaIndex',\n",
       " 'Timestamp',\n",
       " 'UInt16Dtype',\n",
       " 'UInt32Dtype',\n",
       " 'UInt64Dtype',\n",
       " 'UInt8Dtype',\n",
       " '__all__',\n",
       " '__builtins__',\n",
       " '__cached__',\n",
       " '__doc__',\n",
       " '__docformat__',\n",
       " '__file__',\n",
       " '__git_version__',\n",
       " '__loader__',\n",
       " '__name__',\n",
       " '__package__',\n",
       " '__path__',\n",
       " '__spec__',\n",
       " '__version__',\n",
       " '_built_with_meson',\n",
       " '_config',\n",
       " '_is_numpy_dev',\n",
       " '_libs',\n",
       " '_pandas_datetime_CAPI',\n",
       " '_pandas_parser_CAPI',\n",
       " '_testing',\n",
       " '_typing',\n",
       " '_version_meson',\n",
       " 'annotations',\n",
       " 'api',\n",
       " 'array',\n",
       " 'arrays',\n",
       " 'bdate_range',\n",
       " 'compat',\n",
       " 'concat',\n",
       " 'core',\n",
       " 'crosstab',\n",
       " 'cut',\n",
       " 'date_range',\n",
       " 'describe_option',\n",
       " 'errors',\n",
       " 'eval',\n",
       " 'factorize',\n",
       " 'from_dummies',\n",
       " 'get_dummies',\n",
       " 'get_option',\n",
       " 'infer_freq',\n",
       " 'interval_range',\n",
       " 'io',\n",
       " 'isna',\n",
       " 'isnull',\n",
       " 'json_normalize',\n",
       " 'lreshape',\n",
       " 'melt',\n",
       " 'merge',\n",
       " 'merge_asof',\n",
       " 'merge_ordered',\n",
       " 'notna',\n",
       " 'notnull',\n",
       " 'offsets',\n",
       " 'option_context',\n",
       " 'options',\n",
       " 'pandas',\n",
       " 'period_range',\n",
       " 'pivot',\n",
       " 'pivot_table',\n",
       " 'plotting',\n",
       " 'qcut',\n",
       " 'read_clipboard',\n",
       " 'read_csv',\n",
       " 'read_excel',\n",
       " 'read_feather',\n",
       " 'read_fwf',\n",
       " 'read_gbq',\n",
       " 'read_hdf',\n",
       " 'read_html',\n",
       " 'read_json',\n",
       " 'read_orc',\n",
       " 'read_parquet',\n",
       " 'read_pickle',\n",
       " 'read_sas',\n",
       " 'read_spss',\n",
       " 'read_sql',\n",
       " 'read_sql_query',\n",
       " 'read_sql_table',\n",
       " 'read_stata',\n",
       " 'read_table',\n",
       " 'read_xml',\n",
       " 'reset_option',\n",
       " 'set_eng_float_format',\n",
       " 'set_option',\n",
       " 'show_versions',\n",
       " 'test',\n",
       " 'testing',\n",
       " 'timedelta_range',\n",
       " 'to_datetime',\n",
       " 'to_numeric',\n",
       " 'to_pickle',\n",
       " 'to_timedelta',\n",
       " 'tseries',\n",
       " 'unique',\n",
       " 'util',\n",
       " 'value_counts',\n",
       " 'wide_to_long']"
      ]
     },
     "execution_count": 56,
     "metadata": {},
     "output_type": "execute_result"
    }
   ],
   "source": [
    "dir(pd)"
   ]
  },
  {
   "cell_type": "code",
   "execution_count": null,
   "metadata": {},
   "outputs": [],
   "source": []
  },
  {
   "cell_type": "code",
   "execution_count": null,
   "metadata": {},
   "outputs": [],
   "source": []
  },
  {
   "cell_type": "markdown",
   "metadata": {},
   "source": [
    "\n",
    "<h1> 데이터 I/O </h1>"
   ]
  },
  {
   "cell_type": "markdown",
   "metadata": {},
   "source": [
    "<h2> - read_csv -> to_csv </h2>"
   ]
  },
  {
   "cell_type": "code",
   "execution_count": null,
   "metadata": {},
   "outputs": [],
   "source": [
    "X = pd.read_csv('2023bus_chungbuk.csv')"
   ]
  },
  {
   "cell_type": "code",
   "execution_count": null,
   "metadata": {},
   "outputs": [
    {
     "data": {
      "text/plain": [
       "'      - 직영 16대(맹학교 1, 청주성신 4, 충주성심 2, 충주성모 2, 숭덕 2, 청암 2, 꽃동네 3)'"
      ]
     },
     "execution_count": 73,
     "metadata": {},
     "output_type": "execute_result"
    }
   ],
   "source": [
    "X[\"Unnamed: 0\"].iloc[57]"
   ]
  },
  {
   "cell_type": "code",
   "execution_count": null,
   "metadata": {},
   "outputs": [
    {
     "data": {
      "text/html": [
       "<div>\n",
       "<style scoped>\n",
       "    .dataframe tbody tr th:only-of-type {\n",
       "        vertical-align: middle;\n",
       "    }\n",
       "\n",
       "    .dataframe tbody tr th {\n",
       "        vertical-align: top;\n",
       "    }\n",
       "\n",
       "    .dataframe thead th {\n",
       "        text-align: right;\n",
       "    }\n",
       "</style>\n",
       "<table border=\"1\" class=\"dataframe\">\n",
       "  <thead>\n",
       "    <tr style=\"text-align: right;\">\n",
       "      <th></th>\n",
       "      <th>Unnamed: 0</th>\n",
       "      <th>Unnamed: 1</th>\n",
       "      <th>Unnamed: 2</th>\n",
       "      <th>Unnamed: 3</th>\n",
       "      <th>Unnamed: 4</th>\n",
       "      <th>Unnamed: 5</th>\n",
       "      <th>Unnamed: 6</th>\n",
       "      <th>Unnamed: 7</th>\n",
       "      <th>Unnamed: 8</th>\n",
       "    </tr>\n",
       "  </thead>\n",
       "  <tbody>\n",
       "    <tr>\n",
       "      <th>0</th>\n",
       "      <td>2023년 통학 지원 현황</td>\n",
       "      <td>NaN</td>\n",
       "      <td>NaN</td>\n",
       "      <td>NaN</td>\n",
       "      <td>NaN</td>\n",
       "      <td>NaN</td>\n",
       "      <td>NaN</td>\n",
       "      <td>NaN</td>\n",
       "      <td>NaN</td>\n",
       "    </tr>\n",
       "    <tr>\n",
       "      <th>1</th>\n",
       "      <td>NaN</td>\n",
       "      <td>NaN</td>\n",
       "      <td>NaN</td>\n",
       "      <td>NaN</td>\n",
       "      <td>NaN</td>\n",
       "      <td>NaN</td>\n",
       "      <td>NaN</td>\n",
       "      <td>NaN</td>\n",
       "      <td>NaN</td>\n",
       "    </tr>\n",
       "    <tr>\n",
       "      <th>2</th>\n",
       "      <td>NaN</td>\n",
       "      <td>NaN</td>\n",
       "      <td>NaN</td>\n",
       "      <td>NaN</td>\n",
       "      <td>NaN</td>\n",
       "      <td>NaN</td>\n",
       "      <td>NaN</td>\n",
       "      <td>NaN</td>\n",
       "      <td>(기준: 2023. 4. 1., 단위: 대, 명)</td>\n",
       "    </tr>\n",
       "    <tr>\n",
       "      <th>3</th>\n",
       "      <td>구분</td>\n",
       "      <td>학교급</td>\n",
       "      <td>운영기관수</td>\n",
       "      <td>통학 지원 현황</td>\n",
       "      <td>NaN</td>\n",
       "      <td>NaN</td>\n",
       "      <td>NaN</td>\n",
       "      <td>NaN</td>\n",
       "      <td>비고</td>\n",
       "    </tr>\n",
       "    <tr>\n",
       "      <th>4</th>\n",
       "      <td>NaN</td>\n",
       "      <td>NaN</td>\n",
       "      <td>NaN</td>\n",
       "      <td>통학차량 운영 현황</td>\n",
       "      <td>NaN</td>\n",
       "      <td>NaN</td>\n",
       "      <td>NaN</td>\n",
       "      <td>통학비(명)</td>\n",
       "      <td>NaN</td>\n",
       "    </tr>\n",
       "    <tr>\n",
       "      <th>5</th>\n",
       "      <td>NaN</td>\n",
       "      <td>NaN</td>\n",
       "      <td>NaN</td>\n",
       "      <td>직영(대)</td>\n",
       "      <td>임차(대)</td>\n",
       "      <td>택시(대)</td>\n",
       "      <td>계</td>\n",
       "      <td>NaN</td>\n",
       "      <td>NaN</td>\n",
       "    </tr>\n",
       "    <tr>\n",
       "      <th>6</th>\n",
       "      <td>청주</td>\n",
       "      <td>유치원</td>\n",
       "      <td>14</td>\n",
       "      <td>1</td>\n",
       "      <td>16</td>\n",
       "      <td>NaN</td>\n",
       "      <td>17</td>\n",
       "      <td>NaN</td>\n",
       "      <td>NaN</td>\n",
       "    </tr>\n",
       "    <tr>\n",
       "      <th>7</th>\n",
       "      <td>NaN</td>\n",
       "      <td>초등학교</td>\n",
       "      <td>37</td>\n",
       "      <td>6</td>\n",
       "      <td>51</td>\n",
       "      <td>2</td>\n",
       "      <td>59</td>\n",
       "      <td>6</td>\n",
       "      <td>NaN</td>\n",
       "    </tr>\n",
       "    <tr>\n",
       "      <th>8</th>\n",
       "      <td>NaN</td>\n",
       "      <td>중학교</td>\n",
       "      <td>3</td>\n",
       "      <td>NaN</td>\n",
       "      <td>1</td>\n",
       "      <td>NaN</td>\n",
       "      <td>1</td>\n",
       "      <td>7</td>\n",
       "      <td>NaN</td>\n",
       "    </tr>\n",
       "    <tr>\n",
       "      <th>9</th>\n",
       "      <td>NaN</td>\n",
       "      <td>계</td>\n",
       "      <td>54</td>\n",
       "      <td>7</td>\n",
       "      <td>68</td>\n",
       "      <td>2</td>\n",
       "      <td>77</td>\n",
       "      <td>13</td>\n",
       "      <td>NaN</td>\n",
       "    </tr>\n",
       "    <tr>\n",
       "      <th>10</th>\n",
       "      <td>충주</td>\n",
       "      <td>유치원</td>\n",
       "      <td>9</td>\n",
       "      <td>NaN</td>\n",
       "      <td>9</td>\n",
       "      <td>NaN</td>\n",
       "      <td>9</td>\n",
       "      <td>NaN</td>\n",
       "      <td>NaN</td>\n",
       "    </tr>\n",
       "    <tr>\n",
       "      <th>11</th>\n",
       "      <td>NaN</td>\n",
       "      <td>초등학교</td>\n",
       "      <td>24</td>\n",
       "      <td>9</td>\n",
       "      <td>20</td>\n",
       "      <td>7</td>\n",
       "      <td>36</td>\n",
       "      <td>NaN</td>\n",
       "      <td>NaN</td>\n",
       "    </tr>\n",
       "    <tr>\n",
       "      <th>12</th>\n",
       "      <td>NaN</td>\n",
       "      <td>중학교</td>\n",
       "      <td>4</td>\n",
       "      <td>NaN</td>\n",
       "      <td>1</td>\n",
       "      <td>3</td>\n",
       "      <td>4</td>\n",
       "      <td>70</td>\n",
       "      <td>국원고 포함</td>\n",
       "    </tr>\n",
       "    <tr>\n",
       "      <th>13</th>\n",
       "      <td>NaN</td>\n",
       "      <td>계</td>\n",
       "      <td>37</td>\n",
       "      <td>9</td>\n",
       "      <td>30</td>\n",
       "      <td>10</td>\n",
       "      <td>49</td>\n",
       "      <td>70</td>\n",
       "      <td>NaN</td>\n",
       "    </tr>\n",
       "    <tr>\n",
       "      <th>14</th>\n",
       "      <td>제천</td>\n",
       "      <td>유치원</td>\n",
       "      <td>5</td>\n",
       "      <td>NaN</td>\n",
       "      <td>6</td>\n",
       "      <td>NaN</td>\n",
       "      <td>6</td>\n",
       "      <td>NaN</td>\n",
       "      <td>NaN</td>\n",
       "    </tr>\n",
       "    <tr>\n",
       "      <th>15</th>\n",
       "      <td>NaN</td>\n",
       "      <td>초등학교</td>\n",
       "      <td>10</td>\n",
       "      <td>12</td>\n",
       "      <td>7</td>\n",
       "      <td>2</td>\n",
       "      <td>21</td>\n",
       "      <td>NaN</td>\n",
       "      <td>NaN</td>\n",
       "    </tr>\n",
       "    <tr>\n",
       "      <th>16</th>\n",
       "      <td>NaN</td>\n",
       "      <td>중학교</td>\n",
       "      <td>2</td>\n",
       "      <td>NaN</td>\n",
       "      <td>NaN</td>\n",
       "      <td>3</td>\n",
       "      <td>3</td>\n",
       "      <td>1</td>\n",
       "      <td>NaN</td>\n",
       "    </tr>\n",
       "    <tr>\n",
       "      <th>17</th>\n",
       "      <td>NaN</td>\n",
       "      <td>계</td>\n",
       "      <td>17</td>\n",
       "      <td>12</td>\n",
       "      <td>13</td>\n",
       "      <td>5</td>\n",
       "      <td>30</td>\n",
       "      <td>1</td>\n",
       "      <td>NaN</td>\n",
       "    </tr>\n",
       "    <tr>\n",
       "      <th>18</th>\n",
       "      <td>보은</td>\n",
       "      <td>유치원</td>\n",
       "      <td>2</td>\n",
       "      <td>NaN</td>\n",
       "      <td>2</td>\n",
       "      <td>NaN</td>\n",
       "      <td>2</td>\n",
       "      <td>NaN</td>\n",
       "      <td>NaN</td>\n",
       "    </tr>\n",
       "    <tr>\n",
       "      <th>19</th>\n",
       "      <td>NaN</td>\n",
       "      <td>초등학교</td>\n",
       "      <td>15</td>\n",
       "      <td>9</td>\n",
       "      <td>9</td>\n",
       "      <td>7</td>\n",
       "      <td>25</td>\n",
       "      <td>NaN</td>\n",
       "      <td>NaN</td>\n",
       "    </tr>\n",
       "    <tr>\n",
       "      <th>20</th>\n",
       "      <td>NaN</td>\n",
       "      <td>중학교</td>\n",
       "      <td>NaN</td>\n",
       "      <td>NaN</td>\n",
       "      <td>NaN</td>\n",
       "      <td>NaN</td>\n",
       "      <td>-</td>\n",
       "      <td>NaN</td>\n",
       "      <td>NaN</td>\n",
       "    </tr>\n",
       "    <tr>\n",
       "      <th>21</th>\n",
       "      <td>NaN</td>\n",
       "      <td>계</td>\n",
       "      <td>17</td>\n",
       "      <td>9</td>\n",
       "      <td>11</td>\n",
       "      <td>7</td>\n",
       "      <td>27</td>\n",
       "      <td>NaN</td>\n",
       "      <td>NaN</td>\n",
       "    </tr>\n",
       "    <tr>\n",
       "      <th>22</th>\n",
       "      <td>옥천</td>\n",
       "      <td>유치원</td>\n",
       "      <td>3</td>\n",
       "      <td>1</td>\n",
       "      <td>3</td>\n",
       "      <td>NaN</td>\n",
       "      <td>4</td>\n",
       "      <td>NaN</td>\n",
       "      <td>NaN</td>\n",
       "    </tr>\n",
       "    <tr>\n",
       "      <th>23</th>\n",
       "      <td>NaN</td>\n",
       "      <td>초등학교</td>\n",
       "      <td>12</td>\n",
       "      <td>4</td>\n",
       "      <td>9</td>\n",
       "      <td>3</td>\n",
       "      <td>16</td>\n",
       "      <td>NaN</td>\n",
       "      <td>NaN</td>\n",
       "    </tr>\n",
       "    <tr>\n",
       "      <th>24</th>\n",
       "      <td>NaN</td>\n",
       "      <td>중학교</td>\n",
       "      <td>2</td>\n",
       "      <td>NaN</td>\n",
       "      <td>NaN</td>\n",
       "      <td>9</td>\n",
       "      <td>9</td>\n",
       "      <td>NaN</td>\n",
       "      <td>NaN</td>\n",
       "    </tr>\n",
       "    <tr>\n",
       "      <th>25</th>\n",
       "      <td>NaN</td>\n",
       "      <td>계</td>\n",
       "      <td>17</td>\n",
       "      <td>5</td>\n",
       "      <td>12</td>\n",
       "      <td>12</td>\n",
       "      <td>29</td>\n",
       "      <td>NaN</td>\n",
       "      <td>NaN</td>\n",
       "    </tr>\n",
       "    <tr>\n",
       "      <th>26</th>\n",
       "      <td>영동</td>\n",
       "      <td>유치원</td>\n",
       "      <td>1</td>\n",
       "      <td>NaN</td>\n",
       "      <td>3</td>\n",
       "      <td>NaN</td>\n",
       "      <td>3</td>\n",
       "      <td>NaN</td>\n",
       "      <td>NaN</td>\n",
       "    </tr>\n",
       "    <tr>\n",
       "      <th>27</th>\n",
       "      <td>NaN</td>\n",
       "      <td>초등학교</td>\n",
       "      <td>14</td>\n",
       "      <td>12</td>\n",
       "      <td>10</td>\n",
       "      <td>1</td>\n",
       "      <td>23</td>\n",
       "      <td>NaN</td>\n",
       "      <td>NaN</td>\n",
       "    </tr>\n",
       "    <tr>\n",
       "      <th>28</th>\n",
       "      <td>NaN</td>\n",
       "      <td>중학교</td>\n",
       "      <td>NaN</td>\n",
       "      <td>NaN</td>\n",
       "      <td>NaN</td>\n",
       "      <td>NaN</td>\n",
       "      <td>NaN</td>\n",
       "      <td>NaN</td>\n",
       "      <td>NaN</td>\n",
       "    </tr>\n",
       "    <tr>\n",
       "      <th>29</th>\n",
       "      <td>NaN</td>\n",
       "      <td>계</td>\n",
       "      <td>15</td>\n",
       "      <td>12</td>\n",
       "      <td>13</td>\n",
       "      <td>1</td>\n",
       "      <td>26</td>\n",
       "      <td>NaN</td>\n",
       "      <td>NaN</td>\n",
       "    </tr>\n",
       "    <tr>\n",
       "      <th>30</th>\n",
       "      <td>진천</td>\n",
       "      <td>유치원</td>\n",
       "      <td>2</td>\n",
       "      <td>NaN</td>\n",
       "      <td>4</td>\n",
       "      <td>NaN</td>\n",
       "      <td>4</td>\n",
       "      <td>NaN</td>\n",
       "      <td>NaN</td>\n",
       "    </tr>\n",
       "    <tr>\n",
       "      <th>31</th>\n",
       "      <td>NaN</td>\n",
       "      <td>초등학교</td>\n",
       "      <td>14</td>\n",
       "      <td>3</td>\n",
       "      <td>10</td>\n",
       "      <td>8</td>\n",
       "      <td>21</td>\n",
       "      <td>NaN</td>\n",
       "      <td>NaN</td>\n",
       "    </tr>\n",
       "    <tr>\n",
       "      <th>32</th>\n",
       "      <td>NaN</td>\n",
       "      <td>중학교</td>\n",
       "      <td>NaN</td>\n",
       "      <td>NaN</td>\n",
       "      <td>NaN</td>\n",
       "      <td>NaN</td>\n",
       "      <td>-</td>\n",
       "      <td>NaN</td>\n",
       "      <td>NaN</td>\n",
       "    </tr>\n",
       "    <tr>\n",
       "      <th>33</th>\n",
       "      <td>NaN</td>\n",
       "      <td>계</td>\n",
       "      <td>16</td>\n",
       "      <td>3</td>\n",
       "      <td>14</td>\n",
       "      <td>8</td>\n",
       "      <td>25</td>\n",
       "      <td>-</td>\n",
       "      <td>NaN</td>\n",
       "    </tr>\n",
       "    <tr>\n",
       "      <th>34</th>\n",
       "      <td>괴산·증평</td>\n",
       "      <td>유치원</td>\n",
       "      <td>4</td>\n",
       "      <td>NaN</td>\n",
       "      <td>4</td>\n",
       "      <td>NaN</td>\n",
       "      <td>4</td>\n",
       "      <td>NaN</td>\n",
       "      <td>NaN</td>\n",
       "    </tr>\n",
       "    <tr>\n",
       "      <th>35</th>\n",
       "      <td>NaN</td>\n",
       "      <td>초등학교</td>\n",
       "      <td>15</td>\n",
       "      <td>15</td>\n",
       "      <td>10</td>\n",
       "      <td>NaN</td>\n",
       "      <td>25</td>\n",
       "      <td>NaN</td>\n",
       "      <td>NaN</td>\n",
       "    </tr>\n",
       "    <tr>\n",
       "      <th>36</th>\n",
       "      <td>NaN</td>\n",
       "      <td>중학교</td>\n",
       "      <td>NaN</td>\n",
       "      <td>NaN</td>\n",
       "      <td>NaN</td>\n",
       "      <td>NaN</td>\n",
       "      <td>-</td>\n",
       "      <td>NaN</td>\n",
       "      <td>NaN</td>\n",
       "    </tr>\n",
       "    <tr>\n",
       "      <th>37</th>\n",
       "      <td>NaN</td>\n",
       "      <td>계</td>\n",
       "      <td>19</td>\n",
       "      <td>15</td>\n",
       "      <td>14</td>\n",
       "      <td>-</td>\n",
       "      <td>29</td>\n",
       "      <td>-</td>\n",
       "      <td>NaN</td>\n",
       "    </tr>\n",
       "    <tr>\n",
       "      <th>38</th>\n",
       "      <td>음성</td>\n",
       "      <td>유치원</td>\n",
       "      <td>4</td>\n",
       "      <td>1</td>\n",
       "      <td>3</td>\n",
       "      <td>NaN</td>\n",
       "      <td>4</td>\n",
       "      <td>NaN</td>\n",
       "      <td>NaN</td>\n",
       "    </tr>\n",
       "    <tr>\n",
       "      <th>39</th>\n",
       "      <td>NaN</td>\n",
       "      <td>초등학교</td>\n",
       "      <td>17</td>\n",
       "      <td>6</td>\n",
       "      <td>16</td>\n",
       "      <td>4</td>\n",
       "      <td>26</td>\n",
       "      <td>NaN</td>\n",
       "      <td>NaN</td>\n",
       "    </tr>\n",
       "    <tr>\n",
       "      <th>40</th>\n",
       "      <td>NaN</td>\n",
       "      <td>중학교</td>\n",
       "      <td>5</td>\n",
       "      <td>NaN</td>\n",
       "      <td>NaN</td>\n",
       "      <td>15</td>\n",
       "      <td>15</td>\n",
       "      <td>1</td>\n",
       "      <td>NaN</td>\n",
       "    </tr>\n",
       "    <tr>\n",
       "      <th>41</th>\n",
       "      <td>NaN</td>\n",
       "      <td>계</td>\n",
       "      <td>26</td>\n",
       "      <td>7</td>\n",
       "      <td>19</td>\n",
       "      <td>19</td>\n",
       "      <td>45</td>\n",
       "      <td>1</td>\n",
       "      <td>NaN</td>\n",
       "    </tr>\n",
       "    <tr>\n",
       "      <th>42</th>\n",
       "      <td>단양</td>\n",
       "      <td>유치원</td>\n",
       "      <td>1</td>\n",
       "      <td>1</td>\n",
       "      <td>NaN</td>\n",
       "      <td>NaN</td>\n",
       "      <td>1</td>\n",
       "      <td>NaN</td>\n",
       "      <td>NaN</td>\n",
       "    </tr>\n",
       "    <tr>\n",
       "      <th>43</th>\n",
       "      <td>NaN</td>\n",
       "      <td>초등학교</td>\n",
       "      <td>10</td>\n",
       "      <td>9</td>\n",
       "      <td>2</td>\n",
       "      <td>6</td>\n",
       "      <td>17</td>\n",
       "      <td>NaN</td>\n",
       "      <td>NaN</td>\n",
       "    </tr>\n",
       "    <tr>\n",
       "      <th>44</th>\n",
       "      <td>NaN</td>\n",
       "      <td>중학교</td>\n",
       "      <td>3</td>\n",
       "      <td>NaN</td>\n",
       "      <td>NaN</td>\n",
       "      <td>6</td>\n",
       "      <td>6</td>\n",
       "      <td>NaN</td>\n",
       "      <td>NaN</td>\n",
       "    </tr>\n",
       "    <tr>\n",
       "      <th>45</th>\n",
       "      <td>NaN</td>\n",
       "      <td>계</td>\n",
       "      <td>14</td>\n",
       "      <td>10</td>\n",
       "      <td>2</td>\n",
       "      <td>12</td>\n",
       "      <td>24</td>\n",
       "      <td>-</td>\n",
       "      <td>NaN</td>\n",
       "    </tr>\n",
       "    <tr>\n",
       "      <th>46</th>\n",
       "      <td>특수</td>\n",
       "      <td>특수학교</td>\n",
       "      <td>4</td>\n",
       "      <td>15</td>\n",
       "      <td>3</td>\n",
       "      <td>NaN</td>\n",
       "      <td>18</td>\n",
       "      <td>NaN</td>\n",
       "      <td>NaN</td>\n",
       "    </tr>\n",
       "    <tr>\n",
       "      <th>47</th>\n",
       "      <td>NaN</td>\n",
       "      <td>특수학급</td>\n",
       "      <td>1</td>\n",
       "      <td>NaN</td>\n",
       "      <td>2</td>\n",
       "      <td>NaN</td>\n",
       "      <td>2</td>\n",
       "      <td>NaN</td>\n",
       "      <td>충북에너지고</td>\n",
       "    </tr>\n",
       "    <tr>\n",
       "      <th>48</th>\n",
       "      <td>NaN</td>\n",
       "      <td>계</td>\n",
       "      <td>5</td>\n",
       "      <td>15</td>\n",
       "      <td>5</td>\n",
       "      <td>-</td>\n",
       "      <td>20</td>\n",
       "      <td>NaN</td>\n",
       "      <td>NaN</td>\n",
       "    </tr>\n",
       "    <tr>\n",
       "      <th>49</th>\n",
       "      <td>합계</td>\n",
       "      <td>유</td>\n",
       "      <td>45</td>\n",
       "      <td>4</td>\n",
       "      <td>50</td>\n",
       "      <td>-</td>\n",
       "      <td>54</td>\n",
       "      <td>-</td>\n",
       "      <td>NaN</td>\n",
       "    </tr>\n",
       "    <tr>\n",
       "      <th>50</th>\n",
       "      <td>NaN</td>\n",
       "      <td>초</td>\n",
       "      <td>168</td>\n",
       "      <td>85</td>\n",
       "      <td>144</td>\n",
       "      <td>40</td>\n",
       "      <td>269</td>\n",
       "      <td>6</td>\n",
       "      <td>NaN</td>\n",
       "    </tr>\n",
       "    <tr>\n",
       "      <th>51</th>\n",
       "      <td>NaN</td>\n",
       "      <td>중학교</td>\n",
       "      <td>19</td>\n",
       "      <td>-</td>\n",
       "      <td>2</td>\n",
       "      <td>36</td>\n",
       "      <td>38</td>\n",
       "      <td>79</td>\n",
       "      <td>NaN</td>\n",
       "    </tr>\n",
       "    <tr>\n",
       "      <th>52</th>\n",
       "      <td>NaN</td>\n",
       "      <td>특수</td>\n",
       "      <td>4</td>\n",
       "      <td>15</td>\n",
       "      <td>3</td>\n",
       "      <td>NaN</td>\n",
       "      <td>18</td>\n",
       "      <td>NaN</td>\n",
       "      <td>NaN</td>\n",
       "    </tr>\n",
       "    <tr>\n",
       "      <th>53</th>\n",
       "      <td>NaN</td>\n",
       "      <td>특수학급</td>\n",
       "      <td>1</td>\n",
       "      <td>NaN</td>\n",
       "      <td>2</td>\n",
       "      <td>NaN</td>\n",
       "      <td>2</td>\n",
       "      <td>NaN</td>\n",
       "      <td>NaN</td>\n",
       "    </tr>\n",
       "    <tr>\n",
       "      <th>54</th>\n",
       "      <td>NaN</td>\n",
       "      <td>계</td>\n",
       "      <td>237</td>\n",
       "      <td>104</td>\n",
       "      <td>201</td>\n",
       "      <td>76</td>\n",
       "      <td>381</td>\n",
       "      <td>85</td>\n",
       "      <td>NaN</td>\n",
       "    </tr>\n",
       "    <tr>\n",
       "      <th>55</th>\n",
       "      <td>※  사립중학교 통학 지원 포함</td>\n",
       "      <td>NaN</td>\n",
       "      <td>NaN</td>\n",
       "      <td>NaN</td>\n",
       "      <td>NaN</td>\n",
       "      <td>NaN</td>\n",
       "      <td>NaN</td>\n",
       "      <td>NaN</td>\n",
       "      <td>NaN</td>\n",
       "    </tr>\n",
       "    <tr>\n",
       "      <th>56</th>\n",
       "      <td>※  사립 특수학교 별도</td>\n",
       "      <td>NaN</td>\n",
       "      <td>NaN</td>\n",
       "      <td>NaN</td>\n",
       "      <td>NaN</td>\n",
       "      <td>NaN</td>\n",
       "      <td>NaN</td>\n",
       "      <td>NaN</td>\n",
       "      <td>NaN</td>\n",
       "    </tr>\n",
       "    <tr>\n",
       "      <th>57</th>\n",
       "      <td>- 직영 16대(맹학교 1, 청주성신 4, 충주성심 2, 충주성모 2, ...</td>\n",
       "      <td>NaN</td>\n",
       "      <td>NaN</td>\n",
       "      <td>NaN</td>\n",
       "      <td>NaN</td>\n",
       "      <td>NaN</td>\n",
       "      <td>NaN</td>\n",
       "      <td>NaN</td>\n",
       "      <td>NaN</td>\n",
       "    </tr>\n",
       "    <tr>\n",
       "      <th>58</th>\n",
       "      <td>- 임차 13대(맹학교 3, 청주성신 2, 충주성심 3, 충주성모 1, ...</td>\n",
       "      <td>NaN</td>\n",
       "      <td>NaN</td>\n",
       "      <td>NaN</td>\n",
       "      <td>NaN</td>\n",
       "      <td>NaN</td>\n",
       "      <td>NaN</td>\n",
       "      <td>NaN</td>\n",
       "      <td>NaN</td>\n",
       "    </tr>\n",
       "  </tbody>\n",
       "</table>\n",
       "</div>"
      ],
      "text/plain": [
       "                                           Unnamed: 0 Unnamed: 1 Unnamed: 2  \\\n",
       "0                                      2023년 통학 지원 현황        NaN        NaN   \n",
       "1                                                 NaN        NaN        NaN   \n",
       "2                                                 NaN        NaN        NaN   \n",
       "3                                                  구분        학교급      운영기관수   \n",
       "4                                                 NaN        NaN        NaN   \n",
       "5                                                 NaN        NaN        NaN   \n",
       "6                                                  청주        유치원        14    \n",
       "7                                                 NaN       초등학교        37    \n",
       "8                                                 NaN        중학교         3    \n",
       "9                                                 NaN          계        54    \n",
       "10                                                 충주        유치원         9    \n",
       "11                                                NaN       초등학교        24    \n",
       "12                                                NaN        중학교         4    \n",
       "13                                                NaN          계        37    \n",
       "14                                                 제천        유치원         5    \n",
       "15                                                NaN       초등학교        10    \n",
       "16                                                NaN        중학교         2    \n",
       "17                                                NaN          계        17    \n",
       "18                                                 보은        유치원         2    \n",
       "19                                                NaN       초등학교        15    \n",
       "20                                                NaN        중학교        NaN   \n",
       "21                                                NaN          계        17    \n",
       "22                                                 옥천        유치원         3    \n",
       "23                                                NaN       초등학교        12    \n",
       "24                                                NaN        중학교         2    \n",
       "25                                                NaN          계        17    \n",
       "26                                                 영동        유치원         1    \n",
       "27                                                NaN       초등학교        14    \n",
       "28                                                NaN        중학교        NaN   \n",
       "29                                                NaN          계        15    \n",
       "30                                                 진천        유치원         2    \n",
       "31                                                NaN       초등학교        14    \n",
       "32                                                NaN        중학교        NaN   \n",
       "33                                                NaN          계        16    \n",
       "34                                              괴산·증평        유치원         4    \n",
       "35                                                NaN       초등학교        15    \n",
       "36                                                NaN        중학교        NaN   \n",
       "37                                                NaN          계        19    \n",
       "38                                                 음성        유치원         4    \n",
       "39                                                NaN       초등학교        17    \n",
       "40                                                NaN        중학교         5    \n",
       "41                                                NaN          계        26    \n",
       "42                                                 단양        유치원         1    \n",
       "43                                                NaN       초등학교        10    \n",
       "44                                                NaN        중학교         3    \n",
       "45                                                NaN          계        14    \n",
       "46                                                 특수       특수학교         4    \n",
       "47                                                NaN       특수학급         1    \n",
       "48                                                NaN          계         5    \n",
       "49                                                 합계          유        45    \n",
       "50                                                NaN          초       168    \n",
       "51                                                NaN        중학교        19    \n",
       "52                                                NaN         특수         4    \n",
       "53                                                NaN       특수학급         1    \n",
       "54                                                NaN          계       237    \n",
       "55                                  ※  사립중학교 통학 지원 포함        NaN        NaN   \n",
       "56                                      ※  사립 특수학교 별도        NaN        NaN   \n",
       "57        - 직영 16대(맹학교 1, 청주성신 4, 충주성심 2, 충주성모 2, ...        NaN        NaN   \n",
       "58        - 임차 13대(맹학교 3, 청주성신 2, 충주성심 3, 충주성모 1, ...        NaN        NaN   \n",
       "\n",
       "    Unnamed: 3 Unnamed: 4 Unnamed: 5 Unnamed: 6 Unnamed: 7  \\\n",
       "0          NaN        NaN        NaN        NaN        NaN   \n",
       "1          NaN        NaN        NaN        NaN        NaN   \n",
       "2          NaN        NaN        NaN        NaN        NaN   \n",
       "3     통학 지원 현황        NaN        NaN        NaN        NaN   \n",
       "4   통학차량 운영 현황        NaN        NaN        NaN     통학비(명)   \n",
       "5        직영(대)      임차(대)      택시(대)          계        NaN   \n",
       "6           1         16         NaN        17         NaN   \n",
       "7           6         51          2         59          6    \n",
       "8          NaN         1         NaN         1          7    \n",
       "9           7         68          2         77         13    \n",
       "10         NaN         9         NaN         9         NaN   \n",
       "11          9         20          7         36         NaN   \n",
       "12         NaN         1          3          4         70    \n",
       "13          9         30         10         49         70    \n",
       "14         NaN         6         NaN         6         NaN   \n",
       "15         12          7          2         21         NaN   \n",
       "16         NaN        NaN         3          3          1    \n",
       "17         12         13          5         30          1    \n",
       "18         NaN         2         NaN         2         NaN   \n",
       "19          9          9          7         25         NaN   \n",
       "20         NaN        NaN        NaN         -         NaN   \n",
       "21          9         11          7         27         NaN   \n",
       "22          1          3         NaN         4         NaN   \n",
       "23          4          9          3         16         NaN   \n",
       "24         NaN        NaN         9          9         NaN   \n",
       "25          5         12         12         29         NaN   \n",
       "26         NaN         3         NaN         3         NaN   \n",
       "27         12         10          1         23         NaN   \n",
       "28         NaN        NaN        NaN        NaN        NaN   \n",
       "29         12         13          1         26         NaN   \n",
       "30         NaN         4         NaN         4         NaN   \n",
       "31          3         10          8         21         NaN   \n",
       "32         NaN        NaN        NaN         -         NaN   \n",
       "33          3         14          8         25          -    \n",
       "34         NaN         4         NaN         4         NaN   \n",
       "35         15         10         NaN        25         NaN   \n",
       "36         NaN        NaN        NaN         -         NaN   \n",
       "37         15         14          -         29          -    \n",
       "38          1          3         NaN         4         NaN   \n",
       "39          6         16          4         26         NaN   \n",
       "40         NaN        NaN        15         15          1    \n",
       "41          7         19         19         45          1    \n",
       "42          1         NaN        NaN         1         NaN   \n",
       "43          9          2          6         17         NaN   \n",
       "44         NaN        NaN         6          6         NaN   \n",
       "45         10          2         12         24          -    \n",
       "46         15          3         NaN        18         NaN   \n",
       "47         NaN         2         NaN         2         NaN   \n",
       "48         15          5          -         20         NaN   \n",
       "49          4         50          -         54          -    \n",
       "50         85        144         40        269          6    \n",
       "51          -          2         36         38         79    \n",
       "52         15          3         NaN        18         NaN   \n",
       "53         NaN         2         NaN         2         NaN   \n",
       "54        104        201         76        381         85    \n",
       "55         NaN        NaN        NaN        NaN        NaN   \n",
       "56         NaN        NaN        NaN        NaN        NaN   \n",
       "57         NaN        NaN        NaN        NaN        NaN   \n",
       "58         NaN        NaN        NaN        NaN        NaN   \n",
       "\n",
       "                     Unnamed: 8  \n",
       "0                           NaN  \n",
       "1                           NaN  \n",
       "2   (기준: 2023. 4. 1., 단위: 대, 명)  \n",
       "3                            비고  \n",
       "4                           NaN  \n",
       "5                           NaN  \n",
       "6                           NaN  \n",
       "7                           NaN  \n",
       "8                           NaN  \n",
       "9                           NaN  \n",
       "10                          NaN  \n",
       "11                          NaN  \n",
       "12                       국원고 포함  \n",
       "13                          NaN  \n",
       "14                          NaN  \n",
       "15                          NaN  \n",
       "16                          NaN  \n",
       "17                          NaN  \n",
       "18                          NaN  \n",
       "19                          NaN  \n",
       "20                          NaN  \n",
       "21                          NaN  \n",
       "22                          NaN  \n",
       "23                          NaN  \n",
       "24                          NaN  \n",
       "25                          NaN  \n",
       "26                          NaN  \n",
       "27                          NaN  \n",
       "28                          NaN  \n",
       "29                          NaN  \n",
       "30                          NaN  \n",
       "31                          NaN  \n",
       "32                          NaN  \n",
       "33                          NaN  \n",
       "34                          NaN  \n",
       "35                          NaN  \n",
       "36                          NaN  \n",
       "37                          NaN  \n",
       "38                          NaN  \n",
       "39                          NaN  \n",
       "40                          NaN  \n",
       "41                          NaN  \n",
       "42                          NaN  \n",
       "43                          NaN  \n",
       "44                          NaN  \n",
       "45                          NaN  \n",
       "46                          NaN  \n",
       "47                       충북에너지고  \n",
       "48                          NaN  \n",
       "49                          NaN  \n",
       "50                          NaN  \n",
       "51                          NaN  \n",
       "52                          NaN  \n",
       "53                          NaN  \n",
       "54                          NaN  \n",
       "55                          NaN  \n",
       "56                          NaN  \n",
       "57                          NaN  \n",
       "58                          NaN  "
      ]
     },
     "execution_count": 74,
     "metadata": {},
     "output_type": "execute_result"
    }
   ],
   "source": [
    "X"
   ]
  },
  {
   "cell_type": "code",
   "execution_count": null,
   "metadata": {},
   "outputs": [],
   "source": [
    "# 전략 1 : 데이터를 보니 \"※ 사립중학교 통학 지원 포함\" 아래는 데이터가 아니다.\n",
    "# 전략 2 : 충주 -> 유치원, 초, 중, 계를 하나의 그룹으로 묶어야 한다.\n",
    "# 전략 3 : 그 이후에 나머지 NaN : 두가지 경우가 있을 수 있다. 데이터가 없는 경우"
   ]
  },
  {
   "cell_type": "code",
   "execution_count": null,
   "metadata": {},
   "outputs": [],
   "source": [
    "Y = pd.read_csv(\"국가평생교육진흥원_학점은행제정보시스템_통계관리_20201023.csv\")"
   ]
  },
  {
   "cell_type": "code",
   "execution_count": null,
   "metadata": {},
   "outputs": [
    {
     "data": {
      "text/html": [
       "<div>\n",
       "<style scoped>\n",
       "    .dataframe tbody tr th:only-of-type {\n",
       "        vertical-align: middle;\n",
       "    }\n",
       "\n",
       "    .dataframe tbody tr th {\n",
       "        vertical-align: top;\n",
       "    }\n",
       "\n",
       "    .dataframe thead th {\n",
       "        text-align: right;\n",
       "    }\n",
       "</style>\n",
       "<table border=\"1\" class=\"dataframe\">\n",
       "  <thead>\n",
       "    <tr style=\"text-align: right;\">\n",
       "      <th></th>\n",
       "      <th>year</th>\n",
       "      <th>quarter</th>\n",
       "      <th>count</th>\n",
       "    </tr>\n",
       "  </thead>\n",
       "  <tbody>\n",
       "    <tr>\n",
       "      <th>0</th>\n",
       "      <td>1998</td>\n",
       "      <td>3</td>\n",
       "      <td>0</td>\n",
       "    </tr>\n",
       "    <tr>\n",
       "      <th>1</th>\n",
       "      <td>1998</td>\n",
       "      <td>3</td>\n",
       "      <td>0</td>\n",
       "    </tr>\n",
       "    <tr>\n",
       "      <th>2</th>\n",
       "      <td>1998</td>\n",
       "      <td>3</td>\n",
       "      <td>0</td>\n",
       "    </tr>\n",
       "    <tr>\n",
       "      <th>3</th>\n",
       "      <td>1998</td>\n",
       "      <td>3</td>\n",
       "      <td>0</td>\n",
       "    </tr>\n",
       "    <tr>\n",
       "      <th>4</th>\n",
       "      <td>1998</td>\n",
       "      <td>3</td>\n",
       "      <td>0</td>\n",
       "    </tr>\n",
       "    <tr>\n",
       "      <th>...</th>\n",
       "      <td>...</td>\n",
       "      <td>...</td>\n",
       "      <td>...</td>\n",
       "    </tr>\n",
       "    <tr>\n",
       "      <th>27949</th>\n",
       "      <td>2003</td>\n",
       "      <td>2</td>\n",
       "      <td>17</td>\n",
       "    </tr>\n",
       "    <tr>\n",
       "      <th>27950</th>\n",
       "      <td>2003</td>\n",
       "      <td>2</td>\n",
       "      <td>23</td>\n",
       "    </tr>\n",
       "    <tr>\n",
       "      <th>27951</th>\n",
       "      <td>2003</td>\n",
       "      <td>2</td>\n",
       "      <td>0</td>\n",
       "    </tr>\n",
       "    <tr>\n",
       "      <th>27952</th>\n",
       "      <td>2003</td>\n",
       "      <td>2</td>\n",
       "      <td>3</td>\n",
       "    </tr>\n",
       "    <tr>\n",
       "      <th>27953</th>\n",
       "      <td>2003</td>\n",
       "      <td>2</td>\n",
       "      <td>320</td>\n",
       "    </tr>\n",
       "  </tbody>\n",
       "</table>\n",
       "<p>27954 rows × 3 columns</p>\n",
       "</div>"
      ],
      "text/plain": [
       "       year   quarter  count\n",
       "0      1998         3      0\n",
       "1      1998         3      0\n",
       "2      1998         3      0\n",
       "3      1998         3      0\n",
       "4      1998         3      0\n",
       "...     ...       ...    ...\n",
       "27949  2003         2     17\n",
       "27950  2003         2     23\n",
       "27951  2003         2      0\n",
       "27952  2003         2      3\n",
       "27953  2003         2    320\n",
       "\n",
       "[27954 rows x 3 columns]"
      ]
     },
     "execution_count": 76,
     "metadata": {},
     "output_type": "execute_result"
    }
   ],
   "source": [
    "Y"
   ]
  },
  {
   "cell_type": "code",
   "execution_count": 109,
   "metadata": {},
   "outputs": [],
   "source": [
    "ZZ = pd.read_csv(\"police_crime_time_20191231.csv\")"
   ]
  },
  {
   "cell_type": "code",
   "execution_count": null,
   "metadata": {},
   "outputs": [],
   "source": []
  },
  {
   "cell_type": "code",
   "execution_count": null,
   "metadata": {},
   "outputs": [],
   "source": []
  },
  {
   "cell_type": "code",
   "execution_count": null,
   "metadata": {},
   "outputs": [],
   "source": []
  },
  {
   "cell_type": "code",
   "execution_count": 110,
   "metadata": {},
   "outputs": [
    {
     "data": {
      "text/html": [
       "<div>\n",
       "<style scoped>\n",
       "    .dataframe tbody tr th:only-of-type {\n",
       "        vertical-align: middle;\n",
       "    }\n",
       "\n",
       "    .dataframe tbody tr th {\n",
       "        vertical-align: top;\n",
       "    }\n",
       "\n",
       "    .dataframe thead th {\n",
       "        text-align: right;\n",
       "    }\n",
       "</style>\n",
       "<table border=\"1\" class=\"dataframe\">\n",
       "  <thead>\n",
       "    <tr style=\"text-align: right;\">\n",
       "      <th></th>\n",
       "      <th>범죄대분류</th>\n",
       "      <th>범죄중분류</th>\n",
       "      <th>0시00분-02시59분</th>\n",
       "      <th>03시00분-05시59분</th>\n",
       "      <th>06시00분-08시59분</th>\n",
       "      <th>09시00분-11시59분</th>\n",
       "      <th>12시00분-14시59분</th>\n",
       "      <th>15시00분-17시59분</th>\n",
       "      <th>18시00분-20시59분</th>\n",
       "      <th>21시00분-23시59분</th>\n",
       "      <th>미상</th>\n",
       "      <th>일</th>\n",
       "      <th>월</th>\n",
       "      <th>화</th>\n",
       "      <th>수</th>\n",
       "      <th>목</th>\n",
       "      <th>금</th>\n",
       "      <th>토</th>\n",
       "    </tr>\n",
       "  </thead>\n",
       "  <tbody>\n",
       "    <tr>\n",
       "      <th>0</th>\n",
       "      <td>강력범죄</td>\n",
       "      <td>살인기수</td>\n",
       "      <td>15</td>\n",
       "      <td>21</td>\n",
       "      <td>20</td>\n",
       "      <td>28</td>\n",
       "      <td>38</td>\n",
       "      <td>33</td>\n",
       "      <td>43</td>\n",
       "      <td>49</td>\n",
       "      <td>50</td>\n",
       "      <td>38</td>\n",
       "      <td>45</td>\n",
       "      <td>48</td>\n",
       "      <td>40</td>\n",
       "      <td>37</td>\n",
       "      <td>49</td>\n",
       "      <td>40</td>\n",
       "    </tr>\n",
       "    <tr>\n",
       "      <th>1</th>\n",
       "      <td>강력범죄</td>\n",
       "      <td>살인미수등</td>\n",
       "      <td>33</td>\n",
       "      <td>50</td>\n",
       "      <td>29</td>\n",
       "      <td>44</td>\n",
       "      <td>46</td>\n",
       "      <td>60</td>\n",
       "      <td>66</td>\n",
       "      <td>82</td>\n",
       "      <td>72</td>\n",
       "      <td>71</td>\n",
       "      <td>70</td>\n",
       "      <td>68</td>\n",
       "      <td>62</td>\n",
       "      <td>73</td>\n",
       "      <td>85</td>\n",
       "      <td>53</td>\n",
       "    </tr>\n",
       "    <tr>\n",
       "      <th>2</th>\n",
       "      <td>강력범죄</td>\n",
       "      <td>강도</td>\n",
       "      <td>105</td>\n",
       "      <td>131</td>\n",
       "      <td>44</td>\n",
       "      <td>59</td>\n",
       "      <td>68</td>\n",
       "      <td>72</td>\n",
       "      <td>81</td>\n",
       "      <td>107</td>\n",
       "      <td>131</td>\n",
       "      <td>111</td>\n",
       "      <td>113</td>\n",
       "      <td>116</td>\n",
       "      <td>105</td>\n",
       "      <td>124</td>\n",
       "      <td>121</td>\n",
       "      <td>108</td>\n",
       "    </tr>\n",
       "    <tr>\n",
       "      <th>3</th>\n",
       "      <td>강력범죄</td>\n",
       "      <td>강간</td>\n",
       "      <td>630</td>\n",
       "      <td>885</td>\n",
       "      <td>417</td>\n",
       "      <td>293</td>\n",
       "      <td>325</td>\n",
       "      <td>311</td>\n",
       "      <td>425</td>\n",
       "      <td>719</td>\n",
       "      <td>1305</td>\n",
       "      <td>869</td>\n",
       "      <td>686</td>\n",
       "      <td>734</td>\n",
       "      <td>719</td>\n",
       "      <td>682</td>\n",
       "      <td>722</td>\n",
       "      <td>898</td>\n",
       "    </tr>\n",
       "    <tr>\n",
       "      <th>4</th>\n",
       "      <td>강력범죄</td>\n",
       "      <td>유사강간</td>\n",
       "      <td>102</td>\n",
       "      <td>110</td>\n",
       "      <td>57</td>\n",
       "      <td>62</td>\n",
       "      <td>60</td>\n",
       "      <td>55</td>\n",
       "      <td>66</td>\n",
       "      <td>89</td>\n",
       "      <td>181</td>\n",
       "      <td>145</td>\n",
       "      <td>99</td>\n",
       "      <td>109</td>\n",
       "      <td>92</td>\n",
       "      <td>89</td>\n",
       "      <td>112</td>\n",
       "      <td>136</td>\n",
       "    </tr>\n",
       "    <tr>\n",
       "      <th>5</th>\n",
       "      <td>강력범죄</td>\n",
       "      <td>강제추행</td>\n",
       "      <td>1855</td>\n",
       "      <td>1921</td>\n",
       "      <td>1293</td>\n",
       "      <td>1163</td>\n",
       "      <td>1300</td>\n",
       "      <td>1706</td>\n",
       "      <td>2189</td>\n",
       "      <td>2901</td>\n",
       "      <td>2792</td>\n",
       "      <td>2580</td>\n",
       "      <td>2272</td>\n",
       "      <td>2306</td>\n",
       "      <td>2358</td>\n",
       "      <td>2231</td>\n",
       "      <td>2542</td>\n",
       "      <td>2831</td>\n",
       "    </tr>\n",
       "    <tr>\n",
       "      <th>6</th>\n",
       "      <td>강력범죄</td>\n",
       "      <td>기타 강간 강제추행등</td>\n",
       "      <td>36</td>\n",
       "      <td>47</td>\n",
       "      <td>12</td>\n",
       "      <td>26</td>\n",
       "      <td>20</td>\n",
       "      <td>37</td>\n",
       "      <td>30</td>\n",
       "      <td>40</td>\n",
       "      <td>77</td>\n",
       "      <td>58</td>\n",
       "      <td>53</td>\n",
       "      <td>45</td>\n",
       "      <td>49</td>\n",
       "      <td>39</td>\n",
       "      <td>43</td>\n",
       "      <td>38</td>\n",
       "    </tr>\n",
       "    <tr>\n",
       "      <th>7</th>\n",
       "      <td>강력범죄</td>\n",
       "      <td>방화</td>\n",
       "      <td>144</td>\n",
       "      <td>151</td>\n",
       "      <td>105</td>\n",
       "      <td>124</td>\n",
       "      <td>109</td>\n",
       "      <td>173</td>\n",
       "      <td>189</td>\n",
       "      <td>228</td>\n",
       "      <td>139</td>\n",
       "      <td>209</td>\n",
       "      <td>181</td>\n",
       "      <td>181</td>\n",
       "      <td>209</td>\n",
       "      <td>170</td>\n",
       "      <td>206</td>\n",
       "      <td>206</td>\n",
       "    </tr>\n",
       "    <tr>\n",
       "      <th>8</th>\n",
       "      <td>절도범죄</td>\n",
       "      <td>절도</td>\n",
       "      <td>13088</td>\n",
       "      <td>14167</td>\n",
       "      <td>13094</td>\n",
       "      <td>21501</td>\n",
       "      <td>27167</td>\n",
       "      <td>28553</td>\n",
       "      <td>27229</td>\n",
       "      <td>20568</td>\n",
       "      <td>21590</td>\n",
       "      <td>25466</td>\n",
       "      <td>26239</td>\n",
       "      <td>25671</td>\n",
       "      <td>26061</td>\n",
       "      <td>26098</td>\n",
       "      <td>28156</td>\n",
       "      <td>29266</td>\n",
       "    </tr>\n",
       "    <tr>\n",
       "      <th>9</th>\n",
       "      <td>폭력범죄</td>\n",
       "      <td>상해</td>\n",
       "      <td>4166</td>\n",
       "      <td>3408</td>\n",
       "      <td>2247</td>\n",
       "      <td>2967</td>\n",
       "      <td>3025</td>\n",
       "      <td>3684</td>\n",
       "      <td>4585</td>\n",
       "      <td>7433</td>\n",
       "      <td>5343</td>\n",
       "      <td>5693</td>\n",
       "      <td>4908</td>\n",
       "      <td>5063</td>\n",
       "      <td>5038</td>\n",
       "      <td>5110</td>\n",
       "      <td>5270</td>\n",
       "      <td>5776</td>\n",
       "    </tr>\n",
       "    <tr>\n",
       "      <th>10</th>\n",
       "      <td>폭력범죄</td>\n",
       "      <td>폭행</td>\n",
       "      <td>19226</td>\n",
       "      <td>16377</td>\n",
       "      <td>9345</td>\n",
       "      <td>11591</td>\n",
       "      <td>12509</td>\n",
       "      <td>14791</td>\n",
       "      <td>20704</td>\n",
       "      <td>34120</td>\n",
       "      <td>18534</td>\n",
       "      <td>25865</td>\n",
       "      <td>19966</td>\n",
       "      <td>20766</td>\n",
       "      <td>20981</td>\n",
       "      <td>21080</td>\n",
       "      <td>22045</td>\n",
       "      <td>26494</td>\n",
       "    </tr>\n",
       "    <tr>\n",
       "      <th>11</th>\n",
       "      <td>폭력범죄</td>\n",
       "      <td>체포 감금</td>\n",
       "      <td>96</td>\n",
       "      <td>106</td>\n",
       "      <td>76</td>\n",
       "      <td>122</td>\n",
       "      <td>147</td>\n",
       "      <td>146</td>\n",
       "      <td>135</td>\n",
       "      <td>185</td>\n",
       "      <td>230</td>\n",
       "      <td>180</td>\n",
       "      <td>189</td>\n",
       "      <td>170</td>\n",
       "      <td>171</td>\n",
       "      <td>169</td>\n",
       "      <td>196</td>\n",
       "      <td>168</td>\n",
       "    </tr>\n",
       "    <tr>\n",
       "      <th>12</th>\n",
       "      <td>폭력범죄</td>\n",
       "      <td>협박</td>\n",
       "      <td>1316</td>\n",
       "      <td>1036</td>\n",
       "      <td>1339</td>\n",
       "      <td>2288</td>\n",
       "      <td>2251</td>\n",
       "      <td>2687</td>\n",
       "      <td>3304</td>\n",
       "      <td>3437</td>\n",
       "      <td>3364</td>\n",
       "      <td>2886</td>\n",
       "      <td>3013</td>\n",
       "      <td>3039</td>\n",
       "      <td>3072</td>\n",
       "      <td>2961</td>\n",
       "      <td>3040</td>\n",
       "      <td>3011</td>\n",
       "    </tr>\n",
       "    <tr>\n",
       "      <th>13</th>\n",
       "      <td>폭력범죄</td>\n",
       "      <td>약취 유인</td>\n",
       "      <td>10</td>\n",
       "      <td>12</td>\n",
       "      <td>17</td>\n",
       "      <td>29</td>\n",
       "      <td>41</td>\n",
       "      <td>48</td>\n",
       "      <td>32</td>\n",
       "      <td>13</td>\n",
       "      <td>48</td>\n",
       "      <td>27</td>\n",
       "      <td>40</td>\n",
       "      <td>41</td>\n",
       "      <td>34</td>\n",
       "      <td>32</td>\n",
       "      <td>40</td>\n",
       "      <td>36</td>\n",
       "    </tr>\n",
       "    <tr>\n",
       "      <th>14</th>\n",
       "      <td>폭력범죄</td>\n",
       "      <td>폭력행위등</td>\n",
       "      <td>1234</td>\n",
       "      <td>1263</td>\n",
       "      <td>460</td>\n",
       "      <td>450</td>\n",
       "      <td>508</td>\n",
       "      <td>704</td>\n",
       "      <td>936</td>\n",
       "      <td>1427</td>\n",
       "      <td>1368</td>\n",
       "      <td>1544</td>\n",
       "      <td>1126</td>\n",
       "      <td>1100</td>\n",
       "      <td>1086</td>\n",
       "      <td>1001</td>\n",
       "      <td>1063</td>\n",
       "      <td>1430</td>\n",
       "    </tr>\n",
       "    <tr>\n",
       "      <th>15</th>\n",
       "      <td>폭력범죄</td>\n",
       "      <td>공갈</td>\n",
       "      <td>135</td>\n",
       "      <td>122</td>\n",
       "      <td>74</td>\n",
       "      <td>388</td>\n",
       "      <td>455</td>\n",
       "      <td>590</td>\n",
       "      <td>599</td>\n",
       "      <td>507</td>\n",
       "      <td>1977</td>\n",
       "      <td>483</td>\n",
       "      <td>818</td>\n",
       "      <td>740</td>\n",
       "      <td>757</td>\n",
       "      <td>744</td>\n",
       "      <td>756</td>\n",
       "      <td>549</td>\n",
       "    </tr>\n",
       "    <tr>\n",
       "      <th>16</th>\n",
       "      <td>폭력범죄</td>\n",
       "      <td>손괴</td>\n",
       "      <td>5107</td>\n",
       "      <td>4556</td>\n",
       "      <td>4014</td>\n",
       "      <td>5277</td>\n",
       "      <td>4983</td>\n",
       "      <td>6289</td>\n",
       "      <td>9323</td>\n",
       "      <td>10822</td>\n",
       "      <td>7775</td>\n",
       "      <td>8617</td>\n",
       "      <td>7974</td>\n",
       "      <td>7634</td>\n",
       "      <td>7766</td>\n",
       "      <td>7989</td>\n",
       "      <td>8788</td>\n",
       "      <td>9378</td>\n",
       "    </tr>\n",
       "    <tr>\n",
       "      <th>17</th>\n",
       "      <td>지능범죄</td>\n",
       "      <td>직무유기</td>\n",
       "      <td>2</td>\n",
       "      <td>3</td>\n",
       "      <td>8</td>\n",
       "      <td>123</td>\n",
       "      <td>33</td>\n",
       "      <td>21</td>\n",
       "      <td>9</td>\n",
       "      <td>5</td>\n",
       "      <td>386</td>\n",
       "      <td>24</td>\n",
       "      <td>108</td>\n",
       "      <td>123</td>\n",
       "      <td>106</td>\n",
       "      <td>99</td>\n",
       "      <td>102</td>\n",
       "      <td>28</td>\n",
       "    </tr>\n",
       "    <tr>\n",
       "      <th>18</th>\n",
       "      <td>지능범죄</td>\n",
       "      <td>직권남용</td>\n",
       "      <td>8</td>\n",
       "      <td>11</td>\n",
       "      <td>12</td>\n",
       "      <td>135</td>\n",
       "      <td>48</td>\n",
       "      <td>40</td>\n",
       "      <td>26</td>\n",
       "      <td>15</td>\n",
       "      <td>379</td>\n",
       "      <td>44</td>\n",
       "      <td>126</td>\n",
       "      <td>118</td>\n",
       "      <td>97</td>\n",
       "      <td>107</td>\n",
       "      <td>136</td>\n",
       "      <td>46</td>\n",
       "    </tr>\n",
       "    <tr>\n",
       "      <th>19</th>\n",
       "      <td>지능범죄</td>\n",
       "      <td>증수뢰</td>\n",
       "      <td>0</td>\n",
       "      <td>0</td>\n",
       "      <td>2</td>\n",
       "      <td>25</td>\n",
       "      <td>11</td>\n",
       "      <td>6</td>\n",
       "      <td>8</td>\n",
       "      <td>4</td>\n",
       "      <td>204</td>\n",
       "      <td>13</td>\n",
       "      <td>46</td>\n",
       "      <td>42</td>\n",
       "      <td>52</td>\n",
       "      <td>42</td>\n",
       "      <td>45</td>\n",
       "      <td>20</td>\n",
       "    </tr>\n",
       "    <tr>\n",
       "      <th>20</th>\n",
       "      <td>지능범죄</td>\n",
       "      <td>통화</td>\n",
       "      <td>9</td>\n",
       "      <td>9</td>\n",
       "      <td>27</td>\n",
       "      <td>183</td>\n",
       "      <td>115</td>\n",
       "      <td>95</td>\n",
       "      <td>41</td>\n",
       "      <td>22</td>\n",
       "      <td>479</td>\n",
       "      <td>35</td>\n",
       "      <td>186</td>\n",
       "      <td>169</td>\n",
       "      <td>187</td>\n",
       "      <td>177</td>\n",
       "      <td>178</td>\n",
       "      <td>48</td>\n",
       "    </tr>\n",
       "    <tr>\n",
       "      <th>21</th>\n",
       "      <td>지능범죄</td>\n",
       "      <td>문서 인장</td>\n",
       "      <td>174</td>\n",
       "      <td>134</td>\n",
       "      <td>63</td>\n",
       "      <td>1688</td>\n",
       "      <td>747</td>\n",
       "      <td>464</td>\n",
       "      <td>275</td>\n",
       "      <td>290</td>\n",
       "      <td>7508</td>\n",
       "      <td>620</td>\n",
       "      <td>2130</td>\n",
       "      <td>1971</td>\n",
       "      <td>1840</td>\n",
       "      <td>2032</td>\n",
       "      <td>1978</td>\n",
       "      <td>772</td>\n",
       "    </tr>\n",
       "    <tr>\n",
       "      <th>22</th>\n",
       "      <td>지능범죄</td>\n",
       "      <td>유가증권인지</td>\n",
       "      <td>0</td>\n",
       "      <td>1</td>\n",
       "      <td>2</td>\n",
       "      <td>27</td>\n",
       "      <td>9</td>\n",
       "      <td>15</td>\n",
       "      <td>7</td>\n",
       "      <td>2</td>\n",
       "      <td>77</td>\n",
       "      <td>8</td>\n",
       "      <td>22</td>\n",
       "      <td>16</td>\n",
       "      <td>30</td>\n",
       "      <td>21</td>\n",
       "      <td>24</td>\n",
       "      <td>19</td>\n",
       "    </tr>\n",
       "    <tr>\n",
       "      <th>23</th>\n",
       "      <td>지능범죄</td>\n",
       "      <td>사기</td>\n",
       "      <td>5443</td>\n",
       "      <td>3949</td>\n",
       "      <td>3056</td>\n",
       "      <td>39184</td>\n",
       "      <td>30405</td>\n",
       "      <td>21648</td>\n",
       "      <td>13930</td>\n",
       "      <td>12387</td>\n",
       "      <td>174470</td>\n",
       "      <td>20814</td>\n",
       "      <td>52740</td>\n",
       "      <td>51876</td>\n",
       "      <td>51225</td>\n",
       "      <td>51654</td>\n",
       "      <td>52039</td>\n",
       "      <td>24124</td>\n",
       "    </tr>\n",
       "    <tr>\n",
       "      <th>24</th>\n",
       "      <td>지능범죄</td>\n",
       "      <td>횡령</td>\n",
       "      <td>2754</td>\n",
       "      <td>2526</td>\n",
       "      <td>2780</td>\n",
       "      <td>6781</td>\n",
       "      <td>6586</td>\n",
       "      <td>6584</td>\n",
       "      <td>6646</td>\n",
       "      <td>6367</td>\n",
       "      <td>17484</td>\n",
       "      <td>7231</td>\n",
       "      <td>8559</td>\n",
       "      <td>8128</td>\n",
       "      <td>8318</td>\n",
       "      <td>8460</td>\n",
       "      <td>9317</td>\n",
       "      <td>8495</td>\n",
       "    </tr>\n",
       "    <tr>\n",
       "      <th>25</th>\n",
       "      <td>지능범죄</td>\n",
       "      <td>배임</td>\n",
       "      <td>3</td>\n",
       "      <td>4</td>\n",
       "      <td>21</td>\n",
       "      <td>1123</td>\n",
       "      <td>277</td>\n",
       "      <td>68</td>\n",
       "      <td>39</td>\n",
       "      <td>8</td>\n",
       "      <td>3023</td>\n",
       "      <td>248</td>\n",
       "      <td>859</td>\n",
       "      <td>730</td>\n",
       "      <td>787</td>\n",
       "      <td>735</td>\n",
       "      <td>905</td>\n",
       "      <td>302</td>\n",
       "    </tr>\n",
       "    <tr>\n",
       "      <th>26</th>\n",
       "      <td>풍속범죄</td>\n",
       "      <td>성풍속범죄</td>\n",
       "      <td>736</td>\n",
       "      <td>597</td>\n",
       "      <td>773</td>\n",
       "      <td>1126</td>\n",
       "      <td>1225</td>\n",
       "      <td>1724</td>\n",
       "      <td>1675</td>\n",
       "      <td>1931</td>\n",
       "      <td>3358</td>\n",
       "      <td>1614</td>\n",
       "      <td>1957</td>\n",
       "      <td>1956</td>\n",
       "      <td>2066</td>\n",
       "      <td>1900</td>\n",
       "      <td>1982</td>\n",
       "      <td>1670</td>\n",
       "    </tr>\n",
       "    <tr>\n",
       "      <th>27</th>\n",
       "      <td>풍속범죄</td>\n",
       "      <td>도박범죄</td>\n",
       "      <td>184</td>\n",
       "      <td>112</td>\n",
       "      <td>114</td>\n",
       "      <td>456</td>\n",
       "      <td>488</td>\n",
       "      <td>853</td>\n",
       "      <td>868</td>\n",
       "      <td>819</td>\n",
       "      <td>4114</td>\n",
       "      <td>915</td>\n",
       "      <td>1106</td>\n",
       "      <td>1174</td>\n",
       "      <td>1237</td>\n",
       "      <td>1304</td>\n",
       "      <td>1291</td>\n",
       "      <td>981</td>\n",
       "    </tr>\n",
       "    <tr>\n",
       "      <th>28</th>\n",
       "      <td>특별경제범죄</td>\n",
       "      <td>특별경제범죄</td>\n",
       "      <td>1688</td>\n",
       "      <td>1426</td>\n",
       "      <td>1333</td>\n",
       "      <td>6702</td>\n",
       "      <td>5340</td>\n",
       "      <td>4802</td>\n",
       "      <td>3768</td>\n",
       "      <td>4320</td>\n",
       "      <td>22021</td>\n",
       "      <td>3948</td>\n",
       "      <td>8724</td>\n",
       "      <td>8608</td>\n",
       "      <td>8477</td>\n",
       "      <td>8432</td>\n",
       "      <td>8502</td>\n",
       "      <td>4709</td>\n",
       "    </tr>\n",
       "    <tr>\n",
       "      <th>29</th>\n",
       "      <td>마약범죄</td>\n",
       "      <td>마약범죄</td>\n",
       "      <td>244</td>\n",
       "      <td>214</td>\n",
       "      <td>151</td>\n",
       "      <td>635</td>\n",
       "      <td>773</td>\n",
       "      <td>890</td>\n",
       "      <td>776</td>\n",
       "      <td>674</td>\n",
       "      <td>3681</td>\n",
       "      <td>789</td>\n",
       "      <td>1278</td>\n",
       "      <td>1352</td>\n",
       "      <td>1219</td>\n",
       "      <td>1195</td>\n",
       "      <td>1272</td>\n",
       "      <td>933</td>\n",
       "    </tr>\n",
       "    <tr>\n",
       "      <th>30</th>\n",
       "      <td>보건범죄</td>\n",
       "      <td>보건범죄</td>\n",
       "      <td>596</td>\n",
       "      <td>404</td>\n",
       "      <td>140</td>\n",
       "      <td>880</td>\n",
       "      <td>694</td>\n",
       "      <td>1009</td>\n",
       "      <td>893</td>\n",
       "      <td>1747</td>\n",
       "      <td>6207</td>\n",
       "      <td>934</td>\n",
       "      <td>2051</td>\n",
       "      <td>2096</td>\n",
       "      <td>1962</td>\n",
       "      <td>2043</td>\n",
       "      <td>2085</td>\n",
       "      <td>1399</td>\n",
       "    </tr>\n",
       "    <tr>\n",
       "      <th>31</th>\n",
       "      <td>환경범죄</td>\n",
       "      <td>환경범죄</td>\n",
       "      <td>42</td>\n",
       "      <td>53</td>\n",
       "      <td>117</td>\n",
       "      <td>458</td>\n",
       "      <td>290</td>\n",
       "      <td>190</td>\n",
       "      <td>90</td>\n",
       "      <td>126</td>\n",
       "      <td>2511</td>\n",
       "      <td>168</td>\n",
       "      <td>749</td>\n",
       "      <td>696</td>\n",
       "      <td>652</td>\n",
       "      <td>653</td>\n",
       "      <td>696</td>\n",
       "      <td>263</td>\n",
       "    </tr>\n",
       "    <tr>\n",
       "      <th>32</th>\n",
       "      <td>교통범죄</td>\n",
       "      <td>교통범죄</td>\n",
       "      <td>24513</td>\n",
       "      <td>23438</td>\n",
       "      <td>37189</td>\n",
       "      <td>44265</td>\n",
       "      <td>45675</td>\n",
       "      <td>53506</td>\n",
       "      <td>58164</td>\n",
       "      <td>70537</td>\n",
       "      <td>20067</td>\n",
       "      <td>47698</td>\n",
       "      <td>51459</td>\n",
       "      <td>53605</td>\n",
       "      <td>54509</td>\n",
       "      <td>54846</td>\n",
       "      <td>58103</td>\n",
       "      <td>57134</td>\n",
       "    </tr>\n",
       "    <tr>\n",
       "      <th>33</th>\n",
       "      <td>노동범죄</td>\n",
       "      <td>노동범죄</td>\n",
       "      <td>20</td>\n",
       "      <td>41</td>\n",
       "      <td>80</td>\n",
       "      <td>124</td>\n",
       "      <td>125</td>\n",
       "      <td>117</td>\n",
       "      <td>53</td>\n",
       "      <td>78</td>\n",
       "      <td>337</td>\n",
       "      <td>85</td>\n",
       "      <td>162</td>\n",
       "      <td>139</td>\n",
       "      <td>168</td>\n",
       "      <td>175</td>\n",
       "      <td>143</td>\n",
       "      <td>103</td>\n",
       "    </tr>\n",
       "    <tr>\n",
       "      <th>34</th>\n",
       "      <td>안보범죄</td>\n",
       "      <td>안보범죄</td>\n",
       "      <td>2</td>\n",
       "      <td>0</td>\n",
       "      <td>0</td>\n",
       "      <td>10</td>\n",
       "      <td>18</td>\n",
       "      <td>10</td>\n",
       "      <td>3</td>\n",
       "      <td>6</td>\n",
       "      <td>120</td>\n",
       "      <td>36</td>\n",
       "      <td>25</td>\n",
       "      <td>13</td>\n",
       "      <td>22</td>\n",
       "      <td>25</td>\n",
       "      <td>24</td>\n",
       "      <td>24</td>\n",
       "    </tr>\n",
       "    <tr>\n",
       "      <th>35</th>\n",
       "      <td>선거범죄</td>\n",
       "      <td>선거범죄</td>\n",
       "      <td>0</td>\n",
       "      <td>1</td>\n",
       "      <td>22</td>\n",
       "      <td>121</td>\n",
       "      <td>53</td>\n",
       "      <td>34</td>\n",
       "      <td>38</td>\n",
       "      <td>3</td>\n",
       "      <td>339</td>\n",
       "      <td>65</td>\n",
       "      <td>90</td>\n",
       "      <td>91</td>\n",
       "      <td>100</td>\n",
       "      <td>113</td>\n",
       "      <td>95</td>\n",
       "      <td>57</td>\n",
       "    </tr>\n",
       "    <tr>\n",
       "      <th>36</th>\n",
       "      <td>병역범죄</td>\n",
       "      <td>병역범죄</td>\n",
       "      <td>3</td>\n",
       "      <td>1</td>\n",
       "      <td>20</td>\n",
       "      <td>1440</td>\n",
       "      <td>285</td>\n",
       "      <td>55</td>\n",
       "      <td>58</td>\n",
       "      <td>19</td>\n",
       "      <td>10831</td>\n",
       "      <td>111</td>\n",
       "      <td>3068</td>\n",
       "      <td>3580</td>\n",
       "      <td>1940</td>\n",
       "      <td>2082</td>\n",
       "      <td>1834</td>\n",
       "      <td>97</td>\n",
       "    </tr>\n",
       "    <tr>\n",
       "      <th>37</th>\n",
       "      <td>기타범죄</td>\n",
       "      <td>기타범죄</td>\n",
       "      <td>10376</td>\n",
       "      <td>9184</td>\n",
       "      <td>9935</td>\n",
       "      <td>31337</td>\n",
       "      <td>22841</td>\n",
       "      <td>20037</td>\n",
       "      <td>18200</td>\n",
       "      <td>22421</td>\n",
       "      <td>95837</td>\n",
       "      <td>25278</td>\n",
       "      <td>39244</td>\n",
       "      <td>37277</td>\n",
       "      <td>36996</td>\n",
       "      <td>37250</td>\n",
       "      <td>37367</td>\n",
       "      <td>26756</td>\n",
       "    </tr>\n",
       "  </tbody>\n",
       "</table>\n",
       "</div>"
      ],
      "text/plain": [
       "     범죄대분류        범죄중분류  0시00분-02시59분  03시00분-05시59분  06시00분-08시59분  \\\n",
       "0     강력범죄         살인기수            15             21             20   \n",
       "1     강력범죄        살인미수등            33             50             29   \n",
       "2     강력범죄           강도           105            131             44   \n",
       "3     강력범죄           강간           630            885            417   \n",
       "4     강력범죄         유사강간           102            110             57   \n",
       "5     강력범죄         강제추행          1855           1921           1293   \n",
       "6     강력범죄  기타 강간 강제추행등            36             47             12   \n",
       "7     강력범죄           방화           144            151            105   \n",
       "8     절도범죄           절도         13088          14167          13094   \n",
       "9     폭력범죄           상해          4166           3408           2247   \n",
       "10    폭력범죄           폭행         19226          16377           9345   \n",
       "11    폭력범죄        체포 감금            96            106             76   \n",
       "12    폭력범죄           협박          1316           1036           1339   \n",
       "13    폭력범죄        약취 유인            10             12             17   \n",
       "14    폭력범죄        폭력행위등          1234           1263            460   \n",
       "15    폭력범죄           공갈           135            122             74   \n",
       "16    폭력범죄           손괴          5107           4556           4014   \n",
       "17    지능범죄         직무유기             2              3              8   \n",
       "18    지능범죄         직권남용             8             11             12   \n",
       "19    지능범죄          증수뢰             0              0              2   \n",
       "20    지능범죄           통화             9              9             27   \n",
       "21    지능범죄        문서 인장           174            134             63   \n",
       "22    지능범죄       유가증권인지             0              1              2   \n",
       "23    지능범죄           사기          5443           3949           3056   \n",
       "24    지능범죄           횡령          2754           2526           2780   \n",
       "25    지능범죄           배임             3              4             21   \n",
       "26    풍속범죄        성풍속범죄           736            597            773   \n",
       "27    풍속범죄         도박범죄           184            112            114   \n",
       "28  특별경제범죄       특별경제범죄          1688           1426           1333   \n",
       "29    마약범죄         마약범죄           244            214            151   \n",
       "30    보건범죄         보건범죄           596            404            140   \n",
       "31    환경범죄         환경범죄            42             53            117   \n",
       "32    교통범죄         교통범죄         24513          23438          37189   \n",
       "33    노동범죄         노동범죄            20             41             80   \n",
       "34    안보범죄         안보범죄             2              0              0   \n",
       "35    선거범죄         선거범죄             0              1             22   \n",
       "36    병역범죄         병역범죄             3              1             20   \n",
       "37    기타범죄         기타범죄         10376           9184           9935   \n",
       "\n",
       "    09시00분-11시59분  12시00분-14시59분  15시00분-17시59분  18시00분-20시59분  21시00분-23시59분  \\\n",
       "0              28             38             33             43             49   \n",
       "1              44             46             60             66             82   \n",
       "2              59             68             72             81            107   \n",
       "3             293            325            311            425            719   \n",
       "4              62             60             55             66             89   \n",
       "5            1163           1300           1706           2189           2901   \n",
       "6              26             20             37             30             40   \n",
       "7             124            109            173            189            228   \n",
       "8           21501          27167          28553          27229          20568   \n",
       "9            2967           3025           3684           4585           7433   \n",
       "10          11591          12509          14791          20704          34120   \n",
       "11            122            147            146            135            185   \n",
       "12           2288           2251           2687           3304           3437   \n",
       "13             29             41             48             32             13   \n",
       "14            450            508            704            936           1427   \n",
       "15            388            455            590            599            507   \n",
       "16           5277           4983           6289           9323          10822   \n",
       "17            123             33             21              9              5   \n",
       "18            135             48             40             26             15   \n",
       "19             25             11              6              8              4   \n",
       "20            183            115             95             41             22   \n",
       "21           1688            747            464            275            290   \n",
       "22             27              9             15              7              2   \n",
       "23          39184          30405          21648          13930          12387   \n",
       "24           6781           6586           6584           6646           6367   \n",
       "25           1123            277             68             39              8   \n",
       "26           1126           1225           1724           1675           1931   \n",
       "27            456            488            853            868            819   \n",
       "28           6702           5340           4802           3768           4320   \n",
       "29            635            773            890            776            674   \n",
       "30            880            694           1009            893           1747   \n",
       "31            458            290            190             90            126   \n",
       "32          44265          45675          53506          58164          70537   \n",
       "33            124            125            117             53             78   \n",
       "34             10             18             10              3              6   \n",
       "35            121             53             34             38              3   \n",
       "36           1440            285             55             58             19   \n",
       "37          31337          22841          20037          18200          22421   \n",
       "\n",
       "        미상      일      월      화      수      목      금      토  \n",
       "0       50     38     45     48     40     37     49     40  \n",
       "1       72     71     70     68     62     73     85     53  \n",
       "2      131    111    113    116    105    124    121    108  \n",
       "3     1305    869    686    734    719    682    722    898  \n",
       "4      181    145     99    109     92     89    112    136  \n",
       "5     2792   2580   2272   2306   2358   2231   2542   2831  \n",
       "6       77     58     53     45     49     39     43     38  \n",
       "7      139    209    181    181    209    170    206    206  \n",
       "8    21590  25466  26239  25671  26061  26098  28156  29266  \n",
       "9     5343   5693   4908   5063   5038   5110   5270   5776  \n",
       "10   18534  25865  19966  20766  20981  21080  22045  26494  \n",
       "11     230    180    189    170    171    169    196    168  \n",
       "12    3364   2886   3013   3039   3072   2961   3040   3011  \n",
       "13      48     27     40     41     34     32     40     36  \n",
       "14    1368   1544   1126   1100   1086   1001   1063   1430  \n",
       "15    1977    483    818    740    757    744    756    549  \n",
       "16    7775   8617   7974   7634   7766   7989   8788   9378  \n",
       "17     386     24    108    123    106     99    102     28  \n",
       "18     379     44    126    118     97    107    136     46  \n",
       "19     204     13     46     42     52     42     45     20  \n",
       "20     479     35    186    169    187    177    178     48  \n",
       "21    7508    620   2130   1971   1840   2032   1978    772  \n",
       "22      77      8     22     16     30     21     24     19  \n",
       "23  174470  20814  52740  51876  51225  51654  52039  24124  \n",
       "24   17484   7231   8559   8128   8318   8460   9317   8495  \n",
       "25    3023    248    859    730    787    735    905    302  \n",
       "26    3358   1614   1957   1956   2066   1900   1982   1670  \n",
       "27    4114    915   1106   1174   1237   1304   1291    981  \n",
       "28   22021   3948   8724   8608   8477   8432   8502   4709  \n",
       "29    3681    789   1278   1352   1219   1195   1272    933  \n",
       "30    6207    934   2051   2096   1962   2043   2085   1399  \n",
       "31    2511    168    749    696    652    653    696    263  \n",
       "32   20067  47698  51459  53605  54509  54846  58103  57134  \n",
       "33     337     85    162    139    168    175    143    103  \n",
       "34     120     36     25     13     22     25     24     24  \n",
       "35     339     65     90     91    100    113     95     57  \n",
       "36   10831    111   3068   3580   1940   2082   1834     97  \n",
       "37   95837  25278  39244  37277  36996  37250  37367  26756  "
      ]
     },
     "execution_count": 110,
     "metadata": {},
     "output_type": "execute_result"
    }
   ],
   "source": [
    "ZZ # 시계열 |+| 일, 월,화, 수, 목, 금,토 | 합친 데이터 나눈 그래프 | 미상 지우기 "
   ]
  },
  {
   "cell_type": "code",
   "execution_count": null,
   "metadata": {},
   "outputs": [],
   "source": []
  },
  {
   "cell_type": "code",
   "execution_count": null,
   "metadata": {},
   "outputs": [],
   "source": []
  },
  {
   "cell_type": "code",
   "execution_count": null,
   "metadata": {},
   "outputs": [],
   "source": []
  },
  {
   "cell_type": "code",
   "execution_count": null,
   "metadata": {},
   "outputs": [],
   "source": []
  },
  {
   "cell_type": "code",
   "execution_count": 104,
   "metadata": {},
   "outputs": [
    {
     "name": "stdout",
     "output_type": "stream",
     "text": [
      "Requirement already satisfied: IPyWidgets in /Users/jinhojeon/.pyenv/versions/3.11-dev/lib/python3.11/site-packages (8.1.1)\n",
      "Requirement already satisfied: comm>=0.1.3 in /Users/jinhojeon/.pyenv/versions/3.11-dev/lib/python3.11/site-packages (from IPyWidgets) (0.1.4)\n",
      "Requirement already satisfied: ipython>=6.1.0 in /Users/jinhojeon/.pyenv/versions/3.11-dev/lib/python3.11/site-packages (from IPyWidgets) (8.16.1)\n",
      "Requirement already satisfied: traitlets>=4.3.1 in /Users/jinhojeon/.pyenv/versions/3.11-dev/lib/python3.11/site-packages (from IPyWidgets) (5.11.2)\n",
      "Requirement already satisfied: widgetsnbextension~=4.0.9 in /Users/jinhojeon/.pyenv/versions/3.11-dev/lib/python3.11/site-packages (from IPyWidgets) (4.0.9)\n",
      "Requirement already satisfied: jupyterlab-widgets~=3.0.9 in /Users/jinhojeon/.pyenv/versions/3.11-dev/lib/python3.11/site-packages (from IPyWidgets) (3.0.9)\n",
      "Requirement already satisfied: backcall in /Users/jinhojeon/.pyenv/versions/3.11-dev/lib/python3.11/site-packages (from ipython>=6.1.0->IPyWidgets) (0.2.0)\n",
      "Requirement already satisfied: decorator in /Users/jinhojeon/.pyenv/versions/3.11-dev/lib/python3.11/site-packages (from ipython>=6.1.0->IPyWidgets) (5.1.1)\n",
      "Requirement already satisfied: jedi>=0.16 in /Users/jinhojeon/.pyenv/versions/3.11-dev/lib/python3.11/site-packages (from ipython>=6.1.0->IPyWidgets) (0.19.1)\n",
      "Requirement already satisfied: matplotlib-inline in /Users/jinhojeon/.pyenv/versions/3.11-dev/lib/python3.11/site-packages (from ipython>=6.1.0->IPyWidgets) (0.1.6)\n",
      "Requirement already satisfied: pickleshare in /Users/jinhojeon/.pyenv/versions/3.11-dev/lib/python3.11/site-packages (from ipython>=6.1.0->IPyWidgets) (0.7.5)\n",
      "Requirement already satisfied: prompt-toolkit!=3.0.37,<3.1.0,>=3.0.30 in /Users/jinhojeon/.pyenv/versions/3.11-dev/lib/python3.11/site-packages (from ipython>=6.1.0->IPyWidgets) (3.0.39)\n",
      "Requirement already satisfied: pygments>=2.4.0 in /Users/jinhojeon/.pyenv/versions/3.11-dev/lib/python3.11/site-packages (from ipython>=6.1.0->IPyWidgets) (2.14.0)\n",
      "Requirement already satisfied: stack-data in /Users/jinhojeon/.pyenv/versions/3.11-dev/lib/python3.11/site-packages (from ipython>=6.1.0->IPyWidgets) (0.6.3)\n",
      "Requirement already satisfied: pexpect>4.3 in /Users/jinhojeon/.pyenv/versions/3.11-dev/lib/python3.11/site-packages (from ipython>=6.1.0->IPyWidgets) (4.8.0)\n",
      "Requirement already satisfied: appnope in /Users/jinhojeon/.pyenv/versions/3.11-dev/lib/python3.11/site-packages (from ipython>=6.1.0->IPyWidgets) (0.1.3)\n",
      "Requirement already satisfied: parso<0.9.0,>=0.8.3 in /Users/jinhojeon/.pyenv/versions/3.11-dev/lib/python3.11/site-packages (from jedi>=0.16->ipython>=6.1.0->IPyWidgets) (0.8.3)\n",
      "Requirement already satisfied: ptyprocess>=0.5 in /Users/jinhojeon/.pyenv/versions/3.11-dev/lib/python3.11/site-packages (from pexpect>4.3->ipython>=6.1.0->IPyWidgets) (0.7.0)\n",
      "Requirement already satisfied: wcwidth in /Users/jinhojeon/.pyenv/versions/3.11-dev/lib/python3.11/site-packages (from prompt-toolkit!=3.0.37,<3.1.0,>=3.0.30->ipython>=6.1.0->IPyWidgets) (0.2.8)\n",
      "Requirement already satisfied: executing>=1.2.0 in /Users/jinhojeon/.pyenv/versions/3.11-dev/lib/python3.11/site-packages (from stack-data->ipython>=6.1.0->IPyWidgets) (2.0.0)\n",
      "Requirement already satisfied: asttokens>=2.1.0 in /Users/jinhojeon/.pyenv/versions/3.11-dev/lib/python3.11/site-packages (from stack-data->ipython>=6.1.0->IPyWidgets) (2.4.0)\n",
      "Requirement already satisfied: pure-eval in /Users/jinhojeon/.pyenv/versions/3.11-dev/lib/python3.11/site-packages (from stack-data->ipython>=6.1.0->IPyWidgets) (0.2.2)\n",
      "Requirement already satisfied: six>=1.12.0 in /Users/jinhojeon/.pyenv/versions/3.11-dev/lib/python3.11/site-packages (from asttokens>=2.1.0->stack-data->ipython>=6.1.0->IPyWidgets) (1.16.0)\n"
     ]
    }
   ],
   "source": [
    "!pip install IPyWidgets"
   ]
  },
  {
   "cell_type": "code",
   "execution_count": null,
   "metadata": {},
   "outputs": [],
   "source": []
  },
  {
   "cell_type": "code",
   "execution_count": 116,
   "metadata": {},
   "outputs": [],
   "source": [
    "keys = ZZ.keys()"
   ]
  },
  {
   "cell_type": "code",
   "execution_count": 117,
   "metadata": {},
   "outputs": [
    {
     "data": {
      "text/plain": [
       "Index(['범죄대분류', '범죄중분류', '0시00분-02시59분', '03시00분-05시59분', '06시00분-08시59분',\n",
       "       '09시00분-11시59분', '12시00분-14시59분', '15시00분-17시59분', '18시00분-20시59분',\n",
       "       '21시00분-23시59분', '미상', '일', '월', '화', '수', '목', '금', '토'],\n",
       "      dtype='object')"
      ]
     },
     "execution_count": 117,
     "metadata": {},
     "output_type": "execute_result"
    }
   ],
   "source": [
    "keys"
   ]
  },
  {
   "cell_type": "code",
   "execution_count": null,
   "metadata": {},
   "outputs": [],
   "source": [
    "# 21시00분-23시59분 -> 23:00-23:59"
   ]
  },
  {
   "cell_type": "code",
   "execution_count": 121,
   "metadata": {},
   "outputs": [],
   "source": [
    "first = 2\n",
    "last = keys.get_loc('미상')"
   ]
  },
  {
   "cell_type": "code",
   "execution_count": 122,
   "metadata": {},
   "outputs": [
    {
     "name": "stdout",
     "output_type": "stream",
     "text": [
      "0시00분-02시59분\n",
      "03시00분-05시59분\n",
      "06시00분-08시59분\n",
      "09시00분-11시59분\n",
      "12시00분-14시59분\n",
      "15시00분-17시59분\n",
      "18시00분-20시59분\n",
      "21시00분-23시59분\n"
     ]
    }
   ],
   "source": [
    "for idx in range(first, last):\n",
    "    print(keys[idx])"
   ]
  },
  {
   "cell_type": "code",
   "execution_count": null,
   "metadata": {},
   "outputs": [],
   "source": [
    "# 두부분으로 나누기 요일 시간 "
   ]
  },
  {
   "cell_type": "code",
   "execution_count": 201,
   "metadata": {},
   "outputs": [],
   "source": [
    "ZZ_hours = ZZ.iloc[:,[0,1]+list(range(2,10))]\n",
    "ZZ_days = ZZ.iloc[:,[0,1]+list(range(11,18))]"
   ]
  },
  {
   "cell_type": "code",
   "execution_count": null,
   "metadata": {},
   "outputs": [],
   "source": []
  },
  {
   "cell_type": "code",
   "execution_count": 202,
   "metadata": {},
   "outputs": [
    {
     "data": {
      "text/html": [
       "<div>\n",
       "<style scoped>\n",
       "    .dataframe tbody tr th:only-of-type {\n",
       "        vertical-align: middle;\n",
       "    }\n",
       "\n",
       "    .dataframe tbody tr th {\n",
       "        vertical-align: top;\n",
       "    }\n",
       "\n",
       "    .dataframe thead th {\n",
       "        text-align: right;\n",
       "    }\n",
       "</style>\n",
       "<table border=\"1\" class=\"dataframe\">\n",
       "  <thead>\n",
       "    <tr style=\"text-align: right;\">\n",
       "      <th></th>\n",
       "      <th>범죄대분류</th>\n",
       "      <th>범죄중분류</th>\n",
       "      <th>일</th>\n",
       "      <th>월</th>\n",
       "      <th>화</th>\n",
       "      <th>수</th>\n",
       "      <th>목</th>\n",
       "      <th>금</th>\n",
       "      <th>토</th>\n",
       "    </tr>\n",
       "  </thead>\n",
       "  <tbody>\n",
       "    <tr>\n",
       "      <th>0</th>\n",
       "      <td>강력범죄</td>\n",
       "      <td>살인기수</td>\n",
       "      <td>38</td>\n",
       "      <td>45</td>\n",
       "      <td>48</td>\n",
       "      <td>40</td>\n",
       "      <td>37</td>\n",
       "      <td>49</td>\n",
       "      <td>40</td>\n",
       "    </tr>\n",
       "    <tr>\n",
       "      <th>1</th>\n",
       "      <td>강력범죄</td>\n",
       "      <td>살인미수등</td>\n",
       "      <td>71</td>\n",
       "      <td>70</td>\n",
       "      <td>68</td>\n",
       "      <td>62</td>\n",
       "      <td>73</td>\n",
       "      <td>85</td>\n",
       "      <td>53</td>\n",
       "    </tr>\n",
       "    <tr>\n",
       "      <th>2</th>\n",
       "      <td>강력범죄</td>\n",
       "      <td>강도</td>\n",
       "      <td>111</td>\n",
       "      <td>113</td>\n",
       "      <td>116</td>\n",
       "      <td>105</td>\n",
       "      <td>124</td>\n",
       "      <td>121</td>\n",
       "      <td>108</td>\n",
       "    </tr>\n",
       "    <tr>\n",
       "      <th>3</th>\n",
       "      <td>강력범죄</td>\n",
       "      <td>강간</td>\n",
       "      <td>869</td>\n",
       "      <td>686</td>\n",
       "      <td>734</td>\n",
       "      <td>719</td>\n",
       "      <td>682</td>\n",
       "      <td>722</td>\n",
       "      <td>898</td>\n",
       "    </tr>\n",
       "    <tr>\n",
       "      <th>4</th>\n",
       "      <td>강력범죄</td>\n",
       "      <td>유사강간</td>\n",
       "      <td>145</td>\n",
       "      <td>99</td>\n",
       "      <td>109</td>\n",
       "      <td>92</td>\n",
       "      <td>89</td>\n",
       "      <td>112</td>\n",
       "      <td>136</td>\n",
       "    </tr>\n",
       "    <tr>\n",
       "      <th>5</th>\n",
       "      <td>강력범죄</td>\n",
       "      <td>강제추행</td>\n",
       "      <td>2580</td>\n",
       "      <td>2272</td>\n",
       "      <td>2306</td>\n",
       "      <td>2358</td>\n",
       "      <td>2231</td>\n",
       "      <td>2542</td>\n",
       "      <td>2831</td>\n",
       "    </tr>\n",
       "    <tr>\n",
       "      <th>6</th>\n",
       "      <td>강력범죄</td>\n",
       "      <td>기타 강간 강제추행등</td>\n",
       "      <td>58</td>\n",
       "      <td>53</td>\n",
       "      <td>45</td>\n",
       "      <td>49</td>\n",
       "      <td>39</td>\n",
       "      <td>43</td>\n",
       "      <td>38</td>\n",
       "    </tr>\n",
       "    <tr>\n",
       "      <th>7</th>\n",
       "      <td>강력범죄</td>\n",
       "      <td>방화</td>\n",
       "      <td>209</td>\n",
       "      <td>181</td>\n",
       "      <td>181</td>\n",
       "      <td>209</td>\n",
       "      <td>170</td>\n",
       "      <td>206</td>\n",
       "      <td>206</td>\n",
       "    </tr>\n",
       "    <tr>\n",
       "      <th>8</th>\n",
       "      <td>절도범죄</td>\n",
       "      <td>절도</td>\n",
       "      <td>25466</td>\n",
       "      <td>26239</td>\n",
       "      <td>25671</td>\n",
       "      <td>26061</td>\n",
       "      <td>26098</td>\n",
       "      <td>28156</td>\n",
       "      <td>29266</td>\n",
       "    </tr>\n",
       "    <tr>\n",
       "      <th>9</th>\n",
       "      <td>폭력범죄</td>\n",
       "      <td>상해</td>\n",
       "      <td>5693</td>\n",
       "      <td>4908</td>\n",
       "      <td>5063</td>\n",
       "      <td>5038</td>\n",
       "      <td>5110</td>\n",
       "      <td>5270</td>\n",
       "      <td>5776</td>\n",
       "    </tr>\n",
       "    <tr>\n",
       "      <th>10</th>\n",
       "      <td>폭력범죄</td>\n",
       "      <td>폭행</td>\n",
       "      <td>25865</td>\n",
       "      <td>19966</td>\n",
       "      <td>20766</td>\n",
       "      <td>20981</td>\n",
       "      <td>21080</td>\n",
       "      <td>22045</td>\n",
       "      <td>26494</td>\n",
       "    </tr>\n",
       "    <tr>\n",
       "      <th>11</th>\n",
       "      <td>폭력범죄</td>\n",
       "      <td>체포 감금</td>\n",
       "      <td>180</td>\n",
       "      <td>189</td>\n",
       "      <td>170</td>\n",
       "      <td>171</td>\n",
       "      <td>169</td>\n",
       "      <td>196</td>\n",
       "      <td>168</td>\n",
       "    </tr>\n",
       "    <tr>\n",
       "      <th>12</th>\n",
       "      <td>폭력범죄</td>\n",
       "      <td>협박</td>\n",
       "      <td>2886</td>\n",
       "      <td>3013</td>\n",
       "      <td>3039</td>\n",
       "      <td>3072</td>\n",
       "      <td>2961</td>\n",
       "      <td>3040</td>\n",
       "      <td>3011</td>\n",
       "    </tr>\n",
       "    <tr>\n",
       "      <th>13</th>\n",
       "      <td>폭력범죄</td>\n",
       "      <td>약취 유인</td>\n",
       "      <td>27</td>\n",
       "      <td>40</td>\n",
       "      <td>41</td>\n",
       "      <td>34</td>\n",
       "      <td>32</td>\n",
       "      <td>40</td>\n",
       "      <td>36</td>\n",
       "    </tr>\n",
       "    <tr>\n",
       "      <th>14</th>\n",
       "      <td>폭력범죄</td>\n",
       "      <td>폭력행위등</td>\n",
       "      <td>1544</td>\n",
       "      <td>1126</td>\n",
       "      <td>1100</td>\n",
       "      <td>1086</td>\n",
       "      <td>1001</td>\n",
       "      <td>1063</td>\n",
       "      <td>1430</td>\n",
       "    </tr>\n",
       "    <tr>\n",
       "      <th>15</th>\n",
       "      <td>폭력범죄</td>\n",
       "      <td>공갈</td>\n",
       "      <td>483</td>\n",
       "      <td>818</td>\n",
       "      <td>740</td>\n",
       "      <td>757</td>\n",
       "      <td>744</td>\n",
       "      <td>756</td>\n",
       "      <td>549</td>\n",
       "    </tr>\n",
       "    <tr>\n",
       "      <th>16</th>\n",
       "      <td>폭력범죄</td>\n",
       "      <td>손괴</td>\n",
       "      <td>8617</td>\n",
       "      <td>7974</td>\n",
       "      <td>7634</td>\n",
       "      <td>7766</td>\n",
       "      <td>7989</td>\n",
       "      <td>8788</td>\n",
       "      <td>9378</td>\n",
       "    </tr>\n",
       "    <tr>\n",
       "      <th>17</th>\n",
       "      <td>지능범죄</td>\n",
       "      <td>직무유기</td>\n",
       "      <td>24</td>\n",
       "      <td>108</td>\n",
       "      <td>123</td>\n",
       "      <td>106</td>\n",
       "      <td>99</td>\n",
       "      <td>102</td>\n",
       "      <td>28</td>\n",
       "    </tr>\n",
       "    <tr>\n",
       "      <th>18</th>\n",
       "      <td>지능범죄</td>\n",
       "      <td>직권남용</td>\n",
       "      <td>44</td>\n",
       "      <td>126</td>\n",
       "      <td>118</td>\n",
       "      <td>97</td>\n",
       "      <td>107</td>\n",
       "      <td>136</td>\n",
       "      <td>46</td>\n",
       "    </tr>\n",
       "    <tr>\n",
       "      <th>19</th>\n",
       "      <td>지능범죄</td>\n",
       "      <td>증수뢰</td>\n",
       "      <td>13</td>\n",
       "      <td>46</td>\n",
       "      <td>42</td>\n",
       "      <td>52</td>\n",
       "      <td>42</td>\n",
       "      <td>45</td>\n",
       "      <td>20</td>\n",
       "    </tr>\n",
       "    <tr>\n",
       "      <th>20</th>\n",
       "      <td>지능범죄</td>\n",
       "      <td>통화</td>\n",
       "      <td>35</td>\n",
       "      <td>186</td>\n",
       "      <td>169</td>\n",
       "      <td>187</td>\n",
       "      <td>177</td>\n",
       "      <td>178</td>\n",
       "      <td>48</td>\n",
       "    </tr>\n",
       "    <tr>\n",
       "      <th>21</th>\n",
       "      <td>지능범죄</td>\n",
       "      <td>문서 인장</td>\n",
       "      <td>620</td>\n",
       "      <td>2130</td>\n",
       "      <td>1971</td>\n",
       "      <td>1840</td>\n",
       "      <td>2032</td>\n",
       "      <td>1978</td>\n",
       "      <td>772</td>\n",
       "    </tr>\n",
       "    <tr>\n",
       "      <th>22</th>\n",
       "      <td>지능범죄</td>\n",
       "      <td>유가증권인지</td>\n",
       "      <td>8</td>\n",
       "      <td>22</td>\n",
       "      <td>16</td>\n",
       "      <td>30</td>\n",
       "      <td>21</td>\n",
       "      <td>24</td>\n",
       "      <td>19</td>\n",
       "    </tr>\n",
       "    <tr>\n",
       "      <th>23</th>\n",
       "      <td>지능범죄</td>\n",
       "      <td>사기</td>\n",
       "      <td>20814</td>\n",
       "      <td>52740</td>\n",
       "      <td>51876</td>\n",
       "      <td>51225</td>\n",
       "      <td>51654</td>\n",
       "      <td>52039</td>\n",
       "      <td>24124</td>\n",
       "    </tr>\n",
       "    <tr>\n",
       "      <th>24</th>\n",
       "      <td>지능범죄</td>\n",
       "      <td>횡령</td>\n",
       "      <td>7231</td>\n",
       "      <td>8559</td>\n",
       "      <td>8128</td>\n",
       "      <td>8318</td>\n",
       "      <td>8460</td>\n",
       "      <td>9317</td>\n",
       "      <td>8495</td>\n",
       "    </tr>\n",
       "    <tr>\n",
       "      <th>25</th>\n",
       "      <td>지능범죄</td>\n",
       "      <td>배임</td>\n",
       "      <td>248</td>\n",
       "      <td>859</td>\n",
       "      <td>730</td>\n",
       "      <td>787</td>\n",
       "      <td>735</td>\n",
       "      <td>905</td>\n",
       "      <td>302</td>\n",
       "    </tr>\n",
       "    <tr>\n",
       "      <th>26</th>\n",
       "      <td>풍속범죄</td>\n",
       "      <td>성풍속범죄</td>\n",
       "      <td>1614</td>\n",
       "      <td>1957</td>\n",
       "      <td>1956</td>\n",
       "      <td>2066</td>\n",
       "      <td>1900</td>\n",
       "      <td>1982</td>\n",
       "      <td>1670</td>\n",
       "    </tr>\n",
       "    <tr>\n",
       "      <th>27</th>\n",
       "      <td>풍속범죄</td>\n",
       "      <td>도박범죄</td>\n",
       "      <td>915</td>\n",
       "      <td>1106</td>\n",
       "      <td>1174</td>\n",
       "      <td>1237</td>\n",
       "      <td>1304</td>\n",
       "      <td>1291</td>\n",
       "      <td>981</td>\n",
       "    </tr>\n",
       "    <tr>\n",
       "      <th>28</th>\n",
       "      <td>특별경제범죄</td>\n",
       "      <td>특별경제범죄</td>\n",
       "      <td>3948</td>\n",
       "      <td>8724</td>\n",
       "      <td>8608</td>\n",
       "      <td>8477</td>\n",
       "      <td>8432</td>\n",
       "      <td>8502</td>\n",
       "      <td>4709</td>\n",
       "    </tr>\n",
       "    <tr>\n",
       "      <th>29</th>\n",
       "      <td>마약범죄</td>\n",
       "      <td>마약범죄</td>\n",
       "      <td>789</td>\n",
       "      <td>1278</td>\n",
       "      <td>1352</td>\n",
       "      <td>1219</td>\n",
       "      <td>1195</td>\n",
       "      <td>1272</td>\n",
       "      <td>933</td>\n",
       "    </tr>\n",
       "    <tr>\n",
       "      <th>30</th>\n",
       "      <td>보건범죄</td>\n",
       "      <td>보건범죄</td>\n",
       "      <td>934</td>\n",
       "      <td>2051</td>\n",
       "      <td>2096</td>\n",
       "      <td>1962</td>\n",
       "      <td>2043</td>\n",
       "      <td>2085</td>\n",
       "      <td>1399</td>\n",
       "    </tr>\n",
       "    <tr>\n",
       "      <th>31</th>\n",
       "      <td>환경범죄</td>\n",
       "      <td>환경범죄</td>\n",
       "      <td>168</td>\n",
       "      <td>749</td>\n",
       "      <td>696</td>\n",
       "      <td>652</td>\n",
       "      <td>653</td>\n",
       "      <td>696</td>\n",
       "      <td>263</td>\n",
       "    </tr>\n",
       "    <tr>\n",
       "      <th>32</th>\n",
       "      <td>교통범죄</td>\n",
       "      <td>교통범죄</td>\n",
       "      <td>47698</td>\n",
       "      <td>51459</td>\n",
       "      <td>53605</td>\n",
       "      <td>54509</td>\n",
       "      <td>54846</td>\n",
       "      <td>58103</td>\n",
       "      <td>57134</td>\n",
       "    </tr>\n",
       "    <tr>\n",
       "      <th>33</th>\n",
       "      <td>노동범죄</td>\n",
       "      <td>노동범죄</td>\n",
       "      <td>85</td>\n",
       "      <td>162</td>\n",
       "      <td>139</td>\n",
       "      <td>168</td>\n",
       "      <td>175</td>\n",
       "      <td>143</td>\n",
       "      <td>103</td>\n",
       "    </tr>\n",
       "    <tr>\n",
       "      <th>34</th>\n",
       "      <td>안보범죄</td>\n",
       "      <td>안보범죄</td>\n",
       "      <td>36</td>\n",
       "      <td>25</td>\n",
       "      <td>13</td>\n",
       "      <td>22</td>\n",
       "      <td>25</td>\n",
       "      <td>24</td>\n",
       "      <td>24</td>\n",
       "    </tr>\n",
       "    <tr>\n",
       "      <th>35</th>\n",
       "      <td>선거범죄</td>\n",
       "      <td>선거범죄</td>\n",
       "      <td>65</td>\n",
       "      <td>90</td>\n",
       "      <td>91</td>\n",
       "      <td>100</td>\n",
       "      <td>113</td>\n",
       "      <td>95</td>\n",
       "      <td>57</td>\n",
       "    </tr>\n",
       "    <tr>\n",
       "      <th>36</th>\n",
       "      <td>병역범죄</td>\n",
       "      <td>병역범죄</td>\n",
       "      <td>111</td>\n",
       "      <td>3068</td>\n",
       "      <td>3580</td>\n",
       "      <td>1940</td>\n",
       "      <td>2082</td>\n",
       "      <td>1834</td>\n",
       "      <td>97</td>\n",
       "    </tr>\n",
       "    <tr>\n",
       "      <th>37</th>\n",
       "      <td>기타범죄</td>\n",
       "      <td>기타범죄</td>\n",
       "      <td>25278</td>\n",
       "      <td>39244</td>\n",
       "      <td>37277</td>\n",
       "      <td>36996</td>\n",
       "      <td>37250</td>\n",
       "      <td>37367</td>\n",
       "      <td>26756</td>\n",
       "    </tr>\n",
       "  </tbody>\n",
       "</table>\n",
       "</div>"
      ],
      "text/plain": [
       "     범죄대분류        범죄중분류      일      월      화      수      목      금      토\n",
       "0     강력범죄         살인기수     38     45     48     40     37     49     40\n",
       "1     강력범죄        살인미수등     71     70     68     62     73     85     53\n",
       "2     강력범죄           강도    111    113    116    105    124    121    108\n",
       "3     강력범죄           강간    869    686    734    719    682    722    898\n",
       "4     강력범죄         유사강간    145     99    109     92     89    112    136\n",
       "5     강력범죄         강제추행   2580   2272   2306   2358   2231   2542   2831\n",
       "6     강력범죄  기타 강간 강제추행등     58     53     45     49     39     43     38\n",
       "7     강력범죄           방화    209    181    181    209    170    206    206\n",
       "8     절도범죄           절도  25466  26239  25671  26061  26098  28156  29266\n",
       "9     폭력범죄           상해   5693   4908   5063   5038   5110   5270   5776\n",
       "10    폭력범죄           폭행  25865  19966  20766  20981  21080  22045  26494\n",
       "11    폭력범죄        체포 감금    180    189    170    171    169    196    168\n",
       "12    폭력범죄           협박   2886   3013   3039   3072   2961   3040   3011\n",
       "13    폭력범죄        약취 유인     27     40     41     34     32     40     36\n",
       "14    폭력범죄        폭력행위등   1544   1126   1100   1086   1001   1063   1430\n",
       "15    폭력범죄           공갈    483    818    740    757    744    756    549\n",
       "16    폭력범죄           손괴   8617   7974   7634   7766   7989   8788   9378\n",
       "17    지능범죄         직무유기     24    108    123    106     99    102     28\n",
       "18    지능범죄         직권남용     44    126    118     97    107    136     46\n",
       "19    지능범죄          증수뢰     13     46     42     52     42     45     20\n",
       "20    지능범죄           통화     35    186    169    187    177    178     48\n",
       "21    지능범죄        문서 인장    620   2130   1971   1840   2032   1978    772\n",
       "22    지능범죄       유가증권인지      8     22     16     30     21     24     19\n",
       "23    지능범죄           사기  20814  52740  51876  51225  51654  52039  24124\n",
       "24    지능범죄           횡령   7231   8559   8128   8318   8460   9317   8495\n",
       "25    지능범죄           배임    248    859    730    787    735    905    302\n",
       "26    풍속범죄        성풍속범죄   1614   1957   1956   2066   1900   1982   1670\n",
       "27    풍속범죄         도박범죄    915   1106   1174   1237   1304   1291    981\n",
       "28  특별경제범죄       특별경제범죄   3948   8724   8608   8477   8432   8502   4709\n",
       "29    마약범죄         마약범죄    789   1278   1352   1219   1195   1272    933\n",
       "30    보건범죄         보건범죄    934   2051   2096   1962   2043   2085   1399\n",
       "31    환경범죄         환경범죄    168    749    696    652    653    696    263\n",
       "32    교통범죄         교통범죄  47698  51459  53605  54509  54846  58103  57134\n",
       "33    노동범죄         노동범죄     85    162    139    168    175    143    103\n",
       "34    안보범죄         안보범죄     36     25     13     22     25     24     24\n",
       "35    선거범죄         선거범죄     65     90     91    100    113     95     57\n",
       "36    병역범죄         병역범죄    111   3068   3580   1940   2082   1834     97\n",
       "37    기타범죄         기타범죄  25278  39244  37277  36996  37250  37367  26756"
      ]
     },
     "execution_count": 202,
     "metadata": {},
     "output_type": "execute_result"
    }
   ],
   "source": [
    "ZZ_days"
   ]
  },
  {
   "cell_type": "code",
   "execution_count": null,
   "metadata": {},
   "outputs": [],
   "source": []
  },
  {
   "cell_type": "code",
   "execution_count": null,
   "metadata": {},
   "outputs": [],
   "source": []
  },
  {
   "cell_type": "code",
   "execution_count": 203,
   "metadata": {},
   "outputs": [],
   "source": [
    "ZZ_grouped = ZZ_days.groupby(by='범죄대분류').sum()"
   ]
  },
  {
   "cell_type": "code",
   "execution_count": null,
   "metadata": {},
   "outputs": [],
   "source": []
  },
  {
   "cell_type": "code",
   "execution_count": null,
   "metadata": {},
   "outputs": [],
   "source": []
  },
  {
   "cell_type": "code",
   "execution_count": 133,
   "metadata": {},
   "outputs": [
    {
     "name": "stdout",
     "output_type": "stream",
     "text": [
      "Collecting seaborn\n",
      "  Downloading seaborn-0.13.0-py3-none-any.whl.metadata (5.3 kB)\n",
      "Requirement already satisfied: numpy!=1.24.0,>=1.20 in /Users/jinhojeon/.pyenv/versions/3.11-dev/lib/python3.11/site-packages (from seaborn) (1.26.0)\n",
      "Requirement already satisfied: pandas>=1.2 in /Users/jinhojeon/.pyenv/versions/3.11-dev/lib/python3.11/site-packages (from seaborn) (2.1.1)\n",
      "Requirement already satisfied: matplotlib!=3.6.1,>=3.3 in /Users/jinhojeon/.pyenv/versions/3.11-dev/lib/python3.11/site-packages (from seaborn) (3.8.0)\n",
      "Requirement already satisfied: contourpy>=1.0.1 in /Users/jinhojeon/.pyenv/versions/3.11-dev/lib/python3.11/site-packages (from matplotlib!=3.6.1,>=3.3->seaborn) (1.1.1)\n",
      "Requirement already satisfied: cycler>=0.10 in /Users/jinhojeon/.pyenv/versions/3.11-dev/lib/python3.11/site-packages (from matplotlib!=3.6.1,>=3.3->seaborn) (0.12.0)\n",
      "Requirement already satisfied: fonttools>=4.22.0 in /Users/jinhojeon/.pyenv/versions/3.11-dev/lib/python3.11/site-packages (from matplotlib!=3.6.1,>=3.3->seaborn) (4.43.0)\n",
      "Requirement already satisfied: kiwisolver>=1.0.1 in /Users/jinhojeon/.pyenv/versions/3.11-dev/lib/python3.11/site-packages (from matplotlib!=3.6.1,>=3.3->seaborn) (1.4.5)\n",
      "Requirement already satisfied: packaging>=20.0 in /Users/jinhojeon/.pyenv/versions/3.11-dev/lib/python3.11/site-packages (from matplotlib!=3.6.1,>=3.3->seaborn) (23.1)\n",
      "Requirement already satisfied: pillow>=6.2.0 in /Users/jinhojeon/.pyenv/versions/3.11-dev/lib/python3.11/site-packages (from matplotlib!=3.6.1,>=3.3->seaborn) (10.0.1)\n",
      "Requirement already satisfied: pyparsing>=2.3.1 in /Users/jinhojeon/.pyenv/versions/3.11-dev/lib/python3.11/site-packages (from matplotlib!=3.6.1,>=3.3->seaborn) (3.1.1)\n",
      "Requirement already satisfied: python-dateutil>=2.7 in /Users/jinhojeon/.pyenv/versions/3.11-dev/lib/python3.11/site-packages (from matplotlib!=3.6.1,>=3.3->seaborn) (2.8.2)\n",
      "Requirement already satisfied: pytz>=2020.1 in /Users/jinhojeon/.pyenv/versions/3.11-dev/lib/python3.11/site-packages (from pandas>=1.2->seaborn) (2023.3.post1)\n",
      "Requirement already satisfied: tzdata>=2022.1 in /Users/jinhojeon/.pyenv/versions/3.11-dev/lib/python3.11/site-packages (from pandas>=1.2->seaborn) (2023.3)\n",
      "Requirement already satisfied: six>=1.5 in /Users/jinhojeon/.pyenv/versions/3.11-dev/lib/python3.11/site-packages (from python-dateutil>=2.7->matplotlib!=3.6.1,>=3.3->seaborn) (1.16.0)\n",
      "Downloading seaborn-0.13.0-py3-none-any.whl (294 kB)\n",
      "\u001b[2K   \u001b[90m━━━━━━━━━━━━━━━━━━━━━━━━━━━━━━━━━━━━━━━━\u001b[0m \u001b[32m294.6/294.6 kB\u001b[0m \u001b[31m6.7 MB/s\u001b[0m eta \u001b[36m0:00:00\u001b[0ma \u001b[36m0:00:01\u001b[0m\n",
      "\u001b[?25hInstalling collected packages: seaborn\n",
      "Successfully installed seaborn-0.13.0\n"
     ]
    }
   ],
   "source": [
    "!pip install seaborn"
   ]
  },
  {
   "cell_type": "code",
   "execution_count": null,
   "metadata": {},
   "outputs": [],
   "source": []
  },
  {
   "cell_type": "code",
   "execution_count": 162,
   "metadata": {},
   "outputs": [],
   "source": [
    "import matplotlib.pyplot as plt \n",
    "import seaborn as sns"
   ]
  },
  {
   "cell_type": "code",
   "execution_count": 163,
   "metadata": {},
   "outputs": [],
   "source": [
    "plt.rcParams['font.family'] = 'AppleGothic'"
   ]
  },
  {
   "cell_type": "code",
   "execution_count": null,
   "metadata": {},
   "outputs": [],
   "source": []
  },
  {
   "cell_type": "code",
   "execution_count": 204,
   "metadata": {},
   "outputs": [],
   "source": [
    "\n",
    "ZZ_grouped_last_filter = ZZ_grouped.drop(columns='범죄중분류',inplace=False)\n",
    "\n",
    "# ZZ_grouped_indexed = ZZ_grouped.set_index('범죄대분류',inplace=True)\n"
   ]
  },
  {
   "cell_type": "code",
   "execution_count": null,
   "metadata": {},
   "outputs": [],
   "source": []
  },
  {
   "cell_type": "code",
   "execution_count": 156,
   "metadata": {},
   "outputs": [
    {
     "data": {
      "text/plain": [
       "Index(['강력범죄', '교통범죄', '기타범죄', '노동범죄', '마약범죄', '병역범죄', '보건범죄', '선거범죄', '안보범죄',\n",
       "       '절도범죄', '지능범죄', '특별경제범죄', '폭력범죄', '풍속범죄', '환경범죄'],\n",
       "      dtype='object', name='범죄대분류')"
      ]
     },
     "execution_count": 156,
     "metadata": {},
     "output_type": "execute_result"
    }
   ],
   "source": [
    "ZZ_grouped_last_filter.index"
   ]
  },
  {
   "cell_type": "code",
   "execution_count": 205,
   "metadata": {},
   "outputs": [],
   "source": [
    "ZZ_grouped_last_filter.drop(index='기타범죄',inplace=True)"
   ]
  },
  {
   "cell_type": "code",
   "execution_count": null,
   "metadata": {},
   "outputs": [],
   "source": []
  },
  {
   "cell_type": "code",
   "execution_count": null,
   "metadata": {},
   "outputs": [],
   "source": []
  },
  {
   "cell_type": "code",
   "execution_count": null,
   "metadata": {},
   "outputs": [],
   "source": []
  },
  {
   "cell_type": "code",
   "execution_count": null,
   "metadata": {},
   "outputs": [],
   "source": []
  },
  {
   "cell_type": "code",
   "execution_count": null,
   "metadata": {},
   "outputs": [],
   "source": []
  },
  {
   "cell_type": "code",
   "execution_count": null,
   "metadata": {},
   "outputs": [],
   "source": []
  },
  {
   "cell_type": "code",
   "execution_count": 167,
   "metadata": {},
   "outputs": [
    {
     "data": {
      "text/plain": [
       "84"
      ]
     },
     "execution_count": 167,
     "metadata": {},
     "output_type": "execute_result"
    }
   ],
   "source": [
    "ZZ_grouped_last_filter.size"
   ]
  },
  {
   "cell_type": "code",
   "execution_count": null,
   "metadata": {},
   "outputs": [],
   "source": []
  },
  {
   "cell_type": "code",
   "execution_count": null,
   "metadata": {},
   "outputs": [],
   "source": []
  },
  {
   "cell_type": "code",
   "execution_count": null,
   "metadata": {},
   "outputs": [],
   "source": []
  },
  {
   "cell_type": "code",
   "execution_count": null,
   "metadata": {},
   "outputs": [],
   "source": []
  },
  {
   "cell_type": "code",
   "execution_count": null,
   "metadata": {},
   "outputs": [],
   "source": []
  },
  {
   "cell_type": "code",
   "execution_count": 206,
   "metadata": {},
   "outputs": [
    {
     "data": {
      "text/plain": [
       "<Axes: ylabel='범죄대분류'>"
      ]
     },
     "execution_count": 206,
     "metadata": {},
     "output_type": "execute_result"
    },
    {
     "data": {
      "image/png": "[encoded data removed]",
      "text/plain": [
       "<Figure size 1000x600 with 2 Axes>"
      ]
     },
     "metadata": {},
     "output_type": "display_data"
    }
   ],
   "source": [
    "plt.figure(figsize=(10, 6))\n",
    "sns.heatmap(ZZ_grouped_last_filter, annot=True, fmt='d', cmap='YlGnBu', linewidths=0.5)\n"
   ]
  },
  {
   "cell_type": "code",
   "execution_count": null,
   "metadata": {},
   "outputs": [],
   "source": []
  },
  {
   "cell_type": "code",
   "execution_count": null,
   "metadata": {},
   "outputs": [],
   "source": []
  },
  {
   "cell_type": "code",
   "execution_count": 207,
   "metadata": {},
   "outputs": [
    {
     "ename": "TypeError",
     "evalue": "Must pass either `items`, `like`, or `regex`",
     "output_type": "error",
     "traceback": [
      "\u001b[0;31m---------------------------------------------------------------------------\u001b[0m",
      "\u001b[0;31mTypeError\u001b[0m                                 Traceback (most recent call last)",
      "\u001b[0;32m/var/folders/35/bxf93h8511d2qpsy9_ct84480000gn/T/ipykernel_57500/3678214254.py\u001b[0m in \u001b[0;36m?\u001b[0;34m()\u001b[0m\n\u001b[0;32m----> 1\u001b[0;31m \u001b[0mZZ_grouped_last_filter\u001b[0m\u001b[0;34m.\u001b[0m\u001b[0mfilter\u001b[0m\u001b[0;34m(\u001b[0m\u001b[0;34m)\u001b[0m\u001b[0;34m\u001b[0m\u001b[0;34m\u001b[0m\u001b[0m\n\u001b[0m",
      "\u001b[0;32m~/.pyenv/versions/3.11-dev/lib/python3.11/site-packages/pandas/core/generic.py\u001b[0m in \u001b[0;36m?\u001b[0;34m(self, items, like, regex, axis)\u001b[0m\n\u001b[1;32m   5723\u001b[0m             \u001b[0mmatcher\u001b[0m \u001b[0;34m=\u001b[0m \u001b[0mre\u001b[0m\u001b[0;34m.\u001b[0m\u001b[0mcompile\u001b[0m\u001b[0;34m(\u001b[0m\u001b[0mregex\u001b[0m\u001b[0;34m)\u001b[0m\u001b[0;34m\u001b[0m\u001b[0;34m\u001b[0m\u001b[0m\n\u001b[1;32m   5724\u001b[0m             \u001b[0mvalues\u001b[0m \u001b[0;34m=\u001b[0m \u001b[0mlabels\u001b[0m\u001b[0;34m.\u001b[0m\u001b[0mmap\u001b[0m\u001b[0;34m(\u001b[0m\u001b[0mf\u001b[0m\u001b[0;34m)\u001b[0m\u001b[0;34m\u001b[0m\u001b[0;34m\u001b[0m\u001b[0m\n\u001b[1;32m   5725\u001b[0m             \u001b[0;32mreturn\u001b[0m \u001b[0mself\u001b[0m\u001b[0;34m.\u001b[0m\u001b[0mloc\u001b[0m\u001b[0;34m(\u001b[0m\u001b[0maxis\u001b[0m\u001b[0;34m=\u001b[0m\u001b[0maxis\u001b[0m\u001b[0;34m)\u001b[0m\u001b[0;34m[\u001b[0m\u001b[0mvalues\u001b[0m\u001b[0;34m]\u001b[0m\u001b[0;34m\u001b[0m\u001b[0;34m\u001b[0m\u001b[0m\n\u001b[1;32m   5726\u001b[0m         \u001b[0;32melse\u001b[0m\u001b[0;34m:\u001b[0m\u001b[0;34m\u001b[0m\u001b[0;34m\u001b[0m\u001b[0m\n\u001b[0;32m-> 5727\u001b[0;31m             \u001b[0;32mraise\u001b[0m \u001b[0mTypeError\u001b[0m\u001b[0;34m(\u001b[0m\u001b[0;34m\"Must pass either `items`, `like`, or `regex`\"\u001b[0m\u001b[0;34m)\u001b[0m\u001b[0;34m\u001b[0m\u001b[0;34m\u001b[0m\u001b[0m\n\u001b[0m",
      "\u001b[0;31mTypeError\u001b[0m: Must pass either `items`, `like`, or `regex`"
     ]
    }
   ],
   "source": [
    "ZZ_grouped_last_filter.filter()"
   ]
  },
  {
   "cell_type": "code",
   "execution_count": null,
   "metadata": {},
   "outputs": [],
   "source": []
  },
  {
   "cell_type": "code",
   "execution_count": 208,
   "metadata": {},
   "outputs": [],
   "source": [
    "row_sums = ZZ_grouped_last_filter.sum(axis=1)\n"
   ]
  },
  {
   "cell_type": "code",
   "execution_count": null,
   "metadata": {},
   "outputs": [],
   "source": []
  },
  {
   "cell_type": "code",
   "execution_count": 170,
   "metadata": {},
   "outputs": [
    {
     "data": {
      "text/plain": [
       "범죄대분류\n",
       "강력범죄       22166\n",
       "교통범죄      320220\n",
       "노동범죄         872\n",
       "마약범죄        7105\n",
       "병역범죄       12615\n",
       "보건범죄       11171\n",
       "선거범죄         554\n",
       "안보범죄         145\n",
       "절도범죄      157691\n",
       "지능범죄      347679\n",
       "특별경제범죄     46691\n",
       "폭력범죄      241071\n",
       "풍속범죄       18502\n",
       "환경범죄        3614\n",
       "dtype: int64"
      ]
     },
     "execution_count": 170,
     "metadata": {},
     "output_type": "execute_result"
    }
   ],
   "source": [
    "row_sums"
   ]
  },
  {
   "cell_type": "code",
   "execution_count": 209,
   "metadata": {},
   "outputs": [],
   "source": [
    "ZZ_grouped_last_filter_percent = ZZ_grouped_last_filter.div(row_sums, axis=0) * 100\n"
   ]
  },
  {
   "cell_type": "code",
   "execution_count": null,
   "metadata": {},
   "outputs": [],
   "source": []
  },
  {
   "cell_type": "code",
   "execution_count": 210,
   "metadata": {},
   "outputs": [
    {
     "data": {
      "image/png": "[encoded data removed]",
      "text/plain": [
       "<Figure size 1000x600 with 2 Axes>"
      ]
     },
     "metadata": {},
     "output_type": "display_data"
    }
   ],
   "source": [
    "plt.figure(figsize=(10, 6))\n",
    "\n",
    "# 히트맵 생성\n",
    "ax = sns.heatmap(ZZ_grouped_last_filter_percent, annot=True, fmt='0.1f', cmap='RdYlBu_r', linewidths=0.5, vmin=0, vmax=50)\n",
    "# 생성된 히트맵의 colorbar를 찾아서 눈금 설정\n",
    "cbar = ax.collections[0].colorbar\n",
    "cbar.set_ticks([0, 12.5, 25, 37.5, 50])\n",
    "cbar.set_ticklabels(['0%', '12.5%', '25%', '37.5%', '50%'])\n",
    "\n",
    "plt.show()"
   ]
  },
  {
   "cell_type": "code",
   "execution_count": null,
   "metadata": {},
   "outputs": [],
   "source": []
  },
  {
   "cell_type": "code",
   "execution_count": 197,
   "metadata": {},
   "outputs": [],
   "source": [
    "ZZ_corr = ZZ_grouped_last_filter_percent.corr()"
   ]
  },
  {
   "cell_type": "code",
   "execution_count": null,
   "metadata": {},
   "outputs": [],
   "source": []
  },
  {
   "cell_type": "code",
   "execution_count": 199,
   "metadata": {},
   "outputs": [
    {
     "name": "stderr",
     "output_type": "stream",
     "text": [
      "/Users/jinhojeon/.pyenv/versions/3.11-dev/lib/python3.11/site-packages/seaborn/utils.py:84: UserWarning: Glyph 8722 (\\N{MINUS SIGN}) missing from current font.\n",
      "  fig.canvas.draw()\n"
     ]
    },
    {
     "data": {
      "text/plain": [
       "<Axes: >"
      ]
     },
     "execution_count": 199,
     "metadata": {},
     "output_type": "execute_result"
    },
    {
     "name": "stderr",
     "output_type": "stream",
     "text": [
      "/Users/jinhojeon/.pyenv/versions/3.11-dev/lib/python3.11/site-packages/IPython/core/events.py:93: UserWarning: Glyph 8722 (\\N{MINUS SIGN}) missing from current font.\n",
      "  func(*args, **kwargs)\n",
      "/Users/jinhojeon/.pyenv/versions/3.11-dev/lib/python3.11/site-packages/IPython/core/pylabtools.py:152: UserWarning: Glyph 8722 (\\N{MINUS SIGN}) missing from current font.\n",
      "  fig.canvas.print_figure(bytes_io, **kw)\n"
     ]
    },
    {
     "data": {
      "image/png": "[encoded data removed]",
      "text/plain": [
       "<Figure size 640x480 with 2 Axes>"
      ]
     },
     "metadata": {},
     "output_type": "display_data"
    }
   ],
   "source": [
    "sns.heatmap(ZZ_corr, fmt='0.1f', cmap='RdYlBu_r', annot=True, linewidths=0.5)"
   ]
  },
  {
   "cell_type": "code",
   "execution_count": null,
   "metadata": {},
   "outputs": [],
   "source": []
  },
  {
   "cell_type": "code",
   "execution_count": null,
   "metadata": {},
   "outputs": [],
   "source": []
  },
  {
   "cell_type": "code",
   "execution_count": null,
   "metadata": {},
   "outputs": [],
   "source": []
  },
  {
   "cell_type": "code",
   "execution_count": null,
   "metadata": {},
   "outputs": [],
   "source": []
  },
  {
   "cell_type": "code",
   "execution_count": null,
   "metadata": {},
   "outputs": [],
   "source": []
  },
  {
   "cell_type": "code",
   "execution_count": null,
   "metadata": {},
   "outputs": [],
   "source": []
  },
  {
   "cell_type": "code",
   "execution_count": null,
   "metadata": {},
   "outputs": [],
   "source": []
  },
  {
   "cell_type": "code",
   "execution_count": null,
   "metadata": {},
   "outputs": [],
   "source": []
  },
  {
   "cell_type": "code",
   "execution_count": null,
   "metadata": {},
   "outputs": [],
   "source": []
  },
  {
   "cell_type": "code",
   "execution_count": null,
   "metadata": {},
   "outputs": [],
   "source": []
  },
  {
   "cell_type": "code",
   "execution_count": null,
   "metadata": {},
   "outputs": [],
   "source": []
  },
  {
   "cell_type": "code",
   "execution_count": null,
   "metadata": {},
   "outputs": [],
   "source": []
  },
  {
   "cell_type": "code",
   "execution_count": null,
   "metadata": {},
   "outputs": [],
   "source": []
  },
  {
   "cell_type": "code",
   "execution_count": null,
   "metadata": {},
   "outputs": [],
   "source": []
  },
  {
   "cell_type": "code",
   "execution_count": null,
   "metadata": {},
   "outputs": [],
   "source": []
  },
  {
   "cell_type": "code",
   "execution_count": null,
   "metadata": {},
   "outputs": [],
   "source": []
  },
  {
   "cell_type": "code",
   "execution_count": null,
   "metadata": {},
   "outputs": [],
   "source": []
  },
  {
   "cell_type": "code",
   "execution_count": null,
   "metadata": {},
   "outputs": [],
   "source": []
  },
  {
   "cell_type": "code",
   "execution_count": null,
   "metadata": {},
   "outputs": [],
   "source": []
  },
  {
   "cell_type": "code",
   "execution_count": null,
   "metadata": {},
   "outputs": [],
   "source": []
  },
  {
   "cell_type": "code",
   "execution_count": null,
   "metadata": {},
   "outputs": [],
   "source": []
  },
  {
   "cell_type": "code",
   "execution_count": null,
   "metadata": {},
   "outputs": [],
   "source": []
  },
  {
   "cell_type": "code",
   "execution_count": null,
   "metadata": {},
   "outputs": [],
   "source": []
  },
  {
   "cell_type": "code",
   "execution_count": null,
   "metadata": {},
   "outputs": [],
   "source": []
  },
  {
   "cell_type": "code",
   "execution_count": null,
   "metadata": {},
   "outputs": [],
   "source": []
  },
  {
   "cell_type": "code",
   "execution_count": null,
   "metadata": {},
   "outputs": [],
   "source": []
  },
  {
   "cell_type": "code",
   "execution_count": null,
   "metadata": {},
   "outputs": [],
   "source": []
  },
  {
   "cell_type": "code",
   "execution_count": null,
   "metadata": {},
   "outputs": [],
   "source": []
  },
  {
   "cell_type": "code",
   "execution_count": null,
   "metadata": {},
   "outputs": [],
   "source": []
  },
  {
   "cell_type": "code",
   "execution_count": null,
   "metadata": {},
   "outputs": [],
   "source": []
  },
  {
   "cell_type": "code",
   "execution_count": 140,
   "metadata": {},
   "outputs": [
    {
     "data": {
      "text/plain": [
       "Index(['일', '월', '화', '수', '목', '금'], dtype='object')"
      ]
     },
     "execution_count": 140,
     "metadata": {},
     "output_type": "execute_result"
    }
   ],
   "source": []
  },
  {
   "cell_type": "code",
   "execution_count": null,
   "metadata": {},
   "outputs": [],
   "source": []
  },
  {
   "cell_type": "code",
   "execution_count": null,
   "metadata": {},
   "outputs": [],
   "source": []
  },
  {
   "cell_type": "code",
   "execution_count": null,
   "metadata": {},
   "outputs": [],
   "source": []
  },
  {
   "cell_type": "code",
   "execution_count": null,
   "metadata": {},
   "outputs": [],
   "source": []
  },
  {
   "cell_type": "code",
   "execution_count": null,
   "metadata": {},
   "outputs": [],
   "source": []
  },
  {
   "cell_type": "code",
   "execution_count": null,
   "metadata": {},
   "outputs": [],
   "source": []
  },
  {
   "cell_type": "code",
   "execution_count": null,
   "metadata": {},
   "outputs": [],
   "source": []
  },
  {
   "cell_type": "code",
   "execution_count": null,
   "metadata": {},
   "outputs": [],
   "source": []
  },
  {
   "cell_type": "code",
   "execution_count": null,
   "metadata": {},
   "outputs": [],
   "source": []
  },
  {
   "cell_type": "code",
   "execution_count": null,
   "metadata": {},
   "outputs": [],
   "source": []
  },
  {
   "cell_type": "code",
   "execution_count": null,
   "metadata": {},
   "outputs": [],
   "source": []
  },
  {
   "cell_type": "code",
   "execution_count": null,
   "metadata": {},
   "outputs": [],
   "source": []
  },
  {
   "cell_type": "code",
   "execution_count": null,
   "metadata": {},
   "outputs": [],
   "source": []
  },
  {
   "cell_type": "code",
   "execution_count": null,
   "metadata": {},
   "outputs": [],
   "source": []
  },
  {
   "cell_type": "code",
   "execution_count": null,
   "metadata": {},
   "outputs": [],
   "source": []
  },
  {
   "cell_type": "code",
   "execution_count": null,
   "metadata": {},
   "outputs": [],
   "source": []
  },
  {
   "cell_type": "code",
   "execution_count": null,
   "metadata": {},
   "outputs": [],
   "source": []
  },
  {
   "cell_type": "code",
   "execution_count": null,
   "metadata": {},
   "outputs": [],
   "source": []
  },
  {
   "cell_type": "code",
   "execution_count": null,
   "metadata": {},
   "outputs": [],
   "source": []
  },
  {
   "cell_type": "code",
   "execution_count": null,
   "metadata": {},
   "outputs": [],
   "source": []
  },
  {
   "cell_type": "code",
   "execution_count": null,
   "metadata": {},
   "outputs": [],
   "source": []
  },
  {
   "cell_type": "code",
   "execution_count": null,
   "metadata": {},
   "outputs": [],
   "source": []
  },
  {
   "cell_type": "code",
   "execution_count": null,
   "metadata": {},
   "outputs": [],
   "source": []
  },
  {
   "cell_type": "code",
   "execution_count": null,
   "metadata": {},
   "outputs": [],
   "source": []
  },
  {
   "cell_type": "code",
   "execution_count": null,
   "metadata": {},
   "outputs": [],
   "source": []
  },
  {
   "cell_type": "code",
   "execution_count": null,
   "metadata": {},
   "outputs": [],
   "source": []
  },
  {
   "cell_type": "code",
   "execution_count": null,
   "metadata": {},
   "outputs": [],
   "source": []
  },
  {
   "cell_type": "code",
   "execution_count": null,
   "metadata": {},
   "outputs": [],
   "source": []
  },
  {
   "cell_type": "markdown",
   "metadata": {},
   "source": [
    "<h2> - read_excel -> to_excel </h2>"
   ]
  },
  {
   "cell_type": "code",
   "execution_count": null,
   "metadata": {},
   "outputs": [],
   "source": [
    "X = pd.read_excel(\"2023bus_chungbuk.xlsx\")"
   ]
  },
  {
   "cell_type": "code",
   "execution_count": null,
   "metadata": {},
   "outputs": [
    {
     "data": {
      "text/html": [
       "<div>\n",
       "<style scoped>\n",
       "    .dataframe tbody tr th:only-of-type {\n",
       "        vertical-align: middle;\n",
       "    }\n",
       "\n",
       "    .dataframe tbody tr th {\n",
       "        vertical-align: top;\n",
       "    }\n",
       "\n",
       "    .dataframe thead th {\n",
       "        text-align: right;\n",
       "    }\n",
       "</style>\n",
       "<table border=\"1\" class=\"dataframe\">\n",
       "  <thead>\n",
       "    <tr style=\"text-align: right;\">\n",
       "      <th></th>\n",
       "    </tr>\n",
       "  </thead>\n",
       "  <tbody>\n",
       "  </tbody>\n",
       "</table>\n",
       "</div>"
      ],
      "text/plain": [
       "Empty DataFrame\n",
       "Columns: []\n",
       "Index: []"
      ]
     },
     "execution_count": 60,
     "metadata": {},
     "output_type": "execute_result"
    }
   ],
   "source": [
    "X.head()"
   ]
  },
  {
   "cell_type": "code",
   "execution_count": null,
   "metadata": {},
   "outputs": [],
   "source": []
  },
  {
   "cell_type": "code",
   "execution_count": null,
   "metadata": {},
   "outputs": [],
   "source": []
  },
  {
   "cell_type": "code",
   "execution_count": null,
   "metadata": {},
   "outputs": [],
   "source": []
  },
  {
   "cell_type": "code",
   "execution_count": null,
   "metadata": {},
   "outputs": [],
   "source": []
  },
  {
   "cell_type": "code",
   "execution_count": null,
   "metadata": {},
   "outputs": [],
   "source": []
  },
  {
   "cell_type": "code",
   "execution_count": null,
   "metadata": {},
   "outputs": [],
   "source": []
  },
  {
   "cell_type": "code",
   "execution_count": null,
   "metadata": {},
   "outputs": [],
   "source": []
  },
  {
   "cell_type": "code",
   "execution_count": null,
   "metadata": {},
   "outputs": [],
   "source": []
  },
  {
   "cell_type": "code",
   "execution_count": null,
   "metadata": {},
   "outputs": [],
   "source": []
  },
  {
   "cell_type": "code",
   "execution_count": null,
   "metadata": {},
   "outputs": [],
   "source": []
  },
  {
   "cell_type": "code",
   "execution_count": null,
   "metadata": {},
   "outputs": [],
   "source": []
  },
  {
   "cell_type": "code",
   "execution_count": null,
   "metadata": {},
   "outputs": [],
   "source": []
  },
  {
   "cell_type": "code",
   "execution_count": null,
   "metadata": {},
   "outputs": [],
   "source": []
  },
  {
   "cell_type": "code",
   "execution_count": null,
   "metadata": {},
   "outputs": [],
   "source": []
  }
 ],
 "metadata": {
  "kernelspec": {
   "display_name": "Python 3",
   "language": "python",
   "name": "python3"
  },
  "language_info": {
   "codemirror_mode": {
    "name": "ipython",
    "version": 3
   },
   "file_extension": ".py",
   "mimetype": "text/x-python",
   "name": "python",
   "nbconvert_exporter": "python",
   "pygments_lexer": "ipython3",
   "version": "3.11.5+"
  },
  "orig_nbformat": 4
 },
 "nbformat": 4,
 "nbformat_minor": 2
}
